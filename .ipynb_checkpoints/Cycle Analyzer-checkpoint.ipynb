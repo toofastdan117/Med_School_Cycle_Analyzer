{
 "cells": [
  {
   "cell_type": "markdown",
   "id": "7995ccde-63d2-4bef-84be-1790e78f62c6",
   "metadata": {},
   "source": [
    "# **Cycle Analyzer**"
   ]
  },
  {
   "cell_type": "markdown",
   "id": "4c62f51a-e16d-47d5-a2eb-6580b5d56f13",
   "metadata": {},
   "source": [
    "### Importing the required packages"
   ]
  },
  {
   "cell_type": "code",
   "execution_count": 1,
   "id": "bad99e47-f06f-43e2-bb12-841f52bed234",
   "metadata": {},
   "outputs": [],
   "source": [
    "import pandas as pd \n",
    "import numpy as np\n",
    "import datetime as datetime\n",
    "import matplotlib.pyplot as plt\n",
    "import seaborn as sns\n",
    "import plotly.express as px"
   ]
  },
  {
   "cell_type": "markdown",
   "id": "cd36f282-aac1-4cc1-830b-f0228c461bbb",
   "metadata": {},
   "source": [
    "## Plotting my application cycle"
   ]
  },
  {
   "cell_type": "code",
   "execution_count": 2,
   "id": "4137747e-498d-444c-bf06-6617a0df95a4",
   "metadata": {},
   "outputs": [],
   "source": [
    "# Setting the main file directory\n",
    "main_dir = \"C:/Users/TooFastDan/Documents/MD_PhD Application/Cycle Analyzer\""
   ]
  },
  {
   "cell_type": "code",
   "execution_count": 28,
   "id": "9214410e-d503-4c2d-a165-4ec6c535ae29",
   "metadata": {},
   "outputs": [
    {
     "data": {
      "text/html": [
       "<div>\n",
       "<style scoped>\n",
       "    .dataframe tbody tr th:only-of-type {\n",
       "        vertical-align: middle;\n",
       "    }\n",
       "\n",
       "    .dataframe tbody tr th {\n",
       "        vertical-align: top;\n",
       "    }\n",
       "\n",
       "    .dataframe thead th {\n",
       "        text-align: right;\n",
       "    }\n",
       "</style>\n",
       "<table border=\"1\" class=\"dataframe\">\n",
       "  <thead>\n",
       "    <tr style=\"text-align: right;\">\n",
       "      <th></th>\n",
       "      <th>schools</th>\n",
       "      <th>Actions</th>\n",
       "      <th>Dates</th>\n",
       "      <th>tracker</th>\n",
       "    </tr>\n",
       "  </thead>\n",
       "  <tbody>\n",
       "    <tr>\n",
       "      <th>0</th>\n",
       "      <td>Start</td>\n",
       "      <td>acceptance</td>\n",
       "      <td>2021-05-28 00:00:00</td>\n",
       "      <td>0</td>\n",
       "    </tr>\n",
       "    <tr>\n",
       "      <th>1</th>\n",
       "      <td>University of Iowa</td>\n",
       "      <td>acceptance</td>\n",
       "      <td>2021-12-01 00:00:00</td>\n",
       "      <td>1</td>\n",
       "    </tr>\n",
       "    <tr>\n",
       "      <th>2</th>\n",
       "      <td>Baylor</td>\n",
       "      <td>acceptance</td>\n",
       "      <td>2021-12-23 00:00:00</td>\n",
       "      <td>2</td>\n",
       "    </tr>\n",
       "    <tr>\n",
       "      <th>3</th>\n",
       "      <td>End</td>\n",
       "      <td>acceptance</td>\n",
       "      <td>2022-01-17 17:16:07</td>\n",
       "      <td>2</td>\n",
       "    </tr>\n",
       "    <tr>\n",
       "      <th>4</th>\n",
       "      <td>Harvard</td>\n",
       "      <td>acceptance</td>\n",
       "      <td>NaT</td>\n",
       "      <td>2</td>\n",
       "    </tr>\n",
       "    <tr>\n",
       "      <th>...</th>\n",
       "      <td>...</td>\n",
       "      <td>...</td>\n",
       "      <td>...</td>\n",
       "      <td>...</td>\n",
       "    </tr>\n",
       "    <tr>\n",
       "      <th>243</th>\n",
       "      <td>University of Wisconsin</td>\n",
       "      <td>withdraw</td>\n",
       "      <td>NaT</td>\n",
       "      <td>0</td>\n",
       "    </tr>\n",
       "    <tr>\n",
       "      <th>244</th>\n",
       "      <td>Stony Brook</td>\n",
       "      <td>withdraw</td>\n",
       "      <td>NaT</td>\n",
       "      <td>0</td>\n",
       "    </tr>\n",
       "    <tr>\n",
       "      <th>245</th>\n",
       "      <td>University of Pittsburgh</td>\n",
       "      <td>withdraw</td>\n",
       "      <td>NaT</td>\n",
       "      <td>0</td>\n",
       "    </tr>\n",
       "    <tr>\n",
       "      <th>246</th>\n",
       "      <td>University of Iowa</td>\n",
       "      <td>withdraw</td>\n",
       "      <td>NaT</td>\n",
       "      <td>0</td>\n",
       "    </tr>\n",
       "    <tr>\n",
       "      <th>247</th>\n",
       "      <td>University of Colorado</td>\n",
       "      <td>withdraw</td>\n",
       "      <td>NaT</td>\n",
       "      <td>0</td>\n",
       "    </tr>\n",
       "  </tbody>\n",
       "</table>\n",
       "<p>248 rows × 4 columns</p>\n",
       "</div>"
      ],
      "text/plain": [
       "                      schools     Actions               Dates  tracker\n",
       "0                       Start  acceptance 2021-05-28 00:00:00        0\n",
       "1          University of Iowa  acceptance 2021-12-01 00:00:00        1\n",
       "2                      Baylor  acceptance 2021-12-23 00:00:00        2\n",
       "3                         End  acceptance 2022-01-17 17:16:07        2\n",
       "4                     Harvard  acceptance                 NaT        2\n",
       "..                        ...         ...                 ...      ...\n",
       "243   University of Wisconsin    withdraw                 NaT        0\n",
       "244               Stony Brook    withdraw                 NaT        0\n",
       "245  University of Pittsburgh    withdraw                 NaT        0\n",
       "246        University of Iowa    withdraw                 NaT        0\n",
       "247    University of Colorado    withdraw                 NaT        0\n",
       "\n",
       "[248 rows x 4 columns]"
      ]
     },
     "metadata": {},
     "output_type": "display_data"
    }
   ],
   "source": [
    "# Importing the excel doc and processing it\n",
    "dan = pd.read_excel(main_dir+\"/Dan's Application Cycle.xlsx\")\n",
    "\n",
    "# Getting the actions (column) names and melting the df into a favorable format\n",
    "column_names = list(dan.columns)\n",
    "column_names = [s.lower() for s in column_names]\n",
    "dan.columns = column_names\n",
    "column_names.remove(\"schools\")\n",
    "dan = dan.melt(id_vars=\"schools\", value_vars=column_names, var_name=\"Actions\", value_name=\"Dates\")\n",
    "dan[\"Dates\"] = pd.to_datetime(dan[\"Dates\"])\n",
    "\n",
    "# Grouping by application actions and sorting by date\n",
    "dan_gb1 = dan.groupby(\"Actions\")\n",
    "dan_sort_list1 = []\n",
    "for name, group in dan_gb1:\n",
    "    group = group.sort_values(\"Dates\", ascending=True)\n",
    "    dan_sort_list1.append(group)\n",
    "dan_sort1 = pd.concat(dan_sort_list1, axis=0).reset_index(drop=True)\n",
    "\n",
    "# Ranking the events by date, ignoring dates that are not present\n",
    "numbers = []\n",
    "for action in dan_sort1[\"Actions\"].unique():\n",
    "    n = 0\n",
    "    df = dan_sort1[dan_sort1[\"Actions\"]==action]\n",
    "    for d in df[\"Dates\"]:\n",
    "        if pd.isnull(d):\n",
    "            n = n\n",
    "            numbers.append(n)\n",
    "        else:\n",
    "            n = n + 1\n",
    "            numbers.append(n)\n",
    "dan_sort1[\"tracker\"] = numbers\n",
    "\n",
    "# Adding the start date of the cycle and the current date and sorting\n",
    "start = datetime.datetime(2021, 5, 28)  #AMCAS primary submission\n",
    "start = pd.to_datetime(start)\n",
    "now = datetime.datetime.now()  #current date \n",
    "now = now.strftime(\"%m/%d/%Y %H:%M:%S\")\n",
    "now = pd.to_datetime(now)\n",
    "dan_gb2 = dan_sort1.groupby(\"Actions\")\n",
    "dan_sort_list2 = []\n",
    "for name, group in dan_gb2:\n",
    "    df1 = {\"schools\":\"Start\", \"Actions\":group[\"Actions\"].unique()[0], \"Dates\":start, \"tracker\":0}\n",
    "    df2 = {\"schools\":\"End\", \"Actions\":group[\"Actions\"].unique()[0], \"Dates\":now, \"tracker\":np.max(group[\"tracker\"])}\n",
    "    group = group.append([df1, df2], ignore_index=True)\n",
    "    group = group.sort_values(\"Dates\", ascending=True)\n",
    "    dan_sort_list2.append(group)\n",
    "dan_sort2 = pd.concat(dan_sort_list2, axis=0).reset_index(drop=True)\n",
    "\n",
    "# Displaying the finalized df and optionally exporting to excel\n",
    "display(dan_sort2)\n",
    "#dan_sort2.to_excel(main_dir+\"/Dan's Application Cycle Processed.xlsx\", index=False)"
   ]
  },
  {
   "cell_type": "markdown",
   "id": "63d75590-e891-4bcb-8b7a-d192f4f06f28",
   "metadata": {},
   "source": [
    "### Plotting the Application Cycle as a line graph"
   ]
  },
  {
   "cell_type": "code",
   "execution_count": 27,
   "id": "3d35a58c-1c3e-4f9a-ae35-ea9786b002c3",
   "metadata": {},
   "outputs": [
    {
     "data": {
      "application/vnd.plotly.v1+json": {
       "config": {
        "plotlyServerURL": "https://plot.ly"
       },
       "data": [
        {
         "customdata": [
          [
           "Start",
           "acceptance"
          ],
          [
           "University of Iowa",
           "acceptance"
          ],
          [
           "Baylor",
           "acceptance"
          ],
          [
           "End",
           "acceptance"
          ],
          [
           "Harvard",
           "acceptance"
          ],
          [
           "University of Washington",
           "acceptance"
          ],
          [
           "Duke",
           "acceptance"
          ],
          [
           "UC San Diego",
           "acceptance"
          ],
          [
           "Stanford",
           "acceptance"
          ],
          [
           "UCSF",
           "acceptance"
          ],
          [
           "University of Michigan",
           "acceptance"
          ],
          [
           "Vanderbilt",
           "acceptance"
          ],
          [
           "University of North Carolina",
           "acceptance"
          ],
          [
           "UCLA",
           "acceptance"
          ],
          [
           "University of Pennsylvania",
           "acceptance"
          ],
          [
           "Weill Cornell Tri-I",
           "acceptance"
          ],
          [
           "Northwestern",
           "acceptance"
          ],
          [
           "New York University",
           "acceptance"
          ],
          [
           "Columbia",
           "acceptance"
          ],
          [
           "Johns Hopkins University",
           "acceptance"
          ],
          [
           "Washington University in St. Louis",
           "acceptance"
          ],
          [
           "Yale",
           "acceptance"
          ],
          [
           "Case Western Reserve University",
           "acceptance"
          ],
          [
           "Oregon Health and Science University",
           "acceptance"
          ],
          [
           "UC Irvine",
           "acceptance"
          ],
          [
           "University of Utah",
           "acceptance"
          ],
          [
           "UT Southwestern",
           "acceptance"
          ],
          [
           "University of Wisconsin",
           "acceptance"
          ],
          [
           "Stony Brook",
           "acceptance"
          ],
          [
           "University of Pittsburgh",
           "acceptance"
          ],
          [
           "University of Colorado",
           "acceptance"
          ]
         ],
         "hovertemplate": "Application Events=%{customdata[1]}<br>Dates=%{x}<br>Number of Events=%{y}<br>schools=%{customdata[0]}<extra></extra>",
         "legendgroup": "acceptance",
         "line": {
          "color": "#636efa",
          "dash": "solid",
          "shape": "hv"
         },
         "marker": {
          "symbol": "circle"
         },
         "mode": "lines+markers",
         "name": "acceptance",
         "orientation": "v",
         "showlegend": true,
         "type": "scatter",
         "x": [
          "2021-05-28T00:00:00",
          "2021-12-01T00:00:00",
          "2021-12-23T00:00:00",
          "2022-01-17T17:14:06",
          null,
          null,
          null,
          null,
          null,
          null,
          null,
          null,
          null,
          null,
          null,
          null,
          null,
          null,
          null,
          null,
          null,
          null,
          null,
          null,
          null,
          null,
          null,
          null,
          null,
          null,
          null
         ],
         "xaxis": "x",
         "y": [
          0,
          1,
          2,
          2,
          2,
          2,
          2,
          2,
          2,
          2,
          2,
          2,
          2,
          2,
          2,
          2,
          2,
          2,
          2,
          2,
          2,
          2,
          2,
          2,
          2,
          2,
          2,
          2,
          2,
          2,
          2
         ],
         "yaxis": "y"
        },
        {
         "customdata": [
          [
           "Start",
           "interview"
          ],
          [
           "UT Southwestern",
           "interview"
          ],
          [
           "Northwestern",
           "interview"
          ],
          [
           "Vanderbilt",
           "interview"
          ],
          [
           "Baylor",
           "interview"
          ],
          [
           "Oregon Health and Science University",
           "interview"
          ],
          [
           "University of Iowa",
           "interview"
          ],
          [
           "UC Irvine",
           "interview"
          ],
          [
           "Case Western Reserve University",
           "interview"
          ],
          [
           "University of Washington",
           "interview"
          ],
          [
           "University of North Carolina",
           "interview"
          ],
          [
           "End",
           "interview"
          ],
          [
           "Harvard",
           "interview"
          ],
          [
           "Duke",
           "interview"
          ],
          [
           "UC San Diego",
           "interview"
          ],
          [
           "Stanford",
           "interview"
          ],
          [
           "UCSF",
           "interview"
          ],
          [
           "University of Michigan",
           "interview"
          ],
          [
           "UCLA",
           "interview"
          ],
          [
           "University of Pennsylvania",
           "interview"
          ],
          [
           "Weill Cornell Tri-I",
           "interview"
          ],
          [
           "New York University",
           "interview"
          ],
          [
           "Columbia",
           "interview"
          ],
          [
           "Johns Hopkins University",
           "interview"
          ],
          [
           "Washington University in St. Louis",
           "interview"
          ],
          [
           "Yale",
           "interview"
          ],
          [
           "University of Utah",
           "interview"
          ],
          [
           "University of Wisconsin",
           "interview"
          ],
          [
           "Stony Brook",
           "interview"
          ],
          [
           "University of Pittsburgh",
           "interview"
          ],
          [
           "University of Colorado",
           "interview"
          ]
         ],
         "hovertemplate": "Application Events=%{customdata[1]}<br>Dates=%{x}<br>Number of Events=%{y}<br>schools=%{customdata[0]}<extra></extra>",
         "legendgroup": "interview",
         "line": {
          "color": "#EF553B",
          "dash": "solid",
          "shape": "hv"
         },
         "marker": {
          "symbol": "circle"
         },
         "mode": "lines+markers",
         "name": "interview",
         "orientation": "v",
         "showlegend": true,
         "type": "scatter",
         "x": [
          "2021-05-28T00:00:00",
          "2021-09-17T00:00:00",
          "2021-09-22T00:00:00",
          "2021-10-07T00:00:00",
          "2021-10-21T00:00:00",
          "2021-10-25T00:00:00",
          "2021-11-02T00:00:00",
          "2021-11-15T00:00:00",
          "2021-12-01T00:00:00",
          "2022-01-06T00:00:00",
          "2022-01-09T00:00:00",
          "2022-01-17T17:14:06",
          null,
          null,
          null,
          null,
          null,
          null,
          null,
          null,
          null,
          null,
          null,
          null,
          null,
          null,
          null,
          null,
          null,
          null,
          null
         ],
         "xaxis": "x",
         "y": [
          0,
          1,
          2,
          3,
          4,
          5,
          6,
          7,
          8,
          9,
          10,
          10,
          10,
          10,
          10,
          10,
          10,
          10,
          10,
          10,
          10,
          10,
          10,
          10,
          10,
          10,
          10,
          10,
          10,
          10,
          10
         ],
         "yaxis": "y"
        },
        {
         "customdata": [
          [
           "Start",
           "interview invite"
          ],
          [
           "University of Washington",
           "interview invite"
          ],
          [
           "Northwestern",
           "interview invite"
          ],
          [
           "Case Western Reserve University",
           "interview invite"
          ],
          [
           "UT Southwestern",
           "interview invite"
          ],
          [
           "Vanderbilt",
           "interview invite"
          ],
          [
           "University of Iowa",
           "interview invite"
          ],
          [
           "Oregon Health and Science University",
           "interview invite"
          ],
          [
           "Baylor",
           "interview invite"
          ],
          [
           "UC Irvine",
           "interview invite"
          ],
          [
           "University of North Carolina",
           "interview invite"
          ],
          [
           "End",
           "interview invite"
          ],
          [
           "Harvard",
           "interview invite"
          ],
          [
           "Duke",
           "interview invite"
          ],
          [
           "UC San Diego",
           "interview invite"
          ],
          [
           "Stanford",
           "interview invite"
          ],
          [
           "UCSF",
           "interview invite"
          ],
          [
           "University of Michigan",
           "interview invite"
          ],
          [
           "UCLA",
           "interview invite"
          ],
          [
           "University of Pennsylvania",
           "interview invite"
          ],
          [
           "Weill Cornell Tri-I",
           "interview invite"
          ],
          [
           "New York University",
           "interview invite"
          ],
          [
           "Columbia",
           "interview invite"
          ],
          [
           "Johns Hopkins University",
           "interview invite"
          ],
          [
           "Washington University in St. Louis",
           "interview invite"
          ],
          [
           "Yale",
           "interview invite"
          ],
          [
           "University of Utah",
           "interview invite"
          ],
          [
           "University of Wisconsin",
           "interview invite"
          ],
          [
           "Stony Brook",
           "interview invite"
          ],
          [
           "University of Pittsburgh",
           "interview invite"
          ],
          [
           "University of Colorado",
           "interview invite"
          ]
         ],
         "hovertemplate": "Application Events=%{customdata[1]}<br>Dates=%{x}<br>Number of Events=%{y}<br>schools=%{customdata[0]}<extra></extra>",
         "legendgroup": "interview invite",
         "line": {
          "color": "#00cc96",
          "dash": "solid",
          "shape": "hv"
         },
         "marker": {
          "symbol": "circle"
         },
         "mode": "lines+markers",
         "name": "interview invite",
         "orientation": "v",
         "showlegend": true,
         "type": "scatter",
         "x": [
          "2021-05-28T00:00:00",
          "2021-08-02T18:02:00",
          "2021-08-25T18:01:00",
          "2021-08-26T13:03:00",
          "2021-08-26T17:14:00",
          "2021-08-27T12:34:00",
          "2021-09-08T13:10:00",
          "2021-09-20T15:44:00",
          "2021-09-21T13:36:00",
          "2021-10-25T16:29:00",
          "2021-11-10T17:18:00",
          "2022-01-17T17:14:06",
          null,
          null,
          null,
          null,
          null,
          null,
          null,
          null,
          null,
          null,
          null,
          null,
          null,
          null,
          null,
          null,
          null,
          null,
          null
         ],
         "xaxis": "x",
         "y": [
          0,
          1,
          2,
          3,
          4,
          5,
          6,
          7,
          8,
          9,
          10,
          10,
          10,
          10,
          10,
          10,
          10,
          10,
          10,
          10,
          10,
          10,
          10,
          10,
          10,
          10,
          10,
          10,
          10,
          10,
          10
         ],
         "yaxis": "y"
        },
        {
         "customdata": [
          [
           "Start",
           "rejection"
          ],
          [
           "Weill Cornell Tri-I",
           "rejection"
          ],
          [
           "University of Pittsburgh",
           "rejection"
          ],
          [
           "Stanford",
           "rejection"
          ],
          [
           "Johns Hopkins University",
           "rejection"
          ],
          [
           "UCSF",
           "rejection"
          ],
          [
           "Washington University in St. Louis",
           "rejection"
          ],
          [
           "New York University",
           "rejection"
          ],
          [
           "Yale",
           "rejection"
          ],
          [
           "End",
           "rejection"
          ],
          [
           "Harvard",
           "rejection"
          ],
          [
           "University of Washington",
           "rejection"
          ],
          [
           "Duke",
           "rejection"
          ],
          [
           "UC San Diego",
           "rejection"
          ],
          [
           "University of Michigan",
           "rejection"
          ],
          [
           "Vanderbilt",
           "rejection"
          ],
          [
           "Baylor",
           "rejection"
          ],
          [
           "University of North Carolina",
           "rejection"
          ],
          [
           "UCLA",
           "rejection"
          ],
          [
           "University of Pennsylvania",
           "rejection"
          ],
          [
           "Northwestern",
           "rejection"
          ],
          [
           "Columbia",
           "rejection"
          ],
          [
           "Case Western Reserve University",
           "rejection"
          ],
          [
           "Oregon Health and Science University",
           "rejection"
          ],
          [
           "UC Irvine",
           "rejection"
          ],
          [
           "University of Utah",
           "rejection"
          ],
          [
           "UT Southwestern",
           "rejection"
          ],
          [
           "University of Wisconsin",
           "rejection"
          ],
          [
           "Stony Brook",
           "rejection"
          ],
          [
           "University of Iowa",
           "rejection"
          ],
          [
           "University of Colorado",
           "rejection"
          ]
         ],
         "hovertemplate": "Application Events=%{customdata[1]}<br>Dates=%{x}<br>Number of Events=%{y}<br>schools=%{customdata[0]}<extra></extra>",
         "legendgroup": "rejection",
         "line": {
          "color": "#ab63fa",
          "dash": "solid",
          "shape": "hv"
         },
         "marker": {
          "symbol": "circle"
         },
         "mode": "lines+markers",
         "name": "rejection",
         "orientation": "v",
         "showlegend": true,
         "type": "scatter",
         "x": [
          "2021-05-28T00:00:00",
          "2021-08-06T12:26:00",
          "2021-10-01T16:06:00",
          "2021-10-07T04:00:00",
          "2021-11-09T13:27:00",
          "2021-12-02T21:01:00",
          "2021-12-06T16:57:00",
          "2021-12-08T16:03:00",
          "2021-12-16T08:57:00",
          "2022-01-17T17:14:06",
          null,
          null,
          null,
          null,
          null,
          null,
          null,
          null,
          null,
          null,
          null,
          null,
          null,
          null,
          null,
          null,
          null,
          null,
          null,
          null,
          null
         ],
         "xaxis": "x",
         "y": [
          0,
          1,
          2,
          3,
          4,
          5,
          6,
          7,
          8,
          8,
          8,
          8,
          8,
          8,
          8,
          8,
          8,
          8,
          8,
          8,
          8,
          8,
          8,
          8,
          8,
          8,
          8,
          8,
          8,
          8,
          8
         ],
         "yaxis": "y"
        },
        {
         "customdata": [
          [
           "Start",
           "secondary invite"
          ],
          [
           "University of Michigan",
           "secondary invite"
          ],
          [
           "New York University",
           "secondary invite"
          ],
          [
           "University of Pennsylvania",
           "secondary invite"
          ],
          [
           "UT Southwestern",
           "secondary invite"
          ],
          [
           "Johns Hopkins University",
           "secondary invite"
          ],
          [
           "Stony Brook",
           "secondary invite"
          ],
          [
           "UC San Diego",
           "secondary invite"
          ],
          [
           "University of Pittsburgh",
           "secondary invite"
          ],
          [
           "Baylor",
           "secondary invite"
          ],
          [
           "Washington University in St. Louis",
           "secondary invite"
          ],
          [
           "Stanford",
           "secondary invite"
          ],
          [
           "Columbia",
           "secondary invite"
          ],
          [
           "University of Iowa",
           "secondary invite"
          ],
          [
           "Harvard",
           "secondary invite"
          ],
          [
           "Weill Cornell Tri-I",
           "secondary invite"
          ],
          [
           "Vanderbilt",
           "secondary invite"
          ],
          [
           "Oregon Health and Science University",
           "secondary invite"
          ],
          [
           "Case Western Reserve University",
           "secondary invite"
          ],
          [
           "University of North Carolina",
           "secondary invite"
          ],
          [
           "UCLA",
           "secondary invite"
          ],
          [
           "University of Washington",
           "secondary invite"
          ],
          [
           "Yale",
           "secondary invite"
          ],
          [
           "UC Irvine",
           "secondary invite"
          ],
          [
           "Duke",
           "secondary invite"
          ],
          [
           "University of Utah",
           "secondary invite"
          ],
          [
           "Northwestern",
           "secondary invite"
          ],
          [
           "University of Wisconsin",
           "secondary invite"
          ],
          [
           "University of Colorado",
           "secondary invite"
          ],
          [
           "UCSF",
           "secondary invite"
          ],
          [
           "End",
           "secondary invite"
          ]
         ],
         "hovertemplate": "Application Events=%{customdata[1]}<br>Dates=%{x}<br>Number of Events=%{y}<br>schools=%{customdata[0]}<extra></extra>",
         "legendgroup": "secondary invite",
         "line": {
          "color": "#FFA15A",
          "dash": "solid",
          "shape": "hv"
         },
         "marker": {
          "symbol": "circle"
         },
         "mode": "lines+markers",
         "name": "secondary invite",
         "orientation": "v",
         "showlegend": true,
         "type": "scatter",
         "x": [
          "2021-05-28T00:00:00",
          "2021-06-25T08:52:00",
          "2021-06-25T14:24:00",
          "2021-06-25T22:01:00",
          "2021-06-26T05:01:00",
          "2021-06-28T10:10:00",
          "2021-06-30T08:34:00",
          "2021-06-30T14:58:00",
          "2021-07-01T10:03:00",
          "2021-07-01T11:10:00",
          "2021-07-01T17:42:00",
          "2021-07-02T12:10:00",
          "2021-07-04T21:18:00",
          "2021-07-06T10:14:00",
          "2021-07-06T10:25:00",
          "2021-07-07T11:46:00",
          "2021-07-07T14:07:00",
          "2021-07-07T15:48:00",
          "2021-07-09T09:15:00",
          "2021-07-09T12:53:00",
          "2021-07-12T06:00:00",
          "2021-07-12T08:33:00",
          "2021-07-12T08:54:00",
          "2021-07-14T05:00:00",
          "2021-07-15T11:08:00",
          "2021-07-15T17:08:00",
          "2021-07-16T10:44:00",
          "2021-07-20T14:21:00",
          "2021-07-20T14:39:00",
          "2021-07-30T20:19:00",
          "2022-01-17T17:14:06"
         ],
         "xaxis": "x",
         "y": [
          0,
          1,
          2,
          3,
          4,
          5,
          6,
          7,
          8,
          9,
          10,
          11,
          12,
          13,
          14,
          15,
          16,
          17,
          18,
          19,
          20,
          21,
          22,
          23,
          24,
          25,
          26,
          27,
          28,
          29,
          29
         ],
         "yaxis": "y"
        },
        {
         "customdata": [
          [
           "Start",
           "secondary submission"
          ],
          [
           "University of Michigan",
           "secondary submission"
          ],
          [
           "UT Southwestern",
           "secondary submission"
          ],
          [
           "New York University",
           "secondary submission"
          ],
          [
           "University of Pennsylvania",
           "secondary submission"
          ],
          [
           "Johns Hopkins University",
           "secondary submission"
          ],
          [
           "Stony Brook",
           "secondary submission"
          ],
          [
           "Baylor",
           "secondary submission"
          ],
          [
           "Washington University in St. Louis",
           "secondary submission"
          ],
          [
           "University of Pittsburgh",
           "secondary submission"
          ],
          [
           "UC San Diego",
           "secondary submission"
          ],
          [
           "Stanford",
           "secondary submission"
          ],
          [
           "Columbia",
           "secondary submission"
          ],
          [
           "University of Iowa",
           "secondary submission"
          ],
          [
           "Harvard",
           "secondary submission"
          ],
          [
           "Weill Cornell Tri-I",
           "secondary submission"
          ],
          [
           "Vanderbilt",
           "secondary submission"
          ],
          [
           "Case Western Reserve University",
           "secondary submission"
          ],
          [
           "University of North Carolina",
           "secondary submission"
          ],
          [
           "Oregon Health and Science University",
           "secondary submission"
          ],
          [
           "University of Washington",
           "secondary submission"
          ],
          [
           "Northwestern",
           "secondary submission"
          ],
          [
           "Duke",
           "secondary submission"
          ],
          [
           "Yale",
           "secondary submission"
          ],
          [
           "UCLA",
           "secondary submission"
          ],
          [
           "UC Irvine",
           "secondary submission"
          ],
          [
           "University of Utah",
           "secondary submission"
          ],
          [
           "University of Colorado",
           "secondary submission"
          ],
          [
           "University of Wisconsin",
           "secondary submission"
          ],
          [
           "UCSF",
           "secondary submission"
          ],
          [
           "End",
           "secondary submission"
          ]
         ],
         "hovertemplate": "Application Events=%{customdata[1]}<br>Dates=%{x}<br>Number of Events=%{y}<br>schools=%{customdata[0]}<extra></extra>",
         "legendgroup": "secondary submission",
         "line": {
          "color": "#19d3f3",
          "dash": "solid",
          "shape": "hv"
         },
         "marker": {
          "symbol": "circle"
         },
         "mode": "lines+markers",
         "name": "secondary submission",
         "orientation": "v",
         "showlegend": true,
         "type": "scatter",
         "x": [
          "2021-05-28T00:00:00",
          "2021-06-26T05:10:00",
          "2021-06-26T22:13:00",
          "2021-06-29T17:11:00",
          "2021-06-30T12:12:00",
          "2021-07-02T03:54:00",
          "2021-07-02T20:07:00",
          "2021-07-03T22:30:00",
          "2021-07-04T19:27:00",
          "2021-07-05T18:31:00",
          "2021-07-06T23:33:00",
          "2021-07-08T16:15:00",
          "2021-07-10T20:20:00",
          "2021-07-11T02:30:00",
          "2021-07-11T21:15:00",
          "2021-07-12T01:55:00",
          "2021-07-14T17:29:00",
          "2021-07-16T14:55:00",
          "2021-07-17T12:28:00",
          "2021-07-18T17:11:00",
          "2021-07-19T13:27:00",
          "2021-07-19T21:57:00",
          "2021-07-24T02:37:00",
          "2021-07-26T00:44:00",
          "2021-07-26T23:53:00",
          "2021-07-28T09:40:00",
          "2021-07-28T23:20:00",
          "2021-08-01T19:26:00",
          "2021-08-23T03:17:00",
          "2021-08-28T13:38:00",
          "2022-01-17T17:14:06"
         ],
         "xaxis": "x",
         "y": [
          0,
          1,
          2,
          3,
          4,
          5,
          6,
          7,
          8,
          9,
          10,
          11,
          12,
          13,
          14,
          15,
          16,
          17,
          18,
          19,
          20,
          21,
          22,
          23,
          24,
          25,
          26,
          27,
          28,
          29,
          29
         ],
         "yaxis": "y"
        },
        {
         "customdata": [
          [
           "Start",
           "waitlist"
          ],
          [
           "University of Colorado",
           "waitlist"
          ],
          [
           "Northwestern",
           "waitlist"
          ],
          [
           "Oregon Health and Science University",
           "waitlist"
          ],
          [
           "UC Irvine",
           "waitlist"
          ],
          [
           "Vanderbilt",
           "waitlist"
          ],
          [
           "University of Washington",
           "waitlist"
          ],
          [
           "Case Western Reserve University",
           "waitlist"
          ],
          [
           "End",
           "waitlist"
          ],
          [
           "Harvard",
           "waitlist"
          ],
          [
           "Duke",
           "waitlist"
          ],
          [
           "UC San Diego",
           "waitlist"
          ],
          [
           "Stanford",
           "waitlist"
          ],
          [
           "UCSF",
           "waitlist"
          ],
          [
           "University of Michigan",
           "waitlist"
          ],
          [
           "Baylor",
           "waitlist"
          ],
          [
           "University of North Carolina",
           "waitlist"
          ],
          [
           "UCLA",
           "waitlist"
          ],
          [
           "University of Pennsylvania",
           "waitlist"
          ],
          [
           "Weill Cornell Tri-I",
           "waitlist"
          ],
          [
           "New York University",
           "waitlist"
          ],
          [
           "Columbia",
           "waitlist"
          ],
          [
           "Johns Hopkins University",
           "waitlist"
          ],
          [
           "Washington University in St. Louis",
           "waitlist"
          ],
          [
           "Yale",
           "waitlist"
          ],
          [
           "University of Utah",
           "waitlist"
          ],
          [
           "UT Southwestern",
           "waitlist"
          ],
          [
           "University of Wisconsin",
           "waitlist"
          ],
          [
           "Stony Brook",
           "waitlist"
          ],
          [
           "University of Pittsburgh",
           "waitlist"
          ],
          [
           "University of Iowa",
           "waitlist"
          ]
         ],
         "hovertemplate": "Application Events=%{customdata[1]}<br>Dates=%{x}<br>Number of Events=%{y}<br>schools=%{customdata[0]}<extra></extra>",
         "legendgroup": "waitlist",
         "line": {
          "color": "#FF6692",
          "dash": "solid",
          "shape": "hv"
         },
         "marker": {
          "symbol": "circle"
         },
         "mode": "lines+markers",
         "name": "waitlist",
         "orientation": "v",
         "showlegend": true,
         "type": "scatter",
         "x": [
          "2021-05-28T00:00:00",
          "2021-09-28T13:01:00",
          "2021-10-22T18:23:00",
          "2021-11-16T12:00:00",
          "2021-12-10T21:49:00",
          "2022-01-07T16:28:00",
          "2022-01-10T19:08:00",
          "2022-01-14T12:54:00",
          "2022-01-17T17:14:06",
          null,
          null,
          null,
          null,
          null,
          null,
          null,
          null,
          null,
          null,
          null,
          null,
          null,
          null,
          null,
          null,
          null,
          null,
          null,
          null,
          null,
          null
         ],
         "xaxis": "x",
         "y": [
          0,
          1,
          2,
          3,
          4,
          5,
          6,
          7,
          7,
          7,
          7,
          7,
          7,
          7,
          7,
          7,
          7,
          7,
          7,
          7,
          7,
          7,
          7,
          7,
          7,
          7,
          7,
          7,
          7,
          7,
          7
         ],
         "yaxis": "y"
        },
        {
         "customdata": [
          [
           "Start",
           "withdraw"
          ],
          [
           "End",
           "withdraw"
          ],
          [
           "Harvard",
           "withdraw"
          ],
          [
           "University of Washington",
           "withdraw"
          ],
          [
           "Duke",
           "withdraw"
          ],
          [
           "UC San Diego",
           "withdraw"
          ],
          [
           "Stanford",
           "withdraw"
          ],
          [
           "UCSF",
           "withdraw"
          ],
          [
           "University of Michigan",
           "withdraw"
          ],
          [
           "Vanderbilt",
           "withdraw"
          ],
          [
           "Baylor",
           "withdraw"
          ],
          [
           "University of North Carolina",
           "withdraw"
          ],
          [
           "UCLA",
           "withdraw"
          ],
          [
           "University of Pennsylvania",
           "withdraw"
          ],
          [
           "Weill Cornell Tri-I",
           "withdraw"
          ],
          [
           "Northwestern",
           "withdraw"
          ],
          [
           "New York University",
           "withdraw"
          ],
          [
           "Columbia",
           "withdraw"
          ],
          [
           "Johns Hopkins University",
           "withdraw"
          ],
          [
           "Washington University in St. Louis",
           "withdraw"
          ],
          [
           "Yale",
           "withdraw"
          ],
          [
           "Case Western Reserve University",
           "withdraw"
          ],
          [
           "Oregon Health and Science University",
           "withdraw"
          ],
          [
           "UC Irvine",
           "withdraw"
          ],
          [
           "University of Utah",
           "withdraw"
          ],
          [
           "UT Southwestern",
           "withdraw"
          ],
          [
           "University of Wisconsin",
           "withdraw"
          ],
          [
           "Stony Brook",
           "withdraw"
          ],
          [
           "University of Pittsburgh",
           "withdraw"
          ],
          [
           "University of Iowa",
           "withdraw"
          ],
          [
           "University of Colorado",
           "withdraw"
          ]
         ],
         "hovertemplate": "Application Events=%{customdata[1]}<br>Dates=%{x}<br>Number of Events=%{y}<br>schools=%{customdata[0]}<extra></extra>",
         "legendgroup": "withdraw",
         "line": {
          "color": "#B6E880",
          "dash": "solid",
          "shape": "hv"
         },
         "marker": {
          "symbol": "circle"
         },
         "mode": "lines+markers",
         "name": "withdraw",
         "orientation": "v",
         "showlegend": true,
         "type": "scatter",
         "x": [
          "2021-05-28T00:00:00",
          "2022-01-17T17:14:06",
          null,
          null,
          null,
          null,
          null,
          null,
          null,
          null,
          null,
          null,
          null,
          null,
          null,
          null,
          null,
          null,
          null,
          null,
          null,
          null,
          null,
          null,
          null,
          null,
          null,
          null,
          null,
          null,
          null
         ],
         "xaxis": "x",
         "y": [
          0,
          0,
          0,
          0,
          0,
          0,
          0,
          0,
          0,
          0,
          0,
          0,
          0,
          0,
          0,
          0,
          0,
          0,
          0,
          0,
          0,
          0,
          0,
          0,
          0,
          0,
          0,
          0,
          0,
          0,
          0
         ],
         "yaxis": "y"
        }
       ],
       "layout": {
        "height": 700,
        "legend": {
         "title": {
          "text": "Application Events"
         },
         "tracegroupgap": 0
        },
        "template": {
         "data": {
          "bar": [
           {
            "error_x": {
             "color": "#f2f5fa"
            },
            "error_y": {
             "color": "#f2f5fa"
            },
            "marker": {
             "line": {
              "color": "rgb(17,17,17)",
              "width": 0.5
             },
             "pattern": {
              "fillmode": "overlay",
              "size": 10,
              "solidity": 0.2
             }
            },
            "type": "bar"
           }
          ],
          "barpolar": [
           {
            "marker": {
             "line": {
              "color": "rgb(17,17,17)",
              "width": 0.5
             },
             "pattern": {
              "fillmode": "overlay",
              "size": 10,
              "solidity": 0.2
             }
            },
            "type": "barpolar"
           }
          ],
          "carpet": [
           {
            "aaxis": {
             "endlinecolor": "#A2B1C6",
             "gridcolor": "#506784",
             "linecolor": "#506784",
             "minorgridcolor": "#506784",
             "startlinecolor": "#A2B1C6"
            },
            "baxis": {
             "endlinecolor": "#A2B1C6",
             "gridcolor": "#506784",
             "linecolor": "#506784",
             "minorgridcolor": "#506784",
             "startlinecolor": "#A2B1C6"
            },
            "type": "carpet"
           }
          ],
          "choropleth": [
           {
            "colorbar": {
             "outlinewidth": 0,
             "ticks": ""
            },
            "type": "choropleth"
           }
          ],
          "contour": [
           {
            "colorbar": {
             "outlinewidth": 0,
             "ticks": ""
            },
            "colorscale": [
             [
              0,
              "#0d0887"
             ],
             [
              0.1111111111111111,
              "#46039f"
             ],
             [
              0.2222222222222222,
              "#7201a8"
             ],
             [
              0.3333333333333333,
              "#9c179e"
             ],
             [
              0.4444444444444444,
              "#bd3786"
             ],
             [
              0.5555555555555556,
              "#d8576b"
             ],
             [
              0.6666666666666666,
              "#ed7953"
             ],
             [
              0.7777777777777778,
              "#fb9f3a"
             ],
             [
              0.8888888888888888,
              "#fdca26"
             ],
             [
              1,
              "#f0f921"
             ]
            ],
            "type": "contour"
           }
          ],
          "contourcarpet": [
           {
            "colorbar": {
             "outlinewidth": 0,
             "ticks": ""
            },
            "type": "contourcarpet"
           }
          ],
          "heatmap": [
           {
            "colorbar": {
             "outlinewidth": 0,
             "ticks": ""
            },
            "colorscale": [
             [
              0,
              "#0d0887"
             ],
             [
              0.1111111111111111,
              "#46039f"
             ],
             [
              0.2222222222222222,
              "#7201a8"
             ],
             [
              0.3333333333333333,
              "#9c179e"
             ],
             [
              0.4444444444444444,
              "#bd3786"
             ],
             [
              0.5555555555555556,
              "#d8576b"
             ],
             [
              0.6666666666666666,
              "#ed7953"
             ],
             [
              0.7777777777777778,
              "#fb9f3a"
             ],
             [
              0.8888888888888888,
              "#fdca26"
             ],
             [
              1,
              "#f0f921"
             ]
            ],
            "type": "heatmap"
           }
          ],
          "heatmapgl": [
           {
            "colorbar": {
             "outlinewidth": 0,
             "ticks": ""
            },
            "colorscale": [
             [
              0,
              "#0d0887"
             ],
             [
              0.1111111111111111,
              "#46039f"
             ],
             [
              0.2222222222222222,
              "#7201a8"
             ],
             [
              0.3333333333333333,
              "#9c179e"
             ],
             [
              0.4444444444444444,
              "#bd3786"
             ],
             [
              0.5555555555555556,
              "#d8576b"
             ],
             [
              0.6666666666666666,
              "#ed7953"
             ],
             [
              0.7777777777777778,
              "#fb9f3a"
             ],
             [
              0.8888888888888888,
              "#fdca26"
             ],
             [
              1,
              "#f0f921"
             ]
            ],
            "type": "heatmapgl"
           }
          ],
          "histogram": [
           {
            "marker": {
             "pattern": {
              "fillmode": "overlay",
              "size": 10,
              "solidity": 0.2
             }
            },
            "type": "histogram"
           }
          ],
          "histogram2d": [
           {
            "colorbar": {
             "outlinewidth": 0,
             "ticks": ""
            },
            "colorscale": [
             [
              0,
              "#0d0887"
             ],
             [
              0.1111111111111111,
              "#46039f"
             ],
             [
              0.2222222222222222,
              "#7201a8"
             ],
             [
              0.3333333333333333,
              "#9c179e"
             ],
             [
              0.4444444444444444,
              "#bd3786"
             ],
             [
              0.5555555555555556,
              "#d8576b"
             ],
             [
              0.6666666666666666,
              "#ed7953"
             ],
             [
              0.7777777777777778,
              "#fb9f3a"
             ],
             [
              0.8888888888888888,
              "#fdca26"
             ],
             [
              1,
              "#f0f921"
             ]
            ],
            "type": "histogram2d"
           }
          ],
          "histogram2dcontour": [
           {
            "colorbar": {
             "outlinewidth": 0,
             "ticks": ""
            },
            "colorscale": [
             [
              0,
              "#0d0887"
             ],
             [
              0.1111111111111111,
              "#46039f"
             ],
             [
              0.2222222222222222,
              "#7201a8"
             ],
             [
              0.3333333333333333,
              "#9c179e"
             ],
             [
              0.4444444444444444,
              "#bd3786"
             ],
             [
              0.5555555555555556,
              "#d8576b"
             ],
             [
              0.6666666666666666,
              "#ed7953"
             ],
             [
              0.7777777777777778,
              "#fb9f3a"
             ],
             [
              0.8888888888888888,
              "#fdca26"
             ],
             [
              1,
              "#f0f921"
             ]
            ],
            "type": "histogram2dcontour"
           }
          ],
          "mesh3d": [
           {
            "colorbar": {
             "outlinewidth": 0,
             "ticks": ""
            },
            "type": "mesh3d"
           }
          ],
          "parcoords": [
           {
            "line": {
             "colorbar": {
              "outlinewidth": 0,
              "ticks": ""
             }
            },
            "type": "parcoords"
           }
          ],
          "pie": [
           {
            "automargin": true,
            "type": "pie"
           }
          ],
          "scatter": [
           {
            "marker": {
             "line": {
              "color": "#283442"
             }
            },
            "type": "scatter"
           }
          ],
          "scatter3d": [
           {
            "line": {
             "colorbar": {
              "outlinewidth": 0,
              "ticks": ""
             }
            },
            "marker": {
             "colorbar": {
              "outlinewidth": 0,
              "ticks": ""
             }
            },
            "type": "scatter3d"
           }
          ],
          "scattercarpet": [
           {
            "marker": {
             "colorbar": {
              "outlinewidth": 0,
              "ticks": ""
             }
            },
            "type": "scattercarpet"
           }
          ],
          "scattergeo": [
           {
            "marker": {
             "colorbar": {
              "outlinewidth": 0,
              "ticks": ""
             }
            },
            "type": "scattergeo"
           }
          ],
          "scattergl": [
           {
            "marker": {
             "line": {
              "color": "#283442"
             }
            },
            "type": "scattergl"
           }
          ],
          "scattermapbox": [
           {
            "marker": {
             "colorbar": {
              "outlinewidth": 0,
              "ticks": ""
             }
            },
            "type": "scattermapbox"
           }
          ],
          "scatterpolar": [
           {
            "marker": {
             "colorbar": {
              "outlinewidth": 0,
              "ticks": ""
             }
            },
            "type": "scatterpolar"
           }
          ],
          "scatterpolargl": [
           {
            "marker": {
             "colorbar": {
              "outlinewidth": 0,
              "ticks": ""
             }
            },
            "type": "scatterpolargl"
           }
          ],
          "scatterternary": [
           {
            "marker": {
             "colorbar": {
              "outlinewidth": 0,
              "ticks": ""
             }
            },
            "type": "scatterternary"
           }
          ],
          "surface": [
           {
            "colorbar": {
             "outlinewidth": 0,
             "ticks": ""
            },
            "colorscale": [
             [
              0,
              "#0d0887"
             ],
             [
              0.1111111111111111,
              "#46039f"
             ],
             [
              0.2222222222222222,
              "#7201a8"
             ],
             [
              0.3333333333333333,
              "#9c179e"
             ],
             [
              0.4444444444444444,
              "#bd3786"
             ],
             [
              0.5555555555555556,
              "#d8576b"
             ],
             [
              0.6666666666666666,
              "#ed7953"
             ],
             [
              0.7777777777777778,
              "#fb9f3a"
             ],
             [
              0.8888888888888888,
              "#fdca26"
             ],
             [
              1,
              "#f0f921"
             ]
            ],
            "type": "surface"
           }
          ],
          "table": [
           {
            "cells": {
             "fill": {
              "color": "#506784"
             },
             "line": {
              "color": "rgb(17,17,17)"
             }
            },
            "header": {
             "fill": {
              "color": "#2a3f5f"
             },
             "line": {
              "color": "rgb(17,17,17)"
             }
            },
            "type": "table"
           }
          ]
         },
         "layout": {
          "annotationdefaults": {
           "arrowcolor": "#f2f5fa",
           "arrowhead": 0,
           "arrowwidth": 1
          },
          "autotypenumbers": "strict",
          "coloraxis": {
           "colorbar": {
            "outlinewidth": 0,
            "ticks": ""
           }
          },
          "colorscale": {
           "diverging": [
            [
             0,
             "#8e0152"
            ],
            [
             0.1,
             "#c51b7d"
            ],
            [
             0.2,
             "#de77ae"
            ],
            [
             0.3,
             "#f1b6da"
            ],
            [
             0.4,
             "#fde0ef"
            ],
            [
             0.5,
             "#f7f7f7"
            ],
            [
             0.6,
             "#e6f5d0"
            ],
            [
             0.7,
             "#b8e186"
            ],
            [
             0.8,
             "#7fbc41"
            ],
            [
             0.9,
             "#4d9221"
            ],
            [
             1,
             "#276419"
            ]
           ],
           "sequential": [
            [
             0,
             "#0d0887"
            ],
            [
             0.1111111111111111,
             "#46039f"
            ],
            [
             0.2222222222222222,
             "#7201a8"
            ],
            [
             0.3333333333333333,
             "#9c179e"
            ],
            [
             0.4444444444444444,
             "#bd3786"
            ],
            [
             0.5555555555555556,
             "#d8576b"
            ],
            [
             0.6666666666666666,
             "#ed7953"
            ],
            [
             0.7777777777777778,
             "#fb9f3a"
            ],
            [
             0.8888888888888888,
             "#fdca26"
            ],
            [
             1,
             "#f0f921"
            ]
           ],
           "sequentialminus": [
            [
             0,
             "#0d0887"
            ],
            [
             0.1111111111111111,
             "#46039f"
            ],
            [
             0.2222222222222222,
             "#7201a8"
            ],
            [
             0.3333333333333333,
             "#9c179e"
            ],
            [
             0.4444444444444444,
             "#bd3786"
            ],
            [
             0.5555555555555556,
             "#d8576b"
            ],
            [
             0.6666666666666666,
             "#ed7953"
            ],
            [
             0.7777777777777778,
             "#fb9f3a"
            ],
            [
             0.8888888888888888,
             "#fdca26"
            ],
            [
             1,
             "#f0f921"
            ]
           ]
          },
          "colorway": [
           "#636efa",
           "#EF553B",
           "#00cc96",
           "#ab63fa",
           "#FFA15A",
           "#19d3f3",
           "#FF6692",
           "#B6E880",
           "#FF97FF",
           "#FECB52"
          ],
          "font": {
           "color": "#f2f5fa"
          },
          "geo": {
           "bgcolor": "rgb(17,17,17)",
           "lakecolor": "rgb(17,17,17)",
           "landcolor": "rgb(17,17,17)",
           "showlakes": true,
           "showland": true,
           "subunitcolor": "#506784"
          },
          "hoverlabel": {
           "align": "left"
          },
          "hovermode": "closest",
          "mapbox": {
           "style": "dark"
          },
          "paper_bgcolor": "rgb(17,17,17)",
          "plot_bgcolor": "rgb(17,17,17)",
          "polar": {
           "angularaxis": {
            "gridcolor": "#506784",
            "linecolor": "#506784",
            "ticks": ""
           },
           "bgcolor": "rgb(17,17,17)",
           "radialaxis": {
            "gridcolor": "#506784",
            "linecolor": "#506784",
            "ticks": ""
           }
          },
          "scene": {
           "xaxis": {
            "backgroundcolor": "rgb(17,17,17)",
            "gridcolor": "#506784",
            "gridwidth": 2,
            "linecolor": "#506784",
            "showbackground": true,
            "ticks": "",
            "zerolinecolor": "#C8D4E3"
           },
           "yaxis": {
            "backgroundcolor": "rgb(17,17,17)",
            "gridcolor": "#506784",
            "gridwidth": 2,
            "linecolor": "#506784",
            "showbackground": true,
            "ticks": "",
            "zerolinecolor": "#C8D4E3"
           },
           "zaxis": {
            "backgroundcolor": "rgb(17,17,17)",
            "gridcolor": "#506784",
            "gridwidth": 2,
            "linecolor": "#506784",
            "showbackground": true,
            "ticks": "",
            "zerolinecolor": "#C8D4E3"
           }
          },
          "shapedefaults": {
           "line": {
            "color": "#f2f5fa"
           }
          },
          "sliderdefaults": {
           "bgcolor": "#C8D4E3",
           "bordercolor": "rgb(17,17,17)",
           "borderwidth": 1,
           "tickwidth": 0
          },
          "ternary": {
           "aaxis": {
            "gridcolor": "#506784",
            "linecolor": "#506784",
            "ticks": ""
           },
           "baxis": {
            "gridcolor": "#506784",
            "linecolor": "#506784",
            "ticks": ""
           },
           "bgcolor": "rgb(17,17,17)",
           "caxis": {
            "gridcolor": "#506784",
            "linecolor": "#506784",
            "ticks": ""
           }
          },
          "title": {
           "x": 0.05
          },
          "updatemenudefaults": {
           "bgcolor": "#506784",
           "borderwidth": 0
          },
          "xaxis": {
           "automargin": true,
           "gridcolor": "#283442",
           "linecolor": "#506784",
           "ticks": "",
           "title": {
            "standoff": 15
           },
           "zerolinecolor": "#283442",
           "zerolinewidth": 2
          },
          "yaxis": {
           "automargin": true,
           "gridcolor": "#283442",
           "linecolor": "#506784",
           "ticks": "",
           "title": {
            "standoff": 15
           },
           "zerolinecolor": "#283442",
           "zerolinewidth": 2
          }
         }
        },
        "title": {
         "text": "Application Cycle Plot"
        },
        "width": 1200,
        "xaxis": {
         "anchor": "y",
         "autorange": true,
         "domain": [
          0,
          1
         ],
         "range": [
          "2021-05-13 18:10:57.1129",
          "2022-01-31 23:03:08.8871"
         ],
         "title": {
          "text": "Dates"
         },
         "type": "date"
        },
        "yaxis": {
         "anchor": "x",
         "autorange": true,
         "domain": [
          0,
          1
         ],
         "range": [
          -1.8735070575461454,
          30.873507057546146
         ],
         "title": {
          "text": "Number of Events"
         },
         "type": "linear"
        }
       }
      },
      "image/png": "[encoded data removed]",
      "text/html": [
       "<div>                            <div id=\"dad39057-8ec9-4040-9214-2ba1fe3c6ec5\" class=\"plotly-graph-div\" style=\"height:700px; width:1200px;\"></div>            <script type=\"text/javascript\">                require([\"plotly\"], function(Plotly) {                    window.PLOTLYENV=window.PLOTLYENV || {};                                    if (document.getElementById(\"dad39057-8ec9-4040-9214-2ba1fe3c6ec5\")) {                    Plotly.newPlot(                        \"dad39057-8ec9-4040-9214-2ba1fe3c6ec5\",                        [{\"customdata\":[[\"Start\",\"acceptance\"],[\"University of Iowa\",\"acceptance\"],[\"Baylor\",\"acceptance\"],[\"End\",\"acceptance\"],[\"Harvard\",\"acceptance\"],[\"University of Washington\",\"acceptance\"],[\"Duke\",\"acceptance\"],[\"UC San Diego\",\"acceptance\"],[\"Stanford\",\"acceptance\"],[\"UCSF\",\"acceptance\"],[\"University of Michigan\",\"acceptance\"],[\"Vanderbilt\",\"acceptance\"],[\"University of North Carolina\",\"acceptance\"],[\"UCLA\",\"acceptance\"],[\"University of Pennsylvania\",\"acceptance\"],[\"Weill Cornell Tri-I\",\"acceptance\"],[\"Northwestern\",\"acceptance\"],[\"New York University\",\"acceptance\"],[\"Columbia\",\"acceptance\"],[\"Johns Hopkins University\",\"acceptance\"],[\"Washington University in St. Louis\",\"acceptance\"],[\"Yale\",\"acceptance\"],[\"Case Western Reserve University\",\"acceptance\"],[\"Oregon Health and Science University\",\"acceptance\"],[\"UC Irvine\",\"acceptance\"],[\"University of Utah\",\"acceptance\"],[\"UT Southwestern\",\"acceptance\"],[\"University of Wisconsin\",\"acceptance\"],[\"Stony Brook\",\"acceptance\"],[\"University of Pittsburgh\",\"acceptance\"],[\"University of Colorado\",\"acceptance\"]],\"hovertemplate\":\"Application Events=%{customdata[1]}<br>Dates=%{x}<br>Number of Events=%{y}<br>schools=%{customdata[0]}<extra></extra>\",\"legendgroup\":\"acceptance\",\"line\":{\"color\":\"#636efa\",\"dash\":\"solid\",\"shape\":\"hv\"},\"marker\":{\"symbol\":\"circle\"},\"mode\":\"lines+markers\",\"name\":\"acceptance\",\"orientation\":\"v\",\"showlegend\":true,\"x\":[\"2021-05-28T00:00:00\",\"2021-12-01T00:00:00\",\"2021-12-23T00:00:00\",\"2022-01-17T17:14:06\",null,null,null,null,null,null,null,null,null,null,null,null,null,null,null,null,null,null,null,null,null,null,null,null,null,null,null],\"xaxis\":\"x\",\"y\":[0,1,2,2,2,2,2,2,2,2,2,2,2,2,2,2,2,2,2,2,2,2,2,2,2,2,2,2,2,2,2],\"yaxis\":\"y\",\"type\":\"scatter\"},{\"customdata\":[[\"Start\",\"interview\"],[\"UT Southwestern\",\"interview\"],[\"Northwestern\",\"interview\"],[\"Vanderbilt\",\"interview\"],[\"Baylor\",\"interview\"],[\"Oregon Health and Science University\",\"interview\"],[\"University of Iowa\",\"interview\"],[\"UC Irvine\",\"interview\"],[\"Case Western Reserve University\",\"interview\"],[\"University of Washington\",\"interview\"],[\"University of North Carolina\",\"interview\"],[\"End\",\"interview\"],[\"Harvard\",\"interview\"],[\"Duke\",\"interview\"],[\"UC San Diego\",\"interview\"],[\"Stanford\",\"interview\"],[\"UCSF\",\"interview\"],[\"University of Michigan\",\"interview\"],[\"UCLA\",\"interview\"],[\"University of Pennsylvania\",\"interview\"],[\"Weill Cornell Tri-I\",\"interview\"],[\"New York University\",\"interview\"],[\"Columbia\",\"interview\"],[\"Johns Hopkins University\",\"interview\"],[\"Washington University in St. Louis\",\"interview\"],[\"Yale\",\"interview\"],[\"University of Utah\",\"interview\"],[\"University of Wisconsin\",\"interview\"],[\"Stony Brook\",\"interview\"],[\"University of Pittsburgh\",\"interview\"],[\"University of Colorado\",\"interview\"]],\"hovertemplate\":\"Application Events=%{customdata[1]}<br>Dates=%{x}<br>Number of Events=%{y}<br>schools=%{customdata[0]}<extra></extra>\",\"legendgroup\":\"interview\",\"line\":{\"color\":\"#EF553B\",\"dash\":\"solid\",\"shape\":\"hv\"},\"marker\":{\"symbol\":\"circle\"},\"mode\":\"lines+markers\",\"name\":\"interview\",\"orientation\":\"v\",\"showlegend\":true,\"x\":[\"2021-05-28T00:00:00\",\"2021-09-17T00:00:00\",\"2021-09-22T00:00:00\",\"2021-10-07T00:00:00\",\"2021-10-21T00:00:00\",\"2021-10-25T00:00:00\",\"2021-11-02T00:00:00\",\"2021-11-15T00:00:00\",\"2021-12-01T00:00:00\",\"2022-01-06T00:00:00\",\"2022-01-09T00:00:00\",\"2022-01-17T17:14:06\",null,null,null,null,null,null,null,null,null,null,null,null,null,null,null,null,null,null,null],\"xaxis\":\"x\",\"y\":[0,1,2,3,4,5,6,7,8,9,10,10,10,10,10,10,10,10,10,10,10,10,10,10,10,10,10,10,10,10,10],\"yaxis\":\"y\",\"type\":\"scatter\"},{\"customdata\":[[\"Start\",\"interview invite\"],[\"University of Washington\",\"interview invite\"],[\"Northwestern\",\"interview invite\"],[\"Case Western Reserve University\",\"interview invite\"],[\"UT Southwestern\",\"interview invite\"],[\"Vanderbilt\",\"interview invite\"],[\"University of Iowa\",\"interview invite\"],[\"Oregon Health and Science University\",\"interview invite\"],[\"Baylor\",\"interview invite\"],[\"UC Irvine\",\"interview invite\"],[\"University of North Carolina\",\"interview invite\"],[\"End\",\"interview invite\"],[\"Harvard\",\"interview invite\"],[\"Duke\",\"interview invite\"],[\"UC San Diego\",\"interview invite\"],[\"Stanford\",\"interview invite\"],[\"UCSF\",\"interview invite\"],[\"University of Michigan\",\"interview invite\"],[\"UCLA\",\"interview invite\"],[\"University of Pennsylvania\",\"interview invite\"],[\"Weill Cornell Tri-I\",\"interview invite\"],[\"New York University\",\"interview invite\"],[\"Columbia\",\"interview invite\"],[\"Johns Hopkins University\",\"interview invite\"],[\"Washington University in St. Louis\",\"interview invite\"],[\"Yale\",\"interview invite\"],[\"University of Utah\",\"interview invite\"],[\"University of Wisconsin\",\"interview invite\"],[\"Stony Brook\",\"interview invite\"],[\"University of Pittsburgh\",\"interview invite\"],[\"University of Colorado\",\"interview invite\"]],\"hovertemplate\":\"Application Events=%{customdata[1]}<br>Dates=%{x}<br>Number of Events=%{y}<br>schools=%{customdata[0]}<extra></extra>\",\"legendgroup\":\"interview invite\",\"line\":{\"color\":\"#00cc96\",\"dash\":\"solid\",\"shape\":\"hv\"},\"marker\":{\"symbol\":\"circle\"},\"mode\":\"lines+markers\",\"name\":\"interview invite\",\"orientation\":\"v\",\"showlegend\":true,\"x\":[\"2021-05-28T00:00:00\",\"2021-08-02T18:02:00\",\"2021-08-25T18:01:00\",\"2021-08-26T13:03:00\",\"2021-08-26T17:14:00\",\"2021-08-27T12:34:00\",\"2021-09-08T13:10:00\",\"2021-09-20T15:44:00\",\"2021-09-21T13:36:00\",\"2021-10-25T16:29:00\",\"2021-11-10T17:18:00\",\"2022-01-17T17:14:06\",null,null,null,null,null,null,null,null,null,null,null,null,null,null,null,null,null,null,null],\"xaxis\":\"x\",\"y\":[0,1,2,3,4,5,6,7,8,9,10,10,10,10,10,10,10,10,10,10,10,10,10,10,10,10,10,10,10,10,10],\"yaxis\":\"y\",\"type\":\"scatter\"},{\"customdata\":[[\"Start\",\"rejection\"],[\"Weill Cornell Tri-I\",\"rejection\"],[\"University of Pittsburgh\",\"rejection\"],[\"Stanford\",\"rejection\"],[\"Johns Hopkins University\",\"rejection\"],[\"UCSF\",\"rejection\"],[\"Washington University in St. Louis\",\"rejection\"],[\"New York University\",\"rejection\"],[\"Yale\",\"rejection\"],[\"End\",\"rejection\"],[\"Harvard\",\"rejection\"],[\"University of Washington\",\"rejection\"],[\"Duke\",\"rejection\"],[\"UC San Diego\",\"rejection\"],[\"University of Michigan\",\"rejection\"],[\"Vanderbilt\",\"rejection\"],[\"Baylor\",\"rejection\"],[\"University of North Carolina\",\"rejection\"],[\"UCLA\",\"rejection\"],[\"University of Pennsylvania\",\"rejection\"],[\"Northwestern\",\"rejection\"],[\"Columbia\",\"rejection\"],[\"Case Western Reserve University\",\"rejection\"],[\"Oregon Health and Science University\",\"rejection\"],[\"UC Irvine\",\"rejection\"],[\"University of Utah\",\"rejection\"],[\"UT Southwestern\",\"rejection\"],[\"University of Wisconsin\",\"rejection\"],[\"Stony Brook\",\"rejection\"],[\"University of Iowa\",\"rejection\"],[\"University of Colorado\",\"rejection\"]],\"hovertemplate\":\"Application Events=%{customdata[1]}<br>Dates=%{x}<br>Number of Events=%{y}<br>schools=%{customdata[0]}<extra></extra>\",\"legendgroup\":\"rejection\",\"line\":{\"color\":\"#ab63fa\",\"dash\":\"solid\",\"shape\":\"hv\"},\"marker\":{\"symbol\":\"circle\"},\"mode\":\"lines+markers\",\"name\":\"rejection\",\"orientation\":\"v\",\"showlegend\":true,\"x\":[\"2021-05-28T00:00:00\",\"2021-08-06T12:26:00\",\"2021-10-01T16:06:00\",\"2021-10-07T04:00:00\",\"2021-11-09T13:27:00\",\"2021-12-02T21:01:00\",\"2021-12-06T16:57:00\",\"2021-12-08T16:03:00\",\"2021-12-16T08:57:00\",\"2022-01-17T17:14:06\",null,null,null,null,null,null,null,null,null,null,null,null,null,null,null,null,null,null,null,null,null],\"xaxis\":\"x\",\"y\":[0,1,2,3,4,5,6,7,8,8,8,8,8,8,8,8,8,8,8,8,8,8,8,8,8,8,8,8,8,8,8],\"yaxis\":\"y\",\"type\":\"scatter\"},{\"customdata\":[[\"Start\",\"secondary invite\"],[\"University of Michigan\",\"secondary invite\"],[\"New York University\",\"secondary invite\"],[\"University of Pennsylvania\",\"secondary invite\"],[\"UT Southwestern\",\"secondary invite\"],[\"Johns Hopkins University\",\"secondary invite\"],[\"Stony Brook\",\"secondary invite\"],[\"UC San Diego\",\"secondary invite\"],[\"University of Pittsburgh\",\"secondary invite\"],[\"Baylor\",\"secondary invite\"],[\"Washington University in St. Louis\",\"secondary invite\"],[\"Stanford\",\"secondary invite\"],[\"Columbia\",\"secondary invite\"],[\"University of Iowa\",\"secondary invite\"],[\"Harvard\",\"secondary invite\"],[\"Weill Cornell Tri-I\",\"secondary invite\"],[\"Vanderbilt\",\"secondary invite\"],[\"Oregon Health and Science University\",\"secondary invite\"],[\"Case Western Reserve University\",\"secondary invite\"],[\"University of North Carolina\",\"secondary invite\"],[\"UCLA\",\"secondary invite\"],[\"University of Washington\",\"secondary invite\"],[\"Yale\",\"secondary invite\"],[\"UC Irvine\",\"secondary invite\"],[\"Duke\",\"secondary invite\"],[\"University of Utah\",\"secondary invite\"],[\"Northwestern\",\"secondary invite\"],[\"University of Wisconsin\",\"secondary invite\"],[\"University of Colorado\",\"secondary invite\"],[\"UCSF\",\"secondary invite\"],[\"End\",\"secondary invite\"]],\"hovertemplate\":\"Application Events=%{customdata[1]}<br>Dates=%{x}<br>Number of Events=%{y}<br>schools=%{customdata[0]}<extra></extra>\",\"legendgroup\":\"secondary invite\",\"line\":{\"color\":\"#FFA15A\",\"dash\":\"solid\",\"shape\":\"hv\"},\"marker\":{\"symbol\":\"circle\"},\"mode\":\"lines+markers\",\"name\":\"secondary invite\",\"orientation\":\"v\",\"showlegend\":true,\"x\":[\"2021-05-28T00:00:00\",\"2021-06-25T08:52:00\",\"2021-06-25T14:24:00\",\"2021-06-25T22:01:00\",\"2021-06-26T05:01:00\",\"2021-06-28T10:10:00\",\"2021-06-30T08:34:00\",\"2021-06-30T14:58:00\",\"2021-07-01T10:03:00\",\"2021-07-01T11:10:00\",\"2021-07-01T17:42:00\",\"2021-07-02T12:10:00\",\"2021-07-04T21:18:00\",\"2021-07-06T10:14:00\",\"2021-07-06T10:25:00\",\"2021-07-07T11:46:00\",\"2021-07-07T14:07:00\",\"2021-07-07T15:48:00\",\"2021-07-09T09:15:00\",\"2021-07-09T12:53:00\",\"2021-07-12T06:00:00\",\"2021-07-12T08:33:00\",\"2021-07-12T08:54:00\",\"2021-07-14T05:00:00\",\"2021-07-15T11:08:00\",\"2021-07-15T17:08:00\",\"2021-07-16T10:44:00\",\"2021-07-20T14:21:00\",\"2021-07-20T14:39:00\",\"2021-07-30T20:19:00\",\"2022-01-17T17:14:06\"],\"xaxis\":\"x\",\"y\":[0,1,2,3,4,5,6,7,8,9,10,11,12,13,14,15,16,17,18,19,20,21,22,23,24,25,26,27,28,29,29],\"yaxis\":\"y\",\"type\":\"scatter\"},{\"customdata\":[[\"Start\",\"secondary submission\"],[\"University of Michigan\",\"secondary submission\"],[\"UT Southwestern\",\"secondary submission\"],[\"New York University\",\"secondary submission\"],[\"University of Pennsylvania\",\"secondary submission\"],[\"Johns Hopkins University\",\"secondary submission\"],[\"Stony Brook\",\"secondary submission\"],[\"Baylor\",\"secondary submission\"],[\"Washington University in St. Louis\",\"secondary submission\"],[\"University of Pittsburgh\",\"secondary submission\"],[\"UC San Diego\",\"secondary submission\"],[\"Stanford\",\"secondary submission\"],[\"Columbia\",\"secondary submission\"],[\"University of Iowa\",\"secondary submission\"],[\"Harvard\",\"secondary submission\"],[\"Weill Cornell Tri-I\",\"secondary submission\"],[\"Vanderbilt\",\"secondary submission\"],[\"Case Western Reserve University\",\"secondary submission\"],[\"University of North Carolina\",\"secondary submission\"],[\"Oregon Health and Science University\",\"secondary submission\"],[\"University of Washington\",\"secondary submission\"],[\"Northwestern\",\"secondary submission\"],[\"Duke\",\"secondary submission\"],[\"Yale\",\"secondary submission\"],[\"UCLA\",\"secondary submission\"],[\"UC Irvine\",\"secondary submission\"],[\"University of Utah\",\"secondary submission\"],[\"University of Colorado\",\"secondary submission\"],[\"University of Wisconsin\",\"secondary submission\"],[\"UCSF\",\"secondary submission\"],[\"End\",\"secondary submission\"]],\"hovertemplate\":\"Application Events=%{customdata[1]}<br>Dates=%{x}<br>Number of Events=%{y}<br>schools=%{customdata[0]}<extra></extra>\",\"legendgroup\":\"secondary submission\",\"line\":{\"color\":\"#19d3f3\",\"dash\":\"solid\",\"shape\":\"hv\"},\"marker\":{\"symbol\":\"circle\"},\"mode\":\"lines+markers\",\"name\":\"secondary submission\",\"orientation\":\"v\",\"showlegend\":true,\"x\":[\"2021-05-28T00:00:00\",\"2021-06-26T05:10:00\",\"2021-06-26T22:13:00\",\"2021-06-29T17:11:00\",\"2021-06-30T12:12:00\",\"2021-07-02T03:54:00\",\"2021-07-02T20:07:00\",\"2021-07-03T22:30:00\",\"2021-07-04T19:27:00\",\"2021-07-05T18:31:00\",\"2021-07-06T23:33:00\",\"2021-07-08T16:15:00\",\"2021-07-10T20:20:00\",\"2021-07-11T02:30:00\",\"2021-07-11T21:15:00\",\"2021-07-12T01:55:00\",\"2021-07-14T17:29:00\",\"2021-07-16T14:55:00\",\"2021-07-17T12:28:00\",\"2021-07-18T17:11:00\",\"2021-07-19T13:27:00\",\"2021-07-19T21:57:00\",\"2021-07-24T02:37:00\",\"2021-07-26T00:44:00\",\"2021-07-26T23:53:00\",\"2021-07-28T09:40:00\",\"2021-07-28T23:20:00\",\"2021-08-01T19:26:00\",\"2021-08-23T03:17:00\",\"2021-08-28T13:38:00\",\"2022-01-17T17:14:06\"],\"xaxis\":\"x\",\"y\":[0,1,2,3,4,5,6,7,8,9,10,11,12,13,14,15,16,17,18,19,20,21,22,23,24,25,26,27,28,29,29],\"yaxis\":\"y\",\"type\":\"scatter\"},{\"customdata\":[[\"Start\",\"waitlist\"],[\"University of Colorado\",\"waitlist\"],[\"Northwestern\",\"waitlist\"],[\"Oregon Health and Science University\",\"waitlist\"],[\"UC Irvine\",\"waitlist\"],[\"Vanderbilt\",\"waitlist\"],[\"University of Washington\",\"waitlist\"],[\"Case Western Reserve University\",\"waitlist\"],[\"End\",\"waitlist\"],[\"Harvard\",\"waitlist\"],[\"Duke\",\"waitlist\"],[\"UC San Diego\",\"waitlist\"],[\"Stanford\",\"waitlist\"],[\"UCSF\",\"waitlist\"],[\"University of Michigan\",\"waitlist\"],[\"Baylor\",\"waitlist\"],[\"University of North Carolina\",\"waitlist\"],[\"UCLA\",\"waitlist\"],[\"University of Pennsylvania\",\"waitlist\"],[\"Weill Cornell Tri-I\",\"waitlist\"],[\"New York University\",\"waitlist\"],[\"Columbia\",\"waitlist\"],[\"Johns Hopkins University\",\"waitlist\"],[\"Washington University in St. Louis\",\"waitlist\"],[\"Yale\",\"waitlist\"],[\"University of Utah\",\"waitlist\"],[\"UT Southwestern\",\"waitlist\"],[\"University of Wisconsin\",\"waitlist\"],[\"Stony Brook\",\"waitlist\"],[\"University of Pittsburgh\",\"waitlist\"],[\"University of Iowa\",\"waitlist\"]],\"hovertemplate\":\"Application Events=%{customdata[1]}<br>Dates=%{x}<br>Number of Events=%{y}<br>schools=%{customdata[0]}<extra></extra>\",\"legendgroup\":\"waitlist\",\"line\":{\"color\":\"#FF6692\",\"dash\":\"solid\",\"shape\":\"hv\"},\"marker\":{\"symbol\":\"circle\"},\"mode\":\"lines+markers\",\"name\":\"waitlist\",\"orientation\":\"v\",\"showlegend\":true,\"x\":[\"2021-05-28T00:00:00\",\"2021-09-28T13:01:00\",\"2021-10-22T18:23:00\",\"2021-11-16T12:00:00\",\"2021-12-10T21:49:00\",\"2022-01-07T16:28:00\",\"2022-01-10T19:08:00\",\"2022-01-14T12:54:00\",\"2022-01-17T17:14:06\",null,null,null,null,null,null,null,null,null,null,null,null,null,null,null,null,null,null,null,null,null,null],\"xaxis\":\"x\",\"y\":[0,1,2,3,4,5,6,7,7,7,7,7,7,7,7,7,7,7,7,7,7,7,7,7,7,7,7,7,7,7,7],\"yaxis\":\"y\",\"type\":\"scatter\"},{\"customdata\":[[\"Start\",\"withdraw\"],[\"End\",\"withdraw\"],[\"Harvard\",\"withdraw\"],[\"University of Washington\",\"withdraw\"],[\"Duke\",\"withdraw\"],[\"UC San Diego\",\"withdraw\"],[\"Stanford\",\"withdraw\"],[\"UCSF\",\"withdraw\"],[\"University of Michigan\",\"withdraw\"],[\"Vanderbilt\",\"withdraw\"],[\"Baylor\",\"withdraw\"],[\"University of North Carolina\",\"withdraw\"],[\"UCLA\",\"withdraw\"],[\"University of Pennsylvania\",\"withdraw\"],[\"Weill Cornell Tri-I\",\"withdraw\"],[\"Northwestern\",\"withdraw\"],[\"New York University\",\"withdraw\"],[\"Columbia\",\"withdraw\"],[\"Johns Hopkins University\",\"withdraw\"],[\"Washington University in St. Louis\",\"withdraw\"],[\"Yale\",\"withdraw\"],[\"Case Western Reserve University\",\"withdraw\"],[\"Oregon Health and Science University\",\"withdraw\"],[\"UC Irvine\",\"withdraw\"],[\"University of Utah\",\"withdraw\"],[\"UT Southwestern\",\"withdraw\"],[\"University of Wisconsin\",\"withdraw\"],[\"Stony Brook\",\"withdraw\"],[\"University of Pittsburgh\",\"withdraw\"],[\"University of Iowa\",\"withdraw\"],[\"University of Colorado\",\"withdraw\"]],\"hovertemplate\":\"Application Events=%{customdata[1]}<br>Dates=%{x}<br>Number of Events=%{y}<br>schools=%{customdata[0]}<extra></extra>\",\"legendgroup\":\"withdraw\",\"line\":{\"color\":\"#B6E880\",\"dash\":\"solid\",\"shape\":\"hv\"},\"marker\":{\"symbol\":\"circle\"},\"mode\":\"lines+markers\",\"name\":\"withdraw\",\"orientation\":\"v\",\"showlegend\":true,\"x\":[\"2021-05-28T00:00:00\",\"2022-01-17T17:14:06\",null,null,null,null,null,null,null,null,null,null,null,null,null,null,null,null,null,null,null,null,null,null,null,null,null,null,null,null,null],\"xaxis\":\"x\",\"y\":[0,0,0,0,0,0,0,0,0,0,0,0,0,0,0,0,0,0,0,0,0,0,0,0,0,0,0,0,0,0,0],\"yaxis\":\"y\",\"type\":\"scatter\"}],                        {\"template\":{\"data\":{\"barpolar\":[{\"marker\":{\"line\":{\"color\":\"rgb(17,17,17)\",\"width\":0.5},\"pattern\":{\"fillmode\":\"overlay\",\"size\":10,\"solidity\":0.2}},\"type\":\"barpolar\"}],\"bar\":[{\"error_x\":{\"color\":\"#f2f5fa\"},\"error_y\":{\"color\":\"#f2f5fa\"},\"marker\":{\"line\":{\"color\":\"rgb(17,17,17)\",\"width\":0.5},\"pattern\":{\"fillmode\":\"overlay\",\"size\":10,\"solidity\":0.2}},\"type\":\"bar\"}],\"carpet\":[{\"aaxis\":{\"endlinecolor\":\"#A2B1C6\",\"gridcolor\":\"#506784\",\"linecolor\":\"#506784\",\"minorgridcolor\":\"#506784\",\"startlinecolor\":\"#A2B1C6\"},\"baxis\":{\"endlinecolor\":\"#A2B1C6\",\"gridcolor\":\"#506784\",\"linecolor\":\"#506784\",\"minorgridcolor\":\"#506784\",\"startlinecolor\":\"#A2B1C6\"},\"type\":\"carpet\"}],\"choropleth\":[{\"colorbar\":{\"outlinewidth\":0,\"ticks\":\"\"},\"type\":\"choropleth\"}],\"contourcarpet\":[{\"colorbar\":{\"outlinewidth\":0,\"ticks\":\"\"},\"type\":\"contourcarpet\"}],\"contour\":[{\"colorbar\":{\"outlinewidth\":0,\"ticks\":\"\"},\"colorscale\":[[0.0,\"#0d0887\"],[0.1111111111111111,\"#46039f\"],[0.2222222222222222,\"#7201a8\"],[0.3333333333333333,\"#9c179e\"],[0.4444444444444444,\"#bd3786\"],[0.5555555555555556,\"#d8576b\"],[0.6666666666666666,\"#ed7953\"],[0.7777777777777778,\"#fb9f3a\"],[0.8888888888888888,\"#fdca26\"],[1.0,\"#f0f921\"]],\"type\":\"contour\"}],\"heatmapgl\":[{\"colorbar\":{\"outlinewidth\":0,\"ticks\":\"\"},\"colorscale\":[[0.0,\"#0d0887\"],[0.1111111111111111,\"#46039f\"],[0.2222222222222222,\"#7201a8\"],[0.3333333333333333,\"#9c179e\"],[0.4444444444444444,\"#bd3786\"],[0.5555555555555556,\"#d8576b\"],[0.6666666666666666,\"#ed7953\"],[0.7777777777777778,\"#fb9f3a\"],[0.8888888888888888,\"#fdca26\"],[1.0,\"#f0f921\"]],\"type\":\"heatmapgl\"}],\"heatmap\":[{\"colorbar\":{\"outlinewidth\":0,\"ticks\":\"\"},\"colorscale\":[[0.0,\"#0d0887\"],[0.1111111111111111,\"#46039f\"],[0.2222222222222222,\"#7201a8\"],[0.3333333333333333,\"#9c179e\"],[0.4444444444444444,\"#bd3786\"],[0.5555555555555556,\"#d8576b\"],[0.6666666666666666,\"#ed7953\"],[0.7777777777777778,\"#fb9f3a\"],[0.8888888888888888,\"#fdca26\"],[1.0,\"#f0f921\"]],\"type\":\"heatmap\"}],\"histogram2dcontour\":[{\"colorbar\":{\"outlinewidth\":0,\"ticks\":\"\"},\"colorscale\":[[0.0,\"#0d0887\"],[0.1111111111111111,\"#46039f\"],[0.2222222222222222,\"#7201a8\"],[0.3333333333333333,\"#9c179e\"],[0.4444444444444444,\"#bd3786\"],[0.5555555555555556,\"#d8576b\"],[0.6666666666666666,\"#ed7953\"],[0.7777777777777778,\"#fb9f3a\"],[0.8888888888888888,\"#fdca26\"],[1.0,\"#f0f921\"]],\"type\":\"histogram2dcontour\"}],\"histogram2d\":[{\"colorbar\":{\"outlinewidth\":0,\"ticks\":\"\"},\"colorscale\":[[0.0,\"#0d0887\"],[0.1111111111111111,\"#46039f\"],[0.2222222222222222,\"#7201a8\"],[0.3333333333333333,\"#9c179e\"],[0.4444444444444444,\"#bd3786\"],[0.5555555555555556,\"#d8576b\"],[0.6666666666666666,\"#ed7953\"],[0.7777777777777778,\"#fb9f3a\"],[0.8888888888888888,\"#fdca26\"],[1.0,\"#f0f921\"]],\"type\":\"histogram2d\"}],\"histogram\":[{\"marker\":{\"pattern\":{\"fillmode\":\"overlay\",\"size\":10,\"solidity\":0.2}},\"type\":\"histogram\"}],\"mesh3d\":[{\"colorbar\":{\"outlinewidth\":0,\"ticks\":\"\"},\"type\":\"mesh3d\"}],\"parcoords\":[{\"line\":{\"colorbar\":{\"outlinewidth\":0,\"ticks\":\"\"}},\"type\":\"parcoords\"}],\"pie\":[{\"automargin\":true,\"type\":\"pie\"}],\"scatter3d\":[{\"line\":{\"colorbar\":{\"outlinewidth\":0,\"ticks\":\"\"}},\"marker\":{\"colorbar\":{\"outlinewidth\":0,\"ticks\":\"\"}},\"type\":\"scatter3d\"}],\"scattercarpet\":[{\"marker\":{\"colorbar\":{\"outlinewidth\":0,\"ticks\":\"\"}},\"type\":\"scattercarpet\"}],\"scattergeo\":[{\"marker\":{\"colorbar\":{\"outlinewidth\":0,\"ticks\":\"\"}},\"type\":\"scattergeo\"}],\"scattergl\":[{\"marker\":{\"line\":{\"color\":\"#283442\"}},\"type\":\"scattergl\"}],\"scattermapbox\":[{\"marker\":{\"colorbar\":{\"outlinewidth\":0,\"ticks\":\"\"}},\"type\":\"scattermapbox\"}],\"scatterpolargl\":[{\"marker\":{\"colorbar\":{\"outlinewidth\":0,\"ticks\":\"\"}},\"type\":\"scatterpolargl\"}],\"scatterpolar\":[{\"marker\":{\"colorbar\":{\"outlinewidth\":0,\"ticks\":\"\"}},\"type\":\"scatterpolar\"}],\"scatter\":[{\"marker\":{\"line\":{\"color\":\"#283442\"}},\"type\":\"scatter\"}],\"scatterternary\":[{\"marker\":{\"colorbar\":{\"outlinewidth\":0,\"ticks\":\"\"}},\"type\":\"scatterternary\"}],\"surface\":[{\"colorbar\":{\"outlinewidth\":0,\"ticks\":\"\"},\"colorscale\":[[0.0,\"#0d0887\"],[0.1111111111111111,\"#46039f\"],[0.2222222222222222,\"#7201a8\"],[0.3333333333333333,\"#9c179e\"],[0.4444444444444444,\"#bd3786\"],[0.5555555555555556,\"#d8576b\"],[0.6666666666666666,\"#ed7953\"],[0.7777777777777778,\"#fb9f3a\"],[0.8888888888888888,\"#fdca26\"],[1.0,\"#f0f921\"]],\"type\":\"surface\"}],\"table\":[{\"cells\":{\"fill\":{\"color\":\"#506784\"},\"line\":{\"color\":\"rgb(17,17,17)\"}},\"header\":{\"fill\":{\"color\":\"#2a3f5f\"},\"line\":{\"color\":\"rgb(17,17,17)\"}},\"type\":\"table\"}]},\"layout\":{\"annotationdefaults\":{\"arrowcolor\":\"#f2f5fa\",\"arrowhead\":0,\"arrowwidth\":1},\"autotypenumbers\":\"strict\",\"coloraxis\":{\"colorbar\":{\"outlinewidth\":0,\"ticks\":\"\"}},\"colorscale\":{\"diverging\":[[0,\"#8e0152\"],[0.1,\"#c51b7d\"],[0.2,\"#de77ae\"],[0.3,\"#f1b6da\"],[0.4,\"#fde0ef\"],[0.5,\"#f7f7f7\"],[0.6,\"#e6f5d0\"],[0.7,\"#b8e186\"],[0.8,\"#7fbc41\"],[0.9,\"#4d9221\"],[1,\"#276419\"]],\"sequential\":[[0.0,\"#0d0887\"],[0.1111111111111111,\"#46039f\"],[0.2222222222222222,\"#7201a8\"],[0.3333333333333333,\"#9c179e\"],[0.4444444444444444,\"#bd3786\"],[0.5555555555555556,\"#d8576b\"],[0.6666666666666666,\"#ed7953\"],[0.7777777777777778,\"#fb9f3a\"],[0.8888888888888888,\"#fdca26\"],[1.0,\"#f0f921\"]],\"sequentialminus\":[[0.0,\"#0d0887\"],[0.1111111111111111,\"#46039f\"],[0.2222222222222222,\"#7201a8\"],[0.3333333333333333,\"#9c179e\"],[0.4444444444444444,\"#bd3786\"],[0.5555555555555556,\"#d8576b\"],[0.6666666666666666,\"#ed7953\"],[0.7777777777777778,\"#fb9f3a\"],[0.8888888888888888,\"#fdca26\"],[1.0,\"#f0f921\"]]},\"colorway\":[\"#636efa\",\"#EF553B\",\"#00cc96\",\"#ab63fa\",\"#FFA15A\",\"#19d3f3\",\"#FF6692\",\"#B6E880\",\"#FF97FF\",\"#FECB52\"],\"font\":{\"color\":\"#f2f5fa\"},\"geo\":{\"bgcolor\":\"rgb(17,17,17)\",\"lakecolor\":\"rgb(17,17,17)\",\"landcolor\":\"rgb(17,17,17)\",\"showlakes\":true,\"showland\":true,\"subunitcolor\":\"#506784\"},\"hoverlabel\":{\"align\":\"left\"},\"hovermode\":\"closest\",\"mapbox\":{\"style\":\"dark\"},\"paper_bgcolor\":\"rgb(17,17,17)\",\"plot_bgcolor\":\"rgb(17,17,17)\",\"polar\":{\"angularaxis\":{\"gridcolor\":\"#506784\",\"linecolor\":\"#506784\",\"ticks\":\"\"},\"bgcolor\":\"rgb(17,17,17)\",\"radialaxis\":{\"gridcolor\":\"#506784\",\"linecolor\":\"#506784\",\"ticks\":\"\"}},\"scene\":{\"xaxis\":{\"backgroundcolor\":\"rgb(17,17,17)\",\"gridcolor\":\"#506784\",\"gridwidth\":2,\"linecolor\":\"#506784\",\"showbackground\":true,\"ticks\":\"\",\"zerolinecolor\":\"#C8D4E3\"},\"yaxis\":{\"backgroundcolor\":\"rgb(17,17,17)\",\"gridcolor\":\"#506784\",\"gridwidth\":2,\"linecolor\":\"#506784\",\"showbackground\":true,\"ticks\":\"\",\"zerolinecolor\":\"#C8D4E3\"},\"zaxis\":{\"backgroundcolor\":\"rgb(17,17,17)\",\"gridcolor\":\"#506784\",\"gridwidth\":2,\"linecolor\":\"#506784\",\"showbackground\":true,\"ticks\":\"\",\"zerolinecolor\":\"#C8D4E3\"}},\"shapedefaults\":{\"line\":{\"color\":\"#f2f5fa\"}},\"sliderdefaults\":{\"bgcolor\":\"#C8D4E3\",\"bordercolor\":\"rgb(17,17,17)\",\"borderwidth\":1,\"tickwidth\":0},\"ternary\":{\"aaxis\":{\"gridcolor\":\"#506784\",\"linecolor\":\"#506784\",\"ticks\":\"\"},\"baxis\":{\"gridcolor\":\"#506784\",\"linecolor\":\"#506784\",\"ticks\":\"\"},\"bgcolor\":\"rgb(17,17,17)\",\"caxis\":{\"gridcolor\":\"#506784\",\"linecolor\":\"#506784\",\"ticks\":\"\"}},\"title\":{\"x\":0.05},\"updatemenudefaults\":{\"bgcolor\":\"#506784\",\"borderwidth\":0},\"xaxis\":{\"automargin\":true,\"gridcolor\":\"#283442\",\"linecolor\":\"#506784\",\"ticks\":\"\",\"title\":{\"standoff\":15},\"zerolinecolor\":\"#283442\",\"zerolinewidth\":2},\"yaxis\":{\"automargin\":true,\"gridcolor\":\"#283442\",\"linecolor\":\"#506784\",\"ticks\":\"\",\"title\":{\"standoff\":15},\"zerolinecolor\":\"#283442\",\"zerolinewidth\":2}}},\"xaxis\":{\"anchor\":\"y\",\"domain\":[0.0,1.0],\"title\":{\"text\":\"Dates\"}},\"yaxis\":{\"anchor\":\"x\",\"domain\":[0.0,1.0],\"title\":{\"text\":\"Number of Events\"}},\"legend\":{\"title\":{\"text\":\"Application Events\"},\"tracegroupgap\":0},\"title\":{\"text\":\"Application Cycle Plot\"},\"height\":700,\"width\":1200},                        {\"responsive\": true}                    ).then(function(){\n",
       "                            \n",
       "var gd = document.getElementById('dad39057-8ec9-4040-9214-2ba1fe3c6ec5');\n",
       "var x = new MutationObserver(function (mutations, observer) {{\n",
       "        var display = window.getComputedStyle(gd).display;\n",
       "        if (!display || display === 'none') {{\n",
       "            console.log([gd, 'removed!']);\n",
       "            Plotly.purge(gd);\n",
       "            observer.disconnect();\n",
       "        }}\n",
       "}});\n",
       "\n",
       "// Listen for the removal of the full notebook cells\n",
       "var notebookContainer = gd.closest('#notebook-container');\n",
       "if (notebookContainer) {{\n",
       "    x.observe(notebookContainer, {childList: true});\n",
       "}}\n",
       "\n",
       "// Listen for the clearing of the current output cell\n",
       "var outputEl = gd.closest('.output');\n",
       "if (outputEl) {{\n",
       "    x.observe(outputEl, {childList: true});\n",
       "}}\n",
       "\n",
       "                        })                };                });            </script>        </div>"
      ]
     },
     "metadata": {},
     "output_type": "display_data"
    }
   ],
   "source": [
    "fig = px.line(dan_sort2, x=\"Dates\", y=\"tracker\", color=\"Actions\", \n",
    "              hover_data=[\"schools\", \"Actions\", \"Dates\"], markers=True, line_shape=\"hv\", \n",
    "              labels={\n",
    "                  \"Dates\": \"Dates\",\n",
    "                  \"tracker\": \"Number of Events\",\n",
    "                  \"Actions\": \"Application Events\"\n",
    "              },\n",
    "              title=\"Application Cycle Plot\", \n",
    "              template=\"plotly_dark\", width=1200, height=700)\n",
    "fig.show()"
   ]
  },
  {
   "cell_type": "code",
   "execution_count": 9,
   "id": "cf247b93-bb9a-4ab8-a364-9d66eb4abd4c",
   "metadata": {},
   "outputs": [
    {
     "data": {
      "text/plain": [
       "\u001b[1;31mSignature:\u001b[0m\n",
       "\u001b[0mpx\u001b[0m\u001b[1;33m.\u001b[0m\u001b[0mline\u001b[0m\u001b[1;33m(\u001b[0m\u001b[1;33m\n",
       "\u001b[0m    \u001b[0mdata_frame\u001b[0m\u001b[1;33m=\u001b[0m\u001b[1;32mNone\u001b[0m\u001b[1;33m,\u001b[0m\u001b[1;33m\n",
       "\u001b[0m    \u001b[0mx\u001b[0m\u001b[1;33m=\u001b[0m\u001b[1;32mNone\u001b[0m\u001b[1;33m,\u001b[0m\u001b[1;33m\n",
       "\u001b[0m    \u001b[0my\u001b[0m\u001b[1;33m=\u001b[0m\u001b[1;32mNone\u001b[0m\u001b[1;33m,\u001b[0m\u001b[1;33m\n",
       "\u001b[0m    \u001b[0mline_group\u001b[0m\u001b[1;33m=\u001b[0m\u001b[1;32mNone\u001b[0m\u001b[1;33m,\u001b[0m\u001b[1;33m\n",
       "\u001b[0m    \u001b[0mcolor\u001b[0m\u001b[1;33m=\u001b[0m\u001b[1;32mNone\u001b[0m\u001b[1;33m,\u001b[0m\u001b[1;33m\n",
       "\u001b[0m    \u001b[0mline_dash\u001b[0m\u001b[1;33m=\u001b[0m\u001b[1;32mNone\u001b[0m\u001b[1;33m,\u001b[0m\u001b[1;33m\n",
       "\u001b[0m    \u001b[0msymbol\u001b[0m\u001b[1;33m=\u001b[0m\u001b[1;32mNone\u001b[0m\u001b[1;33m,\u001b[0m\u001b[1;33m\n",
       "\u001b[0m    \u001b[0mhover_name\u001b[0m\u001b[1;33m=\u001b[0m\u001b[1;32mNone\u001b[0m\u001b[1;33m,\u001b[0m\u001b[1;33m\n",
       "\u001b[0m    \u001b[0mhover_data\u001b[0m\u001b[1;33m=\u001b[0m\u001b[1;32mNone\u001b[0m\u001b[1;33m,\u001b[0m\u001b[1;33m\n",
       "\u001b[0m    \u001b[0mcustom_data\u001b[0m\u001b[1;33m=\u001b[0m\u001b[1;32mNone\u001b[0m\u001b[1;33m,\u001b[0m\u001b[1;33m\n",
       "\u001b[0m    \u001b[0mtext\u001b[0m\u001b[1;33m=\u001b[0m\u001b[1;32mNone\u001b[0m\u001b[1;33m,\u001b[0m\u001b[1;33m\n",
       "\u001b[0m    \u001b[0mfacet_row\u001b[0m\u001b[1;33m=\u001b[0m\u001b[1;32mNone\u001b[0m\u001b[1;33m,\u001b[0m\u001b[1;33m\n",
       "\u001b[0m    \u001b[0mfacet_col\u001b[0m\u001b[1;33m=\u001b[0m\u001b[1;32mNone\u001b[0m\u001b[1;33m,\u001b[0m\u001b[1;33m\n",
       "\u001b[0m    \u001b[0mfacet_col_wrap\u001b[0m\u001b[1;33m=\u001b[0m\u001b[1;36m0\u001b[0m\u001b[1;33m,\u001b[0m\u001b[1;33m\n",
       "\u001b[0m    \u001b[0mfacet_row_spacing\u001b[0m\u001b[1;33m=\u001b[0m\u001b[1;32mNone\u001b[0m\u001b[1;33m,\u001b[0m\u001b[1;33m\n",
       "\u001b[0m    \u001b[0mfacet_col_spacing\u001b[0m\u001b[1;33m=\u001b[0m\u001b[1;32mNone\u001b[0m\u001b[1;33m,\u001b[0m\u001b[1;33m\n",
       "\u001b[0m    \u001b[0merror_x\u001b[0m\u001b[1;33m=\u001b[0m\u001b[1;32mNone\u001b[0m\u001b[1;33m,\u001b[0m\u001b[1;33m\n",
       "\u001b[0m    \u001b[0merror_x_minus\u001b[0m\u001b[1;33m=\u001b[0m\u001b[1;32mNone\u001b[0m\u001b[1;33m,\u001b[0m\u001b[1;33m\n",
       "\u001b[0m    \u001b[0merror_y\u001b[0m\u001b[1;33m=\u001b[0m\u001b[1;32mNone\u001b[0m\u001b[1;33m,\u001b[0m\u001b[1;33m\n",
       "\u001b[0m    \u001b[0merror_y_minus\u001b[0m\u001b[1;33m=\u001b[0m\u001b[1;32mNone\u001b[0m\u001b[1;33m,\u001b[0m\u001b[1;33m\n",
       "\u001b[0m    \u001b[0manimation_frame\u001b[0m\u001b[1;33m=\u001b[0m\u001b[1;32mNone\u001b[0m\u001b[1;33m,\u001b[0m\u001b[1;33m\n",
       "\u001b[0m    \u001b[0manimation_group\u001b[0m\u001b[1;33m=\u001b[0m\u001b[1;32mNone\u001b[0m\u001b[1;33m,\u001b[0m\u001b[1;33m\n",
       "\u001b[0m    \u001b[0mcategory_orders\u001b[0m\u001b[1;33m=\u001b[0m\u001b[1;32mNone\u001b[0m\u001b[1;33m,\u001b[0m\u001b[1;33m\n",
       "\u001b[0m    \u001b[0mlabels\u001b[0m\u001b[1;33m=\u001b[0m\u001b[1;32mNone\u001b[0m\u001b[1;33m,\u001b[0m\u001b[1;33m\n",
       "\u001b[0m    \u001b[0morientation\u001b[0m\u001b[1;33m=\u001b[0m\u001b[1;32mNone\u001b[0m\u001b[1;33m,\u001b[0m\u001b[1;33m\n",
       "\u001b[0m    \u001b[0mcolor_discrete_sequence\u001b[0m\u001b[1;33m=\u001b[0m\u001b[1;32mNone\u001b[0m\u001b[1;33m,\u001b[0m\u001b[1;33m\n",
       "\u001b[0m    \u001b[0mcolor_discrete_map\u001b[0m\u001b[1;33m=\u001b[0m\u001b[1;32mNone\u001b[0m\u001b[1;33m,\u001b[0m\u001b[1;33m\n",
       "\u001b[0m    \u001b[0mline_dash_sequence\u001b[0m\u001b[1;33m=\u001b[0m\u001b[1;32mNone\u001b[0m\u001b[1;33m,\u001b[0m\u001b[1;33m\n",
       "\u001b[0m    \u001b[0mline_dash_map\u001b[0m\u001b[1;33m=\u001b[0m\u001b[1;32mNone\u001b[0m\u001b[1;33m,\u001b[0m\u001b[1;33m\n",
       "\u001b[0m    \u001b[0msymbol_sequence\u001b[0m\u001b[1;33m=\u001b[0m\u001b[1;32mNone\u001b[0m\u001b[1;33m,\u001b[0m\u001b[1;33m\n",
       "\u001b[0m    \u001b[0msymbol_map\u001b[0m\u001b[1;33m=\u001b[0m\u001b[1;32mNone\u001b[0m\u001b[1;33m,\u001b[0m\u001b[1;33m\n",
       "\u001b[0m    \u001b[0mmarkers\u001b[0m\u001b[1;33m=\u001b[0m\u001b[1;32mFalse\u001b[0m\u001b[1;33m,\u001b[0m\u001b[1;33m\n",
       "\u001b[0m    \u001b[0mlog_x\u001b[0m\u001b[1;33m=\u001b[0m\u001b[1;32mFalse\u001b[0m\u001b[1;33m,\u001b[0m\u001b[1;33m\n",
       "\u001b[0m    \u001b[0mlog_y\u001b[0m\u001b[1;33m=\u001b[0m\u001b[1;32mFalse\u001b[0m\u001b[1;33m,\u001b[0m\u001b[1;33m\n",
       "\u001b[0m    \u001b[0mrange_x\u001b[0m\u001b[1;33m=\u001b[0m\u001b[1;32mNone\u001b[0m\u001b[1;33m,\u001b[0m\u001b[1;33m\n",
       "\u001b[0m    \u001b[0mrange_y\u001b[0m\u001b[1;33m=\u001b[0m\u001b[1;32mNone\u001b[0m\u001b[1;33m,\u001b[0m\u001b[1;33m\n",
       "\u001b[0m    \u001b[0mline_shape\u001b[0m\u001b[1;33m=\u001b[0m\u001b[1;32mNone\u001b[0m\u001b[1;33m,\u001b[0m\u001b[1;33m\n",
       "\u001b[0m    \u001b[0mrender_mode\u001b[0m\u001b[1;33m=\u001b[0m\u001b[1;34m'auto'\u001b[0m\u001b[1;33m,\u001b[0m\u001b[1;33m\n",
       "\u001b[0m    \u001b[0mtitle\u001b[0m\u001b[1;33m=\u001b[0m\u001b[1;32mNone\u001b[0m\u001b[1;33m,\u001b[0m\u001b[1;33m\n",
       "\u001b[0m    \u001b[0mtemplate\u001b[0m\u001b[1;33m=\u001b[0m\u001b[1;32mNone\u001b[0m\u001b[1;33m,\u001b[0m\u001b[1;33m\n",
       "\u001b[0m    \u001b[0mwidth\u001b[0m\u001b[1;33m=\u001b[0m\u001b[1;32mNone\u001b[0m\u001b[1;33m,\u001b[0m\u001b[1;33m\n",
       "\u001b[0m    \u001b[0mheight\u001b[0m\u001b[1;33m=\u001b[0m\u001b[1;32mNone\u001b[0m\u001b[1;33m,\u001b[0m\u001b[1;33m\n",
       "\u001b[0m\u001b[1;33m)\u001b[0m\u001b[1;33m\u001b[0m\u001b[1;33m\u001b[0m\u001b[0m\n",
       "\u001b[1;31mDocstring:\u001b[0m\n",
       "    In a 2D line plot, each row of `data_frame` is represented as vertex of\n",
       "    a polyline mark in 2D space.\n",
       "    \n",
       "Parameters\n",
       "----------\n",
       "data_frame: DataFrame or array-like or dict\n",
       "    This argument needs to be passed for column names (and not keyword\n",
       "    names) to be used. Array-like and dict are tranformed internally to a\n",
       "    pandas DataFrame. Optional: if missing, a DataFrame gets constructed\n",
       "    under the hood using the other arguments.\n",
       "x: str or int or Series or array-like\n",
       "    Either a name of a column in `data_frame`, or a pandas Series or\n",
       "    array_like object. Values from this column or array_like are used to\n",
       "    position marks along the x axis in cartesian coordinates. Either `x` or\n",
       "    `y` can optionally be a list of column references or array_likes,  in\n",
       "    which case the data will be treated as if it were 'wide' rather than\n",
       "    'long'.\n",
       "y: str or int or Series or array-like\n",
       "    Either a name of a column in `data_frame`, or a pandas Series or\n",
       "    array_like object. Values from this column or array_like are used to\n",
       "    position marks along the y axis in cartesian coordinates. Either `x` or\n",
       "    `y` can optionally be a list of column references or array_likes,  in\n",
       "    which case the data will be treated as if it were 'wide' rather than\n",
       "    'long'.\n",
       "line_group: str or int or Series or array-like\n",
       "    Either a name of a column in `data_frame`, or a pandas Series or\n",
       "    array_like object. Values from this column or array_like are used to\n",
       "    group rows of `data_frame` into lines.\n",
       "color: str or int or Series or array-like\n",
       "    Either a name of a column in `data_frame`, or a pandas Series or\n",
       "    array_like object. Values from this column or array_like are used to\n",
       "    assign color to marks.\n",
       "line_dash: str or int or Series or array-like\n",
       "    Either a name of a column in `data_frame`, or a pandas Series or\n",
       "    array_like object. Values from this column or array_like are used to\n",
       "    assign dash-patterns to lines.\n",
       "symbol: str or int or Series or array-like\n",
       "    Either a name of a column in `data_frame`, or a pandas Series or\n",
       "    array_like object. Values from this column or array_like are used to\n",
       "    assign symbols to marks.\n",
       "hover_name: str or int or Series or array-like\n",
       "    Either a name of a column in `data_frame`, or a pandas Series or\n",
       "    array_like object. Values from this column or array_like appear in bold\n",
       "    in the hover tooltip.\n",
       "hover_data: list of str or int, or Series or array-like, or dict\n",
       "    Either a list of names of columns in `data_frame`, or pandas Series, or\n",
       "    array_like objects or a dict with column names as keys, with values\n",
       "    True (for default formatting) False (in order to remove this column\n",
       "    from hover information), or a formatting string, for example ':.3f' or\n",
       "    '|%a' or list-like data to appear in the hover tooltip or tuples with a\n",
       "    bool or formatting string as first element, and list-like data to\n",
       "    appear in hover as second element Values from these columns appear as\n",
       "    extra data in the hover tooltip.\n",
       "custom_data: list of str or int, or Series or array-like\n",
       "    Either names of columns in `data_frame`, or pandas Series, or\n",
       "    array_like objects Values from these columns are extra data, to be used\n",
       "    in widgets or Dash callbacks for example. This data is not user-visible\n",
       "    but is included in events emitted by the figure (lasso selection etc.)\n",
       "text: str or int or Series or array-like\n",
       "    Either a name of a column in `data_frame`, or a pandas Series or\n",
       "    array_like object. Values from this column or array_like appear in the\n",
       "    figure as text labels.\n",
       "facet_row: str or int or Series or array-like\n",
       "    Either a name of a column in `data_frame`, or a pandas Series or\n",
       "    array_like object. Values from this column or array_like are used to\n",
       "    assign marks to facetted subplots in the vertical direction.\n",
       "facet_col: str or int or Series or array-like\n",
       "    Either a name of a column in `data_frame`, or a pandas Series or\n",
       "    array_like object. Values from this column or array_like are used to\n",
       "    assign marks to facetted subplots in the horizontal direction.\n",
       "facet_col_wrap: int\n",
       "    Maximum number of facet columns. Wraps the column variable at this\n",
       "    width, so that the column facets span multiple rows. Ignored if 0, and\n",
       "    forced to 0 if `facet_row` or a `marginal` is set.\n",
       "facet_row_spacing: float between 0 and 1\n",
       "    Spacing between facet rows, in paper units. Default is 0.03 or 0.0.7\n",
       "    when facet_col_wrap is used.\n",
       "facet_col_spacing: float between 0 and 1\n",
       "    Spacing between facet columns, in paper units Default is 0.02.\n",
       "error_x: str or int or Series or array-like\n",
       "    Either a name of a column in `data_frame`, or a pandas Series or\n",
       "    array_like object. Values from this column or array_like are used to\n",
       "    size x-axis error bars. If `error_x_minus` is `None`, error bars will\n",
       "    be symmetrical, otherwise `error_x` is used for the positive direction\n",
       "    only.\n",
       "error_x_minus: str or int or Series or array-like\n",
       "    Either a name of a column in `data_frame`, or a pandas Series or\n",
       "    array_like object. Values from this column or array_like are used to\n",
       "    size x-axis error bars in the negative direction. Ignored if `error_x`\n",
       "    is `None`.\n",
       "error_y: str or int or Series or array-like\n",
       "    Either a name of a column in `data_frame`, or a pandas Series or\n",
       "    array_like object. Values from this column or array_like are used to\n",
       "    size y-axis error bars. If `error_y_minus` is `None`, error bars will\n",
       "    be symmetrical, otherwise `error_y` is used for the positive direction\n",
       "    only.\n",
       "error_y_minus: str or int or Series or array-like\n",
       "    Either a name of a column in `data_frame`, or a pandas Series or\n",
       "    array_like object. Values from this column or array_like are used to\n",
       "    size y-axis error bars in the negative direction. Ignored if `error_y`\n",
       "    is `None`.\n",
       "animation_frame: str or int or Series or array-like\n",
       "    Either a name of a column in `data_frame`, or a pandas Series or\n",
       "    array_like object. Values from this column or array_like are used to\n",
       "    assign marks to animation frames.\n",
       "animation_group: str or int or Series or array-like\n",
       "    Either a name of a column in `data_frame`, or a pandas Series or\n",
       "    array_like object. Values from this column or array_like are used to\n",
       "    provide object-constancy across animation frames: rows with matching\n",
       "    `animation_group`s will be treated as if they describe the same object\n",
       "    in each frame.\n",
       "category_orders: dict with str keys and list of str values (default `{}`)\n",
       "    By default, in Python 3.6+, the order of categorical values in axes,\n",
       "    legends and facets depends on the order in which these values are first\n",
       "    encountered in `data_frame` (and no order is guaranteed by default in\n",
       "    Python below 3.6). This parameter is used to force a specific ordering\n",
       "    of values per column. The keys of this dict should correspond to column\n",
       "    names, and the values should be lists of strings corresponding to the\n",
       "    specific display order desired.\n",
       "labels: dict with str keys and str values (default `{}`)\n",
       "    By default, column names are used in the figure for axis titles, legend\n",
       "    entries and hovers. This parameter allows this to be overridden. The\n",
       "    keys of this dict should correspond to column names, and the values\n",
       "    should correspond to the desired label to be displayed.\n",
       "orientation: str, one of `'h'` for horizontal or `'v'` for vertical. \n",
       "    (default `'v'` if `x` and `y` are provided and both continous or both\n",
       "    categorical,  otherwise `'v'`(`'h'`) if `x`(`y`) is categorical and\n",
       "    `y`(`x`) is continuous,  otherwise `'v'`(`'h'`) if only `x`(`y`) is\n",
       "    provided)\n",
       "color_discrete_sequence: list of str\n",
       "    Strings should define valid CSS-colors. When `color` is set and the\n",
       "    values in the corresponding column are not numeric, values in that\n",
       "    column are assigned colors by cycling through `color_discrete_sequence`\n",
       "    in the order described in `category_orders`, unless the value of\n",
       "    `color` is a key in `color_discrete_map`. Various useful color\n",
       "    sequences are available in the `plotly.express.colors` submodules,\n",
       "    specifically `plotly.express.colors.qualitative`.\n",
       "color_discrete_map: dict with str keys and str values (default `{}`)\n",
       "    String values should define valid CSS-colors Used to override\n",
       "    `color_discrete_sequence` to assign a specific colors to marks\n",
       "    corresponding with specific values. Keys in `color_discrete_map` should\n",
       "    be values in the column denoted by `color`. Alternatively, if the\n",
       "    values of `color` are valid colors, the string `'identity'` may be\n",
       "    passed to cause them to be used directly.\n",
       "line_dash_sequence: list of str\n",
       "    Strings should define valid plotly.js dash-patterns. When `line_dash`\n",
       "    is set, values in that column are assigned dash-patterns by cycling\n",
       "    through `line_dash_sequence` in the order described in\n",
       "    `category_orders`, unless the value of `line_dash` is a key in\n",
       "    `line_dash_map`.\n",
       "line_dash_map: dict with str keys and str values (default `{}`)\n",
       "    Strings values define plotly.js dash-patterns. Used to override\n",
       "    `line_dash_sequences` to assign a specific dash-patterns to lines\n",
       "    corresponding with specific values. Keys in `line_dash_map` should be\n",
       "    values in the column denoted by `line_dash`. Alternatively, if the\n",
       "    values of `line_dash` are valid line-dash names, the string\n",
       "    `'identity'` may be passed to cause them to be used directly.\n",
       "symbol_sequence: list of str\n",
       "    Strings should define valid plotly.js symbols. When `symbol` is set,\n",
       "    values in that column are assigned symbols by cycling through\n",
       "    `symbol_sequence` in the order described in `category_orders`, unless\n",
       "    the value of `symbol` is a key in `symbol_map`.\n",
       "symbol_map: dict with str keys and str values (default `{}`)\n",
       "    String values should define plotly.js symbols Used to override\n",
       "    `symbol_sequence` to assign a specific symbols to marks corresponding\n",
       "    with specific values. Keys in `symbol_map` should be values in the\n",
       "    column denoted by `symbol`. Alternatively, if the values of `symbol`\n",
       "    are valid symbol names, the string `'identity'` may be passed to cause\n",
       "    them to be used directly.\n",
       "markers: boolean (default `False`)\n",
       "    If `True`, markers are shown on lines.\n",
       "log_x: boolean (default `False`)\n",
       "    If `True`, the x-axis is log-scaled in cartesian coordinates.\n",
       "log_y: boolean (default `False`)\n",
       "    If `True`, the y-axis is log-scaled in cartesian coordinates.\n",
       "range_x: list of two numbers\n",
       "    If provided, overrides auto-scaling on the x-axis in cartesian\n",
       "    coordinates.\n",
       "range_y: list of two numbers\n",
       "    If provided, overrides auto-scaling on the y-axis in cartesian\n",
       "    coordinates.\n",
       "line_shape: str (default `'linear'`)\n",
       "    One of `'linear'` or `'spline'`.\n",
       "render_mode: str\n",
       "    One of `'auto'`, `'svg'` or `'webgl'`, default `'auto'` Controls the\n",
       "    browser API used to draw marks. `'svg`' is appropriate for figures of\n",
       "    less than 1000 data points, and will allow for fully-vectorized output.\n",
       "    `'webgl'` is likely necessary for acceptable performance above 1000\n",
       "    points but rasterizes part of the output.  `'auto'` uses heuristics to\n",
       "    choose the mode.\n",
       "title: str\n",
       "    The figure title.\n",
       "template: str or dict or plotly.graph_objects.layout.Template instance\n",
       "    The figure template name (must be a key in plotly.io.templates) or\n",
       "    definition.\n",
       "width: int (default `None`)\n",
       "    The figure width in pixels.\n",
       "height: int (default `None`)\n",
       "    The figure height in pixels.\n",
       "\n",
       "Returns\n",
       "-------\n",
       "    plotly.graph_objects.Figure\n",
       "\u001b[1;31mFile:\u001b[0m      c:\\users\\toofastdan\\anaconda3\\lib\\site-packages\\plotly\\express\\_chart_types.py\n",
       "\u001b[1;31mType:\u001b[0m      function\n"
      ]
     },
     "metadata": {},
     "output_type": "display_data"
    }
   ],
   "source": [
    "?px.line"
   ]
  }
 ],
 "metadata": {
  "kernelspec": {
   "display_name": "Python 3",
   "language": "python",
   "name": "python3"
  },
  "language_info": {
   "codemirror_mode": {
    "name": "ipython",
    "version": 3
   },
   "file_extension": ".py",
   "mimetype": "text/x-python",
   "name": "python",
   "nbconvert_exporter": "python",
   "pygments_lexer": "ipython3",
   "version": "3.8.8"
  }
 },
 "nbformat": 4,
 "nbformat_minor": 5
}
