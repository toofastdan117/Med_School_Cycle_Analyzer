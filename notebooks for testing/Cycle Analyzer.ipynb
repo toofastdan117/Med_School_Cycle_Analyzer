{
 "cells": [
  {
   "cell_type": "markdown",
   "id": "7995ccde-63d2-4bef-84be-1790e78f62c6",
   "metadata": {},
   "source": [
    "# **Cycle Analyzer**"
   ]
  },
  {
   "cell_type": "markdown",
   "id": "4c62f51a-e16d-47d5-a2eb-6580b5d56f13",
   "metadata": {},
   "source": [
    "### Importing the required packages"
   ]
  },
  {
   "cell_type": "code",
   "execution_count": 1,
   "id": "bad99e47-f06f-43e2-bb12-841f52bed234",
   "metadata": {},
   "outputs": [],
   "source": [
    "import pandas as pd \n",
    "import numpy as np\n",
    "import collections\n",
    "import datetime as datetime\n",
    "import matplotlib.pyplot as plt\n",
    "import seaborn as sns\n",
    "import plotly.express as px"
   ]
  },
  {
   "cell_type": "markdown",
   "id": "cd36f282-aac1-4cc1-830b-f0228c461bbb",
   "metadata": {},
   "source": [
    "## Plotting my application cycle"
   ]
  },
  {
   "cell_type": "code",
   "execution_count": 2,
   "id": "4137747e-498d-444c-bf06-6617a0df95a4",
   "metadata": {},
   "outputs": [],
   "source": [
    "# Setting the main file directory\n",
    "main_dir = \"C:/Users/TooFastDan/Documents/MD_PhD Application/Cycle Analyzer\""
   ]
  },
  {
   "cell_type": "code",
   "execution_count": 20,
   "id": "9214410e-d503-4c2d-a165-4ec6c535ae29",
   "metadata": {},
   "outputs": [
    {
     "data": {
      "text/html": [
       "<div>\n",
       "<style scoped>\n",
       "    .dataframe tbody tr th:only-of-type {\n",
       "        vertical-align: middle;\n",
       "    }\n",
       "\n",
       "    .dataframe tbody tr th {\n",
       "        vertical-align: top;\n",
       "    }\n",
       "\n",
       "    .dataframe thead th {\n",
       "        text-align: right;\n",
       "    }\n",
       "</style>\n",
       "<table border=\"1\" class=\"dataframe\">\n",
       "  <thead>\n",
       "    <tr style=\"text-align: right;\">\n",
       "      <th></th>\n",
       "      <th>Schools</th>\n",
       "      <th>Actions</th>\n",
       "      <th>Dates</th>\n",
       "      <th>tracker</th>\n",
       "    </tr>\n",
       "  </thead>\n",
       "  <tbody>\n",
       "    <tr>\n",
       "      <th>0</th>\n",
       "      <td>Einstein</td>\n",
       "      <td>Acceptance Date</td>\n",
       "      <td>NaT</td>\n",
       "      <td>0</td>\n",
       "    </tr>\n",
       "    <tr>\n",
       "      <th>1</th>\n",
       "      <td>UW MSTP</td>\n",
       "      <td>Acceptance Date</td>\n",
       "      <td>NaT</td>\n",
       "      <td>0</td>\n",
       "    </tr>\n",
       "    <tr>\n",
       "      <th>2</th>\n",
       "      <td>Hofstra</td>\n",
       "      <td>Acceptance Date</td>\n",
       "      <td>NaT</td>\n",
       "      <td>0</td>\n",
       "    </tr>\n",
       "    <tr>\n",
       "      <th>3</th>\n",
       "      <td>UCSF</td>\n",
       "      <td>Acceptance Date</td>\n",
       "      <td>NaT</td>\n",
       "      <td>0</td>\n",
       "    </tr>\n",
       "    <tr>\n",
       "      <th>4</th>\n",
       "      <td>Rochester</td>\n",
       "      <td>Acceptance Date</td>\n",
       "      <td>NaT</td>\n",
       "      <td>0</td>\n",
       "    </tr>\n",
       "    <tr>\n",
       "      <th>...</th>\n",
       "      <td>...</td>\n",
       "      <td>...</td>\n",
       "      <td>...</td>\n",
       "      <td>...</td>\n",
       "    </tr>\n",
       "    <tr>\n",
       "      <th>145</th>\n",
       "      <td>Miami Miller</td>\n",
       "      <td>Waitlist Date</td>\n",
       "      <td>NaT</td>\n",
       "      <td>0</td>\n",
       "    </tr>\n",
       "    <tr>\n",
       "      <th>146</th>\n",
       "      <td>Minnesota</td>\n",
       "      <td>Waitlist Date</td>\n",
       "      <td>NaT</td>\n",
       "      <td>0</td>\n",
       "    </tr>\n",
       "    <tr>\n",
       "      <th>147</th>\n",
       "      <td>Case Western Lerner</td>\n",
       "      <td>Waitlist Date</td>\n",
       "      <td>NaT</td>\n",
       "      <td>0</td>\n",
       "    </tr>\n",
       "    <tr>\n",
       "      <th>148</th>\n",
       "      <td>Case Western MSTP</td>\n",
       "      <td>Waitlist Date</td>\n",
       "      <td>NaT</td>\n",
       "      <td>0</td>\n",
       "    </tr>\n",
       "    <tr>\n",
       "      <th>149</th>\n",
       "      <td>Case Western MD</td>\n",
       "      <td>Waitlist Date</td>\n",
       "      <td>NaT</td>\n",
       "      <td>0</td>\n",
       "    </tr>\n",
       "  </tbody>\n",
       "</table>\n",
       "<p>150 rows × 4 columns</p>\n",
       "</div>"
      ],
      "text/plain": [
       "                 Schools          Actions Dates  tracker\n",
       "0               Einstein  Acceptance Date   NaT        0\n",
       "1                UW MSTP  Acceptance Date   NaT        0\n",
       "2                Hofstra  Acceptance Date   NaT        0\n",
       "3                   UCSF  Acceptance Date   NaT        0\n",
       "4              Rochester  Acceptance Date   NaT        0\n",
       "..                   ...              ...   ...      ...\n",
       "145         Miami Miller    Waitlist Date   NaT        0\n",
       "146            Minnesota    Waitlist Date   NaT        0\n",
       "147  Case Western Lerner    Waitlist Date   NaT        0\n",
       "148    Case Western MSTP    Waitlist Date   NaT        0\n",
       "149      Case Western MD    Waitlist Date   NaT        0\n",
       "\n",
       "[150 rows x 4 columns]"
      ]
     },
     "metadata": {},
     "output_type": "display_data"
    }
   ],
   "source": [
    "# Importing the excel doc and processing it\n",
    "dan = pd.read_excel(\"C:/Users/TooFastDan/Downloads/test2.xlsx\")\n",
    "\n",
    "# Getting the actions (column) names and melting the df into a favorable format, dropping any unnamed columns\n",
    "dan = dan.loc[:, ~dan.columns.str.contains(\"Unnamed\")]\n",
    "col1 = dan.columns[0]\n",
    "dan = dan.melt(id_vars=col1, value_vars=dan.columns[1:], var_name=\"Actions\", value_name=\"Dates\")\n",
    "dan[\"Dates\"] = pd.to_datetime(dan[\"Dates\"])\n",
    "\n",
    "# Grouping by application actions and sorting by date\n",
    "dan_gb1 = dan.groupby(\"Actions\")\n",
    "dan_sort_list1 = []\n",
    "for name, group in dan_gb1:\n",
    "    group = group.sort_values(\"Dates\", ascending=True)\n",
    "    dan_sort_list1.append(group)\n",
    "dan_sort1 = pd.concat(dan_sort_list1, axis=0).reset_index(drop=True)\n",
    "\n",
    "# Ranking the events by date, ignoring dates that are not present\n",
    "numbers = []\n",
    "for action in dan_sort1[\"Actions\"].unique():\n",
    "    n = 0\n",
    "    df = dan_sort1[dan_sort1[\"Actions\"]==action]\n",
    "    for d in df[\"Dates\"]:\n",
    "        if pd.isnull(d):\n",
    "            numbers.append(n)\n",
    "        else:\n",
    "            n = n + 1\n",
    "            numbers.append(n)\n",
    "dan_sort1[\"tracker\"] = numbers\n",
    "\n",
    "dan_filt = dan_sort1[dan_sort1[\"Dates\"].notna()]\n",
    "start_date = min(dan_filt[\"Dates\"])\n",
    "end_date = max(dan_filt[\"Dates\"])\n",
    "\n",
    "# Adding the start date of the cycle and the current date and sorting\n",
    "dan_gb2 = dan_sort1.groupby(\"Actions\")\n",
    "dan_sort_list2 = []\n",
    "for name, group in dan_gb2:\n",
    "    df1 = {col1:\"Start\", \"Actions\":group[\"Actions\"].unique()[0], \"Dates\":start_date, \"tracker\":0}\n",
    "    df2 = {col1:\"End\", \"Actions\":group[\"Actions\"].unique()[0], \"Dates\":end_date, \"tracker\":np.max(group[\"tracker\"])}\n",
    "    group = group.append([df1, df2], ignore_index=True)\n",
    "    group = group.sort_values([\"Dates\", \"tracker\"], ascending=True)\n",
    "    dan_sort_list2.append(group)\n",
    "dan_sort2 = pd.concat(dan_sort_list2, axis=0).reset_index(drop=True)\n",
    "\n",
    "# Displaying the finalized df and optionally exporting to excel\n",
    "display(dan_sort1)\n",
    "#dan_sort2.to_excel(\"C:/Users/TooFastDan/Downloads/test2_processed.xlsx\", index=False)"
   ]
  },
  {
   "cell_type": "code",
   "execution_count": 21,
   "id": "3d35a58c-1c3e-4f9a-ae35-ea9786b002c3",
   "metadata": {},
   "outputs": [
    {
     "data": {
      "application/vnd.plotly.v1+json": {
       "config": {
        "plotlyServerURL": "https://plot.ly"
       },
       "data": [
        {
         "customdata": [
          [
           "Start",
           "Acceptance Date"
          ],
          [
           "End",
           "Acceptance Date"
          ],
          [
           "Einstein",
           "Acceptance Date"
          ],
          [
           "UW MSTP",
           "Acceptance Date"
          ],
          [
           "Hofstra",
           "Acceptance Date"
          ],
          [
           "UCSF",
           "Acceptance Date"
          ],
          [
           "Rochester",
           "Acceptance Date"
          ],
          [
           "Tri I",
           "Acceptance Date"
          ],
          [
           "Stony Brook",
           "Acceptance Date"
          ],
          [
           "UCSD",
           "Acceptance Date"
          ],
          [
           "UC Irvine",
           "Acceptance Date"
          ],
          [
           "Emory",
           "Acceptance Date"
          ],
          [
           "UCLA",
           "Acceptance Date"
          ],
          [
           "Duke MSTP",
           "Acceptance Date"
          ],
          [
           "Colorado",
           "Acceptance Date"
          ],
          [
           "Harvard",
           "Acceptance Date"
          ],
          [
           "STX-MSTP",
           "Acceptance Date"
          ],
          [
           "Pitt",
           "Acceptance Date"
          ],
          [
           "Columbia",
           "Acceptance Date"
          ],
          [
           "Indiana MSTP",
           "Acceptance Date"
          ],
          [
           "Indiana MD",
           "Acceptance Date"
          ],
          [
           "Stanford",
           "Acceptance Date"
          ],
          [
           "UW MD Only",
           "Acceptance Date"
          ],
          [
           "UPenn",
           "Acceptance Date"
          ],
          [
           "Northwestern",
           "Acceptance Date"
          ],
          [
           "JHU",
           "Acceptance Date"
          ],
          [
           "Ohio State",
           "Acceptance Date"
          ],
          [
           "Miami Miller",
           "Acceptance Date"
          ],
          [
           "Minnesota",
           "Acceptance Date"
          ],
          [
           "Case Western Lerner",
           "Acceptance Date"
          ],
          [
           "Case Western MSTP",
           "Acceptance Date"
          ],
          [
           "Case Western MD",
           "Acceptance Date"
          ]
         ],
         "hovertemplate": "Actions=%{customdata[1]}<br>Dates=%{x}<br>tracker=%{y}<br>Schools=%{customdata[0]}<extra></extra>",
         "legendgroup": "Acceptance Date",
         "line": {
          "color": "#B6E880",
          "dash": "solid",
          "shape": "hv"
         },
         "marker": {
          "symbol": "circle"
         },
         "mode": "markers+lines",
         "name": "Acceptance Date",
         "orientation": "v",
         "showlegend": true,
         "type": "scatter",
         "x": [
          "2021-07-27T00:00:00",
          "2022-01-14T00:00:00",
          null,
          null,
          null,
          null,
          null,
          null,
          null,
          null,
          null,
          null,
          null,
          null,
          null,
          null,
          null,
          null,
          null,
          null,
          null,
          null,
          null,
          null,
          null,
          null,
          null,
          null,
          null,
          null,
          null,
          null
         ],
         "xaxis": "x",
         "y": [
          0,
          0,
          0,
          0,
          0,
          0,
          0,
          0,
          0,
          0,
          0,
          0,
          0,
          0,
          0,
          0,
          0,
          0,
          0,
          0,
          0,
          0,
          0,
          0,
          0,
          0,
          0,
          0,
          0,
          0,
          0,
          0
         ],
         "yaxis": "y"
        },
        {
         "customdata": [
          [
           "Start",
           "Application Complete Date"
          ],
          [
           "Einstein",
           "Application Complete Date"
          ],
          [
           "UW MSTP",
           "Application Complete Date"
          ],
          [
           "Hofstra",
           "Application Complete Date"
          ],
          [
           "UCSF",
           "Application Complete Date"
          ],
          [
           "Rochester",
           "Application Complete Date"
          ],
          [
           "Tri I",
           "Application Complete Date"
          ],
          [
           "Stony Brook",
           "Application Complete Date"
          ],
          [
           "UCSD",
           "Application Complete Date"
          ],
          [
           "UC Irvine",
           "Application Complete Date"
          ],
          [
           "Emory",
           "Application Complete Date"
          ],
          [
           "UCLA",
           "Application Complete Date"
          ],
          [
           "Duke MSTP",
           "Application Complete Date"
          ],
          [
           "Colorado",
           "Application Complete Date"
          ],
          [
           "Harvard",
           "Application Complete Date"
          ],
          [
           "STX-MSTP",
           "Application Complete Date"
          ],
          [
           "Pitt",
           "Application Complete Date"
          ],
          [
           "Columbia",
           "Application Complete Date"
          ],
          [
           "Indiana MSTP",
           "Application Complete Date"
          ],
          [
           "Indiana MD",
           "Application Complete Date"
          ],
          [
           "Stanford",
           "Application Complete Date"
          ],
          [
           "UW MD Only",
           "Application Complete Date"
          ],
          [
           "UPenn",
           "Application Complete Date"
          ],
          [
           "Northwestern",
           "Application Complete Date"
          ],
          [
           "JHU",
           "Application Complete Date"
          ],
          [
           "Ohio State",
           "Application Complete Date"
          ],
          [
           "Miami Miller",
           "Application Complete Date"
          ],
          [
           "Minnesota",
           "Application Complete Date"
          ],
          [
           "Case Western Lerner",
           "Application Complete Date"
          ],
          [
           "Case Western MSTP",
           "Application Complete Date"
          ],
          [
           "Case Western MD",
           "Application Complete Date"
          ],
          [
           "End",
           "Application Complete Date"
          ]
         ],
         "hovertemplate": "Actions=%{customdata[1]}<br>Dates=%{x}<br>tracker=%{y}<br>Schools=%{customdata[0]}<extra></extra>",
         "legendgroup": "Application Complete Date",
         "line": {
          "color": "#FF97FF",
          "dash": "solid",
          "shape": "hv"
         },
         "marker": {
          "symbol": "circle"
         },
         "mode": "markers+lines",
         "name": "Application Complete Date",
         "orientation": "v",
         "showlegend": true,
         "type": "scatter",
         "x": [
          "2021-07-27T00:00:00",
          "2021-07-27T00:00:00",
          "2021-08-04T00:00:00",
          "2021-08-13T00:00:00",
          "2021-08-26T00:00:00",
          "2021-08-26T00:00:00",
          "2021-08-31T00:00:00",
          "2021-09-01T00:00:00",
          "2021-09-06T00:00:00",
          "2021-09-06T00:00:00",
          "2021-09-07T00:00:00",
          "2021-09-10T00:00:00",
          "2021-09-22T00:00:00",
          "2021-09-28T00:00:00",
          "2021-09-28T00:00:00",
          "2021-09-29T00:00:00",
          "2021-09-30T00:00:00",
          "2021-09-30T00:00:00",
          "2021-10-01T00:00:00",
          "2021-10-01T00:00:00",
          "2021-10-04T00:00:00",
          "2021-10-07T00:00:00",
          "2021-10-08T00:00:00",
          "2021-10-11T00:00:00",
          "2021-10-12T00:00:00",
          "2021-10-12T00:00:00",
          "2021-10-15T00:00:00",
          "2021-10-20T00:00:00",
          "2021-10-22T00:00:00",
          "2021-10-22T00:00:00",
          "2021-10-22T00:00:00",
          "2022-01-14T00:00:00"
         ],
         "xaxis": "x",
         "y": [
          0,
          1,
          2,
          3,
          4,
          5,
          6,
          7,
          8,
          9,
          10,
          11,
          12,
          13,
          14,
          15,
          16,
          17,
          18,
          19,
          20,
          21,
          22,
          23,
          24,
          25,
          26,
          27,
          28,
          29,
          30,
          30
         ],
         "yaxis": "y"
        },
        {
         "customdata": [
          [
           "Start",
           "Interview Received Date"
          ],
          [
           "Hofstra",
           "Interview Received Date"
          ],
          [
           "Stony Brook",
           "Interview Received Date"
          ],
          [
           "UW MD Only",
           "Interview Received Date"
          ],
          [
           "STX-MSTP",
           "Interview Received Date"
          ],
          [
           "Colorado",
           "Interview Received Date"
          ],
          [
           "Miami Miller",
           "Interview Received Date"
          ],
          [
           "End",
           "Interview Received Date"
          ],
          [
           "Einstein",
           "Interview Received Date"
          ],
          [
           "UW MSTP",
           "Interview Received Date"
          ],
          [
           "UCSF",
           "Interview Received Date"
          ],
          [
           "Rochester",
           "Interview Received Date"
          ],
          [
           "Tri I",
           "Interview Received Date"
          ],
          [
           "UCSD",
           "Interview Received Date"
          ],
          [
           "UC Irvine",
           "Interview Received Date"
          ],
          [
           "Emory",
           "Interview Received Date"
          ],
          [
           "UCLA",
           "Interview Received Date"
          ],
          [
           "Duke MSTP",
           "Interview Received Date"
          ],
          [
           "Harvard",
           "Interview Received Date"
          ],
          [
           "Pitt",
           "Interview Received Date"
          ],
          [
           "Columbia",
           "Interview Received Date"
          ],
          [
           "Indiana MSTP",
           "Interview Received Date"
          ],
          [
           "Indiana MD",
           "Interview Received Date"
          ],
          [
           "Stanford",
           "Interview Received Date"
          ],
          [
           "UPenn",
           "Interview Received Date"
          ],
          [
           "Northwestern",
           "Interview Received Date"
          ],
          [
           "JHU",
           "Interview Received Date"
          ],
          [
           "Ohio State",
           "Interview Received Date"
          ],
          [
           "Minnesota",
           "Interview Received Date"
          ],
          [
           "Case Western Lerner",
           "Interview Received Date"
          ],
          [
           "Case Western MSTP",
           "Interview Received Date"
          ],
          [
           "Case Western MD",
           "Interview Received Date"
          ]
         ],
         "hovertemplate": "Actions=%{customdata[1]}<br>Dates=%{x}<br>tracker=%{y}<br>Schools=%{customdata[0]}<extra></extra>",
         "legendgroup": "Interview Received Date",
         "line": {
          "color": "#FECB52",
          "dash": "solid",
          "shape": "hv"
         },
         "marker": {
          "symbol": "circle"
         },
         "mode": "markers+lines",
         "name": "Interview Received Date",
         "orientation": "v",
         "showlegend": true,
         "type": "scatter",
         "x": [
          "2021-07-27T00:00:00",
          "2021-08-25T00:00:00",
          "2021-10-14T00:00:00",
          "2021-11-10T00:00:00",
          "2021-11-17T00:00:00",
          "2021-11-22T00:00:00",
          "2022-01-03T00:00:00",
          "2022-01-14T00:00:00",
          null,
          null,
          null,
          null,
          null,
          null,
          null,
          null,
          null,
          null,
          null,
          null,
          null,
          null,
          null,
          null,
          null,
          null,
          null,
          null,
          null,
          null,
          null,
          null
         ],
         "xaxis": "x",
         "y": [
          0,
          1,
          2,
          3,
          4,
          5,
          6,
          6,
          6,
          6,
          6,
          6,
          6,
          6,
          6,
          6,
          6,
          6,
          6,
          6,
          6,
          6,
          6,
          6,
          6,
          6,
          6,
          6,
          6,
          6,
          6,
          6
         ],
         "yaxis": "y"
        },
        {
         "customdata": [
          [
           "Start",
           "Rejection Date"
          ],
          [
           "UW MSTP",
           "Rejection Date"
          ],
          [
           "Tri I",
           "Rejection Date"
          ],
          [
           "Stanford",
           "Rejection Date"
          ],
          [
           "UCLA",
           "Rejection Date"
          ],
          [
           "Pitt",
           "Rejection Date"
          ],
          [
           "UCSF",
           "Rejection Date"
          ],
          [
           "Case Western Lerner",
           "Rejection Date"
          ],
          [
           "Indiana MSTP",
           "Rejection Date"
          ],
          [
           "Minnesota",
           "Rejection Date"
          ],
          [
           "Indiana MD",
           "Rejection Date"
          ],
          [
           "Einstein",
           "Rejection Date"
          ],
          [
           "JHU",
           "Rejection Date"
          ],
          [
           "Rochester",
           "Rejection Date"
          ],
          [
           "End",
           "Rejection Date"
          ],
          [
           "Hofstra",
           "Rejection Date"
          ],
          [
           "Stony Brook",
           "Rejection Date"
          ],
          [
           "UCSD",
           "Rejection Date"
          ],
          [
           "UC Irvine",
           "Rejection Date"
          ],
          [
           "Emory",
           "Rejection Date"
          ],
          [
           "Duke MSTP",
           "Rejection Date"
          ],
          [
           "Colorado",
           "Rejection Date"
          ],
          [
           "Harvard",
           "Rejection Date"
          ],
          [
           "STX-MSTP",
           "Rejection Date"
          ],
          [
           "Columbia",
           "Rejection Date"
          ],
          [
           "UW MD Only",
           "Rejection Date"
          ],
          [
           "UPenn",
           "Rejection Date"
          ],
          [
           "Northwestern",
           "Rejection Date"
          ],
          [
           "Ohio State",
           "Rejection Date"
          ],
          [
           "Miami Miller",
           "Rejection Date"
          ],
          [
           "Case Western MSTP",
           "Rejection Date"
          ],
          [
           "Case Western MD",
           "Rejection Date"
          ]
         ],
         "hovertemplate": "Actions=%{customdata[1]}<br>Dates=%{x}<br>tracker=%{y}<br>Schools=%{customdata[0]}<extra></extra>",
         "legendgroup": "Rejection Date",
         "line": {
          "color": "#636efa",
          "dash": "solid",
          "shape": "hv"
         },
         "marker": {
          "symbol": "circle"
         },
         "mode": "markers+lines",
         "name": "Rejection Date",
         "orientation": "v",
         "showlegend": true,
         "type": "scatter",
         "x": [
          "2021-07-27T00:00:00",
          "2021-08-11T00:00:00",
          "2021-09-28T00:00:00",
          "2021-10-10T00:00:00",
          "2021-11-09T00:00:00",
          "2021-12-01T00:00:00",
          "2021-12-02T00:00:00",
          "2021-12-09T00:00:00",
          "2021-12-10T00:00:00",
          "2021-12-17T00:00:00",
          "2022-01-06T00:00:00",
          "2022-01-11T00:00:00",
          "2022-01-12T00:00:00",
          "2022-01-14T00:00:00",
          "2022-01-14T00:00:00",
          null,
          null,
          null,
          null,
          null,
          null,
          null,
          null,
          null,
          null,
          null,
          null,
          null,
          null,
          null,
          null,
          null
         ],
         "xaxis": "x",
         "y": [
          0,
          1,
          2,
          3,
          4,
          5,
          6,
          7,
          8,
          9,
          10,
          11,
          12,
          13,
          13,
          13,
          13,
          13,
          13,
          13,
          13,
          13,
          13,
          13,
          13,
          13,
          13,
          13,
          13,
          13,
          13,
          13
         ],
         "yaxis": "y"
        },
        {
         "customdata": [
          [
           "Start",
           "Waitlist Date"
          ],
          [
           "End",
           "Waitlist Date"
          ],
          [
           "Einstein",
           "Waitlist Date"
          ],
          [
           "UW MSTP",
           "Waitlist Date"
          ],
          [
           "Hofstra",
           "Waitlist Date"
          ],
          [
           "UCSF",
           "Waitlist Date"
          ],
          [
           "Rochester",
           "Waitlist Date"
          ],
          [
           "Tri I",
           "Waitlist Date"
          ],
          [
           "Stony Brook",
           "Waitlist Date"
          ],
          [
           "UCSD",
           "Waitlist Date"
          ],
          [
           "UC Irvine",
           "Waitlist Date"
          ],
          [
           "Emory",
           "Waitlist Date"
          ],
          [
           "UCLA",
           "Waitlist Date"
          ],
          [
           "Duke MSTP",
           "Waitlist Date"
          ],
          [
           "Colorado",
           "Waitlist Date"
          ],
          [
           "Harvard",
           "Waitlist Date"
          ],
          [
           "STX-MSTP",
           "Waitlist Date"
          ],
          [
           "Pitt",
           "Waitlist Date"
          ],
          [
           "Columbia",
           "Waitlist Date"
          ],
          [
           "Indiana MSTP",
           "Waitlist Date"
          ],
          [
           "Indiana MD",
           "Waitlist Date"
          ],
          [
           "Stanford",
           "Waitlist Date"
          ],
          [
           "UW MD Only",
           "Waitlist Date"
          ],
          [
           "UPenn",
           "Waitlist Date"
          ],
          [
           "Northwestern",
           "Waitlist Date"
          ],
          [
           "JHU",
           "Waitlist Date"
          ],
          [
           "Ohio State",
           "Waitlist Date"
          ],
          [
           "Miami Miller",
           "Waitlist Date"
          ],
          [
           "Minnesota",
           "Waitlist Date"
          ],
          [
           "Case Western Lerner",
           "Waitlist Date"
          ],
          [
           "Case Western MSTP",
           "Waitlist Date"
          ],
          [
           "Case Western MD",
           "Waitlist Date"
          ]
         ],
         "hovertemplate": "Actions=%{customdata[1]}<br>Dates=%{x}<br>tracker=%{y}<br>Schools=%{customdata[0]}<extra></extra>",
         "legendgroup": "Waitlist Date",
         "line": {
          "color": "#EF553B",
          "dash": "solid",
          "shape": "hv"
         },
         "marker": {
          "symbol": "circle"
         },
         "mode": "markers+lines",
         "name": "Waitlist Date",
         "orientation": "v",
         "showlegend": true,
         "type": "scatter",
         "x": [
          "2021-07-27T00:00:00",
          "2022-01-14T00:00:00",
          null,
          null,
          null,
          null,
          null,
          null,
          null,
          null,
          null,
          null,
          null,
          null,
          null,
          null,
          null,
          null,
          null,
          null,
          null,
          null,
          null,
          null,
          null,
          null,
          null,
          null,
          null,
          null,
          null,
          null
         ],
         "xaxis": "x",
         "y": [
          0,
          0,
          0,
          0,
          0,
          0,
          0,
          0,
          0,
          0,
          0,
          0,
          0,
          0,
          0,
          0,
          0,
          0,
          0,
          0,
          0,
          0,
          0,
          0,
          0,
          0,
          0,
          0,
          0,
          0,
          0,
          0
         ],
         "yaxis": "y"
        }
       ],
       "layout": {
        "font": {
         "size": 24
        },
        "height": 700,
        "legend": {
         "font": {
          "size": 16
         },
         "title": {
          "text": "Application Events"
         },
         "tracegroupgap": 0
        },
        "margin": {
         "t": 60
        },
        "template": {
         "data": {
          "bar": [
           {
            "error_x": {
             "color": "#f2f5fa"
            },
            "error_y": {
             "color": "#f2f5fa"
            },
            "marker": {
             "line": {
              "color": "rgb(17,17,17)",
              "width": 0.5
             },
             "pattern": {
              "fillmode": "overlay",
              "size": 10,
              "solidity": 0.2
             }
            },
            "type": "bar"
           }
          ],
          "barpolar": [
           {
            "marker": {
             "line": {
              "color": "rgb(17,17,17)",
              "width": 0.5
             },
             "pattern": {
              "fillmode": "overlay",
              "size": 10,
              "solidity": 0.2
             }
            },
            "type": "barpolar"
           }
          ],
          "carpet": [
           {
            "aaxis": {
             "endlinecolor": "#A2B1C6",
             "gridcolor": "#506784",
             "linecolor": "#506784",
             "minorgridcolor": "#506784",
             "startlinecolor": "#A2B1C6"
            },
            "baxis": {
             "endlinecolor": "#A2B1C6",
             "gridcolor": "#506784",
             "linecolor": "#506784",
             "minorgridcolor": "#506784",
             "startlinecolor": "#A2B1C6"
            },
            "type": "carpet"
           }
          ],
          "choropleth": [
           {
            "colorbar": {
             "outlinewidth": 0,
             "ticks": ""
            },
            "type": "choropleth"
           }
          ],
          "contour": [
           {
            "colorbar": {
             "outlinewidth": 0,
             "ticks": ""
            },
            "colorscale": [
             [
              0,
              "#0d0887"
             ],
             [
              0.1111111111111111,
              "#46039f"
             ],
             [
              0.2222222222222222,
              "#7201a8"
             ],
             [
              0.3333333333333333,
              "#9c179e"
             ],
             [
              0.4444444444444444,
              "#bd3786"
             ],
             [
              0.5555555555555556,
              "#d8576b"
             ],
             [
              0.6666666666666666,
              "#ed7953"
             ],
             [
              0.7777777777777778,
              "#fb9f3a"
             ],
             [
              0.8888888888888888,
              "#fdca26"
             ],
             [
              1,
              "#f0f921"
             ]
            ],
            "type": "contour"
           }
          ],
          "contourcarpet": [
           {
            "colorbar": {
             "outlinewidth": 0,
             "ticks": ""
            },
            "type": "contourcarpet"
           }
          ],
          "heatmap": [
           {
            "colorbar": {
             "outlinewidth": 0,
             "ticks": ""
            },
            "colorscale": [
             [
              0,
              "#0d0887"
             ],
             [
              0.1111111111111111,
              "#46039f"
             ],
             [
              0.2222222222222222,
              "#7201a8"
             ],
             [
              0.3333333333333333,
              "#9c179e"
             ],
             [
              0.4444444444444444,
              "#bd3786"
             ],
             [
              0.5555555555555556,
              "#d8576b"
             ],
             [
              0.6666666666666666,
              "#ed7953"
             ],
             [
              0.7777777777777778,
              "#fb9f3a"
             ],
             [
              0.8888888888888888,
              "#fdca26"
             ],
             [
              1,
              "#f0f921"
             ]
            ],
            "type": "heatmap"
           }
          ],
          "heatmapgl": [
           {
            "colorbar": {
             "outlinewidth": 0,
             "ticks": ""
            },
            "colorscale": [
             [
              0,
              "#0d0887"
             ],
             [
              0.1111111111111111,
              "#46039f"
             ],
             [
              0.2222222222222222,
              "#7201a8"
             ],
             [
              0.3333333333333333,
              "#9c179e"
             ],
             [
              0.4444444444444444,
              "#bd3786"
             ],
             [
              0.5555555555555556,
              "#d8576b"
             ],
             [
              0.6666666666666666,
              "#ed7953"
             ],
             [
              0.7777777777777778,
              "#fb9f3a"
             ],
             [
              0.8888888888888888,
              "#fdca26"
             ],
             [
              1,
              "#f0f921"
             ]
            ],
            "type": "heatmapgl"
           }
          ],
          "histogram": [
           {
            "marker": {
             "pattern": {
              "fillmode": "overlay",
              "size": 10,
              "solidity": 0.2
             }
            },
            "type": "histogram"
           }
          ],
          "histogram2d": [
           {
            "colorbar": {
             "outlinewidth": 0,
             "ticks": ""
            },
            "colorscale": [
             [
              0,
              "#0d0887"
             ],
             [
              0.1111111111111111,
              "#46039f"
             ],
             [
              0.2222222222222222,
              "#7201a8"
             ],
             [
              0.3333333333333333,
              "#9c179e"
             ],
             [
              0.4444444444444444,
              "#bd3786"
             ],
             [
              0.5555555555555556,
              "#d8576b"
             ],
             [
              0.6666666666666666,
              "#ed7953"
             ],
             [
              0.7777777777777778,
              "#fb9f3a"
             ],
             [
              0.8888888888888888,
              "#fdca26"
             ],
             [
              1,
              "#f0f921"
             ]
            ],
            "type": "histogram2d"
           }
          ],
          "histogram2dcontour": [
           {
            "colorbar": {
             "outlinewidth": 0,
             "ticks": ""
            },
            "colorscale": [
             [
              0,
              "#0d0887"
             ],
             [
              0.1111111111111111,
              "#46039f"
             ],
             [
              0.2222222222222222,
              "#7201a8"
             ],
             [
              0.3333333333333333,
              "#9c179e"
             ],
             [
              0.4444444444444444,
              "#bd3786"
             ],
             [
              0.5555555555555556,
              "#d8576b"
             ],
             [
              0.6666666666666666,
              "#ed7953"
             ],
             [
              0.7777777777777778,
              "#fb9f3a"
             ],
             [
              0.8888888888888888,
              "#fdca26"
             ],
             [
              1,
              "#f0f921"
             ]
            ],
            "type": "histogram2dcontour"
           }
          ],
          "mesh3d": [
           {
            "colorbar": {
             "outlinewidth": 0,
             "ticks": ""
            },
            "type": "mesh3d"
           }
          ],
          "parcoords": [
           {
            "line": {
             "colorbar": {
              "outlinewidth": 0,
              "ticks": ""
             }
            },
            "type": "parcoords"
           }
          ],
          "pie": [
           {
            "automargin": true,
            "type": "pie"
           }
          ],
          "scatter": [
           {
            "marker": {
             "line": {
              "color": "#283442"
             }
            },
            "type": "scatter"
           }
          ],
          "scatter3d": [
           {
            "line": {
             "colorbar": {
              "outlinewidth": 0,
              "ticks": ""
             }
            },
            "marker": {
             "colorbar": {
              "outlinewidth": 0,
              "ticks": ""
             }
            },
            "type": "scatter3d"
           }
          ],
          "scattercarpet": [
           {
            "marker": {
             "colorbar": {
              "outlinewidth": 0,
              "ticks": ""
             }
            },
            "type": "scattercarpet"
           }
          ],
          "scattergeo": [
           {
            "marker": {
             "colorbar": {
              "outlinewidth": 0,
              "ticks": ""
             }
            },
            "type": "scattergeo"
           }
          ],
          "scattergl": [
           {
            "marker": {
             "line": {
              "color": "#283442"
             }
            },
            "type": "scattergl"
           }
          ],
          "scattermapbox": [
           {
            "marker": {
             "colorbar": {
              "outlinewidth": 0,
              "ticks": ""
             }
            },
            "type": "scattermapbox"
           }
          ],
          "scatterpolar": [
           {
            "marker": {
             "colorbar": {
              "outlinewidth": 0,
              "ticks": ""
             }
            },
            "type": "scatterpolar"
           }
          ],
          "scatterpolargl": [
           {
            "marker": {
             "colorbar": {
              "outlinewidth": 0,
              "ticks": ""
             }
            },
            "type": "scatterpolargl"
           }
          ],
          "scatterternary": [
           {
            "marker": {
             "colorbar": {
              "outlinewidth": 0,
              "ticks": ""
             }
            },
            "type": "scatterternary"
           }
          ],
          "surface": [
           {
            "colorbar": {
             "outlinewidth": 0,
             "ticks": ""
            },
            "colorscale": [
             [
              0,
              "#0d0887"
             ],
             [
              0.1111111111111111,
              "#46039f"
             ],
             [
              0.2222222222222222,
              "#7201a8"
             ],
             [
              0.3333333333333333,
              "#9c179e"
             ],
             [
              0.4444444444444444,
              "#bd3786"
             ],
             [
              0.5555555555555556,
              "#d8576b"
             ],
             [
              0.6666666666666666,
              "#ed7953"
             ],
             [
              0.7777777777777778,
              "#fb9f3a"
             ],
             [
              0.8888888888888888,
              "#fdca26"
             ],
             [
              1,
              "#f0f921"
             ]
            ],
            "type": "surface"
           }
          ],
          "table": [
           {
            "cells": {
             "fill": {
              "color": "#506784"
             },
             "line": {
              "color": "rgb(17,17,17)"
             }
            },
            "header": {
             "fill": {
              "color": "#2a3f5f"
             },
             "line": {
              "color": "rgb(17,17,17)"
             }
            },
            "type": "table"
           }
          ]
         },
         "layout": {
          "annotationdefaults": {
           "arrowcolor": "#f2f5fa",
           "arrowhead": 0,
           "arrowwidth": 1
          },
          "autotypenumbers": "strict",
          "coloraxis": {
           "colorbar": {
            "outlinewidth": 0,
            "ticks": ""
           }
          },
          "colorscale": {
           "diverging": [
            [
             0,
             "#8e0152"
            ],
            [
             0.1,
             "#c51b7d"
            ],
            [
             0.2,
             "#de77ae"
            ],
            [
             0.3,
             "#f1b6da"
            ],
            [
             0.4,
             "#fde0ef"
            ],
            [
             0.5,
             "#f7f7f7"
            ],
            [
             0.6,
             "#e6f5d0"
            ],
            [
             0.7,
             "#b8e186"
            ],
            [
             0.8,
             "#7fbc41"
            ],
            [
             0.9,
             "#4d9221"
            ],
            [
             1,
             "#276419"
            ]
           ],
           "sequential": [
            [
             0,
             "#0d0887"
            ],
            [
             0.1111111111111111,
             "#46039f"
            ],
            [
             0.2222222222222222,
             "#7201a8"
            ],
            [
             0.3333333333333333,
             "#9c179e"
            ],
            [
             0.4444444444444444,
             "#bd3786"
            ],
            [
             0.5555555555555556,
             "#d8576b"
            ],
            [
             0.6666666666666666,
             "#ed7953"
            ],
            [
             0.7777777777777778,
             "#fb9f3a"
            ],
            [
             0.8888888888888888,
             "#fdca26"
            ],
            [
             1,
             "#f0f921"
            ]
           ],
           "sequentialminus": [
            [
             0,
             "#0d0887"
            ],
            [
             0.1111111111111111,
             "#46039f"
            ],
            [
             0.2222222222222222,
             "#7201a8"
            ],
            [
             0.3333333333333333,
             "#9c179e"
            ],
            [
             0.4444444444444444,
             "#bd3786"
            ],
            [
             0.5555555555555556,
             "#d8576b"
            ],
            [
             0.6666666666666666,
             "#ed7953"
            ],
            [
             0.7777777777777778,
             "#fb9f3a"
            ],
            [
             0.8888888888888888,
             "#fdca26"
            ],
            [
             1,
             "#f0f921"
            ]
           ]
          },
          "colorway": [
           "#636efa",
           "#EF553B",
           "#00cc96",
           "#ab63fa",
           "#FFA15A",
           "#19d3f3",
           "#FF6692",
           "#B6E880",
           "#FF97FF",
           "#FECB52"
          ],
          "font": {
           "color": "#f2f5fa"
          },
          "geo": {
           "bgcolor": "rgb(17,17,17)",
           "lakecolor": "rgb(17,17,17)",
           "landcolor": "rgb(17,17,17)",
           "showlakes": true,
           "showland": true,
           "subunitcolor": "#506784"
          },
          "hoverlabel": {
           "align": "left"
          },
          "hovermode": "closest",
          "mapbox": {
           "style": "dark"
          },
          "paper_bgcolor": "rgb(17,17,17)",
          "plot_bgcolor": "rgb(17,17,17)",
          "polar": {
           "angularaxis": {
            "gridcolor": "#506784",
            "linecolor": "#506784",
            "ticks": ""
           },
           "bgcolor": "rgb(17,17,17)",
           "radialaxis": {
            "gridcolor": "#506784",
            "linecolor": "#506784",
            "ticks": ""
           }
          },
          "scene": {
           "xaxis": {
            "backgroundcolor": "rgb(17,17,17)",
            "gridcolor": "#506784",
            "gridwidth": 2,
            "linecolor": "#506784",
            "showbackground": true,
            "ticks": "",
            "zerolinecolor": "#C8D4E3"
           },
           "yaxis": {
            "backgroundcolor": "rgb(17,17,17)",
            "gridcolor": "#506784",
            "gridwidth": 2,
            "linecolor": "#506784",
            "showbackground": true,
            "ticks": "",
            "zerolinecolor": "#C8D4E3"
           },
           "zaxis": {
            "backgroundcolor": "rgb(17,17,17)",
            "gridcolor": "#506784",
            "gridwidth": 2,
            "linecolor": "#506784",
            "showbackground": true,
            "ticks": "",
            "zerolinecolor": "#C8D4E3"
           }
          },
          "shapedefaults": {
           "line": {
            "color": "#f2f5fa"
           }
          },
          "sliderdefaults": {
           "bgcolor": "#C8D4E3",
           "bordercolor": "rgb(17,17,17)",
           "borderwidth": 1,
           "tickwidth": 0
          },
          "ternary": {
           "aaxis": {
            "gridcolor": "#506784",
            "linecolor": "#506784",
            "ticks": ""
           },
           "baxis": {
            "gridcolor": "#506784",
            "linecolor": "#506784",
            "ticks": ""
           },
           "bgcolor": "rgb(17,17,17)",
           "caxis": {
            "gridcolor": "#506784",
            "linecolor": "#506784",
            "ticks": ""
           }
          },
          "title": {
           "x": 0.05
          },
          "updatemenudefaults": {
           "bgcolor": "#506784",
           "borderwidth": 0
          },
          "xaxis": {
           "automargin": true,
           "gridcolor": "#283442",
           "linecolor": "#506784",
           "ticks": "",
           "title": {
            "standoff": 15
           },
           "zerolinecolor": "#283442",
           "zerolinewidth": 2
          },
          "yaxis": {
           "automargin": true,
           "gridcolor": "#283442",
           "linecolor": "#506784",
           "ticks": "",
           "title": {
            "standoff": 15
           },
           "zerolinecolor": "#283442",
           "zerolinewidth": 2
          }
         }
        },
        "title": {
         "text": "Application Cycle Plot",
         "x": 0.44,
         "xanchor": "center",
         "y": 0.98,
         "yanchor": "top"
        },
        "width": 1200,
        "xaxis": {
         "anchor": "y",
         "autorange": true,
         "domain": [
          0,
          1
         ],
         "range": [
          "2021-07-16 12:54:15.7536",
          "2022-01-24 11:05:44.2464"
         ],
         "tickfont": {
          "size": 14
         },
         "title": {
          "font": {
           "size": 20
          },
          "text": "Number of Events"
         },
         "type": "date"
        },
        "yaxis": {
         "anchor": "x",
         "autorange": true,
         "domain": [
          0,
          1
         ],
         "range": [
          -1.9184290030211482,
          31.91842900302115
         ],
         "tickfont": {
          "size": 14
         },
         "title": {
          "font": {
           "size": 20
          },
          "text": "Dates"
         },
         "type": "linear"
        }
       }
      },
      "image/png": "[encoded data removed]",
      "text/html": [
       "<div>                            <div id=\"c6560109-1c4a-4706-8e84-3973005e5939\" class=\"plotly-graph-div\" style=\"height:700px; width:1200px;\"></div>            <script type=\"text/javascript\">                require([\"plotly\"], function(Plotly) {                    window.PLOTLYENV=window.PLOTLYENV || {};                                    if (document.getElementById(\"c6560109-1c4a-4706-8e84-3973005e5939\")) {                    Plotly.newPlot(                        \"c6560109-1c4a-4706-8e84-3973005e5939\",                        [{\"customdata\":[[\"Start\",\"Acceptance Date\"],[\"End\",\"Acceptance Date\"],[\"Einstein\",\"Acceptance Date\"],[\"UW MSTP\",\"Acceptance Date\"],[\"Hofstra\",\"Acceptance Date\"],[\"UCSF\",\"Acceptance Date\"],[\"Rochester\",\"Acceptance Date\"],[\"Tri I\",\"Acceptance Date\"],[\"Stony Brook\",\"Acceptance Date\"],[\"UCSD\",\"Acceptance Date\"],[\"UC Irvine\",\"Acceptance Date\"],[\"Emory\",\"Acceptance Date\"],[\"UCLA\",\"Acceptance Date\"],[\"Duke MSTP\",\"Acceptance Date\"],[\"Colorado\",\"Acceptance Date\"],[\"Harvard\",\"Acceptance Date\"],[\"STX-MSTP\",\"Acceptance Date\"],[\"Pitt\",\"Acceptance Date\"],[\"Columbia\",\"Acceptance Date\"],[\"Indiana MSTP\",\"Acceptance Date\"],[\"Indiana MD\",\"Acceptance Date\"],[\"Stanford\",\"Acceptance Date\"],[\"UW MD Only\",\"Acceptance Date\"],[\"UPenn\",\"Acceptance Date\"],[\"Northwestern\",\"Acceptance Date\"],[\"JHU\",\"Acceptance Date\"],[\"Ohio State\",\"Acceptance Date\"],[\"Miami Miller\",\"Acceptance Date\"],[\"Minnesota\",\"Acceptance Date\"],[\"Case Western Lerner\",\"Acceptance Date\"],[\"Case Western MSTP\",\"Acceptance Date\"],[\"Case Western MD\",\"Acceptance Date\"]],\"hovertemplate\":\"Actions=%{customdata[1]}<br>Dates=%{x}<br>tracker=%{y}<br>Schools=%{customdata[0]}<extra></extra>\",\"legendgroup\":\"Acceptance Date\",\"line\":{\"color\":\"#B6E880\",\"dash\":\"solid\",\"shape\":\"hv\"},\"marker\":{\"symbol\":\"circle\"},\"mode\":\"markers+lines\",\"name\":\"Acceptance Date\",\"orientation\":\"v\",\"showlegend\":true,\"x\":[\"2021-07-27T00:00:00\",\"2022-01-14T00:00:00\",null,null,null,null,null,null,null,null,null,null,null,null,null,null,null,null,null,null,null,null,null,null,null,null,null,null,null,null,null,null],\"xaxis\":\"x\",\"y\":[0,0,0,0,0,0,0,0,0,0,0,0,0,0,0,0,0,0,0,0,0,0,0,0,0,0,0,0,0,0,0,0],\"yaxis\":\"y\",\"type\":\"scatter\"},{\"customdata\":[[\"Start\",\"Application Complete Date\"],[\"Einstein\",\"Application Complete Date\"],[\"UW MSTP\",\"Application Complete Date\"],[\"Hofstra\",\"Application Complete Date\"],[\"UCSF\",\"Application Complete Date\"],[\"Rochester\",\"Application Complete Date\"],[\"Tri I\",\"Application Complete Date\"],[\"Stony Brook\",\"Application Complete Date\"],[\"UCSD\",\"Application Complete Date\"],[\"UC Irvine\",\"Application Complete Date\"],[\"Emory\",\"Application Complete Date\"],[\"UCLA\",\"Application Complete Date\"],[\"Duke MSTP\",\"Application Complete Date\"],[\"Colorado\",\"Application Complete Date\"],[\"Harvard\",\"Application Complete Date\"],[\"STX-MSTP\",\"Application Complete Date\"],[\"Pitt\",\"Application Complete Date\"],[\"Columbia\",\"Application Complete Date\"],[\"Indiana MSTP\",\"Application Complete Date\"],[\"Indiana MD\",\"Application Complete Date\"],[\"Stanford\",\"Application Complete Date\"],[\"UW MD Only\",\"Application Complete Date\"],[\"UPenn\",\"Application Complete Date\"],[\"Northwestern\",\"Application Complete Date\"],[\"JHU\",\"Application Complete Date\"],[\"Ohio State\",\"Application Complete Date\"],[\"Miami Miller\",\"Application Complete Date\"],[\"Minnesota\",\"Application Complete Date\"],[\"Case Western Lerner\",\"Application Complete Date\"],[\"Case Western MSTP\",\"Application Complete Date\"],[\"Case Western MD\",\"Application Complete Date\"],[\"End\",\"Application Complete Date\"]],\"hovertemplate\":\"Actions=%{customdata[1]}<br>Dates=%{x}<br>tracker=%{y}<br>Schools=%{customdata[0]}<extra></extra>\",\"legendgroup\":\"Application Complete Date\",\"line\":{\"color\":\"#FF97FF\",\"dash\":\"solid\",\"shape\":\"hv\"},\"marker\":{\"symbol\":\"circle\"},\"mode\":\"markers+lines\",\"name\":\"Application Complete Date\",\"orientation\":\"v\",\"showlegend\":true,\"x\":[\"2021-07-27T00:00:00\",\"2021-07-27T00:00:00\",\"2021-08-04T00:00:00\",\"2021-08-13T00:00:00\",\"2021-08-26T00:00:00\",\"2021-08-26T00:00:00\",\"2021-08-31T00:00:00\",\"2021-09-01T00:00:00\",\"2021-09-06T00:00:00\",\"2021-09-06T00:00:00\",\"2021-09-07T00:00:00\",\"2021-09-10T00:00:00\",\"2021-09-22T00:00:00\",\"2021-09-28T00:00:00\",\"2021-09-28T00:00:00\",\"2021-09-29T00:00:00\",\"2021-09-30T00:00:00\",\"2021-09-30T00:00:00\",\"2021-10-01T00:00:00\",\"2021-10-01T00:00:00\",\"2021-10-04T00:00:00\",\"2021-10-07T00:00:00\",\"2021-10-08T00:00:00\",\"2021-10-11T00:00:00\",\"2021-10-12T00:00:00\",\"2021-10-12T00:00:00\",\"2021-10-15T00:00:00\",\"2021-10-20T00:00:00\",\"2021-10-22T00:00:00\",\"2021-10-22T00:00:00\",\"2021-10-22T00:00:00\",\"2022-01-14T00:00:00\"],\"xaxis\":\"x\",\"y\":[0,1,2,3,4,5,6,7,8,9,10,11,12,13,14,15,16,17,18,19,20,21,22,23,24,25,26,27,28,29,30,30],\"yaxis\":\"y\",\"type\":\"scatter\"},{\"customdata\":[[\"Start\",\"Interview Received Date\"],[\"Hofstra\",\"Interview Received Date\"],[\"Stony Brook\",\"Interview Received Date\"],[\"UW MD Only\",\"Interview Received Date\"],[\"STX-MSTP\",\"Interview Received Date\"],[\"Colorado\",\"Interview Received Date\"],[\"Miami Miller\",\"Interview Received Date\"],[\"End\",\"Interview Received Date\"],[\"Einstein\",\"Interview Received Date\"],[\"UW MSTP\",\"Interview Received Date\"],[\"UCSF\",\"Interview Received Date\"],[\"Rochester\",\"Interview Received Date\"],[\"Tri I\",\"Interview Received Date\"],[\"UCSD\",\"Interview Received Date\"],[\"UC Irvine\",\"Interview Received Date\"],[\"Emory\",\"Interview Received Date\"],[\"UCLA\",\"Interview Received Date\"],[\"Duke MSTP\",\"Interview Received Date\"],[\"Harvard\",\"Interview Received Date\"],[\"Pitt\",\"Interview Received Date\"],[\"Columbia\",\"Interview Received Date\"],[\"Indiana MSTP\",\"Interview Received Date\"],[\"Indiana MD\",\"Interview Received Date\"],[\"Stanford\",\"Interview Received Date\"],[\"UPenn\",\"Interview Received Date\"],[\"Northwestern\",\"Interview Received Date\"],[\"JHU\",\"Interview Received Date\"],[\"Ohio State\",\"Interview Received Date\"],[\"Minnesota\",\"Interview Received Date\"],[\"Case Western Lerner\",\"Interview Received Date\"],[\"Case Western MSTP\",\"Interview Received Date\"],[\"Case Western MD\",\"Interview Received Date\"]],\"hovertemplate\":\"Actions=%{customdata[1]}<br>Dates=%{x}<br>tracker=%{y}<br>Schools=%{customdata[0]}<extra></extra>\",\"legendgroup\":\"Interview Received Date\",\"line\":{\"color\":\"#FECB52\",\"dash\":\"solid\",\"shape\":\"hv\"},\"marker\":{\"symbol\":\"circle\"},\"mode\":\"markers+lines\",\"name\":\"Interview Received Date\",\"orientation\":\"v\",\"showlegend\":true,\"x\":[\"2021-07-27T00:00:00\",\"2021-08-25T00:00:00\",\"2021-10-14T00:00:00\",\"2021-11-10T00:00:00\",\"2021-11-17T00:00:00\",\"2021-11-22T00:00:00\",\"2022-01-03T00:00:00\",\"2022-01-14T00:00:00\",null,null,null,null,null,null,null,null,null,null,null,null,null,null,null,null,null,null,null,null,null,null,null,null],\"xaxis\":\"x\",\"y\":[0,1,2,3,4,5,6,6,6,6,6,6,6,6,6,6,6,6,6,6,6,6,6,6,6,6,6,6,6,6,6,6],\"yaxis\":\"y\",\"type\":\"scatter\"},{\"customdata\":[[\"Start\",\"Rejection Date\"],[\"UW MSTP\",\"Rejection Date\"],[\"Tri I\",\"Rejection Date\"],[\"Stanford\",\"Rejection Date\"],[\"UCLA\",\"Rejection Date\"],[\"Pitt\",\"Rejection Date\"],[\"UCSF\",\"Rejection Date\"],[\"Case Western Lerner\",\"Rejection Date\"],[\"Indiana MSTP\",\"Rejection Date\"],[\"Minnesota\",\"Rejection Date\"],[\"Indiana MD\",\"Rejection Date\"],[\"Einstein\",\"Rejection Date\"],[\"JHU\",\"Rejection Date\"],[\"Rochester\",\"Rejection Date\"],[\"End\",\"Rejection Date\"],[\"Hofstra\",\"Rejection Date\"],[\"Stony Brook\",\"Rejection Date\"],[\"UCSD\",\"Rejection Date\"],[\"UC Irvine\",\"Rejection Date\"],[\"Emory\",\"Rejection Date\"],[\"Duke MSTP\",\"Rejection Date\"],[\"Colorado\",\"Rejection Date\"],[\"Harvard\",\"Rejection Date\"],[\"STX-MSTP\",\"Rejection Date\"],[\"Columbia\",\"Rejection Date\"],[\"UW MD Only\",\"Rejection Date\"],[\"UPenn\",\"Rejection Date\"],[\"Northwestern\",\"Rejection Date\"],[\"Ohio State\",\"Rejection Date\"],[\"Miami Miller\",\"Rejection Date\"],[\"Case Western MSTP\",\"Rejection Date\"],[\"Case Western MD\",\"Rejection Date\"]],\"hovertemplate\":\"Actions=%{customdata[1]}<br>Dates=%{x}<br>tracker=%{y}<br>Schools=%{customdata[0]}<extra></extra>\",\"legendgroup\":\"Rejection Date\",\"line\":{\"color\":\"#636efa\",\"dash\":\"solid\",\"shape\":\"hv\"},\"marker\":{\"symbol\":\"circle\"},\"mode\":\"markers+lines\",\"name\":\"Rejection Date\",\"orientation\":\"v\",\"showlegend\":true,\"x\":[\"2021-07-27T00:00:00\",\"2021-08-11T00:00:00\",\"2021-09-28T00:00:00\",\"2021-10-10T00:00:00\",\"2021-11-09T00:00:00\",\"2021-12-01T00:00:00\",\"2021-12-02T00:00:00\",\"2021-12-09T00:00:00\",\"2021-12-10T00:00:00\",\"2021-12-17T00:00:00\",\"2022-01-06T00:00:00\",\"2022-01-11T00:00:00\",\"2022-01-12T00:00:00\",\"2022-01-14T00:00:00\",\"2022-01-14T00:00:00\",null,null,null,null,null,null,null,null,null,null,null,null,null,null,null,null,null],\"xaxis\":\"x\",\"y\":[0,1,2,3,4,5,6,7,8,9,10,11,12,13,13,13,13,13,13,13,13,13,13,13,13,13,13,13,13,13,13,13],\"yaxis\":\"y\",\"type\":\"scatter\"},{\"customdata\":[[\"Start\",\"Waitlist Date\"],[\"End\",\"Waitlist Date\"],[\"Einstein\",\"Waitlist Date\"],[\"UW MSTP\",\"Waitlist Date\"],[\"Hofstra\",\"Waitlist Date\"],[\"UCSF\",\"Waitlist Date\"],[\"Rochester\",\"Waitlist Date\"],[\"Tri I\",\"Waitlist Date\"],[\"Stony Brook\",\"Waitlist Date\"],[\"UCSD\",\"Waitlist Date\"],[\"UC Irvine\",\"Waitlist Date\"],[\"Emory\",\"Waitlist Date\"],[\"UCLA\",\"Waitlist Date\"],[\"Duke MSTP\",\"Waitlist Date\"],[\"Colorado\",\"Waitlist Date\"],[\"Harvard\",\"Waitlist Date\"],[\"STX-MSTP\",\"Waitlist Date\"],[\"Pitt\",\"Waitlist Date\"],[\"Columbia\",\"Waitlist Date\"],[\"Indiana MSTP\",\"Waitlist Date\"],[\"Indiana MD\",\"Waitlist Date\"],[\"Stanford\",\"Waitlist Date\"],[\"UW MD Only\",\"Waitlist Date\"],[\"UPenn\",\"Waitlist Date\"],[\"Northwestern\",\"Waitlist Date\"],[\"JHU\",\"Waitlist Date\"],[\"Ohio State\",\"Waitlist Date\"],[\"Miami Miller\",\"Waitlist Date\"],[\"Minnesota\",\"Waitlist Date\"],[\"Case Western Lerner\",\"Waitlist Date\"],[\"Case Western MSTP\",\"Waitlist Date\"],[\"Case Western MD\",\"Waitlist Date\"]],\"hovertemplate\":\"Actions=%{customdata[1]}<br>Dates=%{x}<br>tracker=%{y}<br>Schools=%{customdata[0]}<extra></extra>\",\"legendgroup\":\"Waitlist Date\",\"line\":{\"color\":\"#EF553B\",\"dash\":\"solid\",\"shape\":\"hv\"},\"marker\":{\"symbol\":\"circle\"},\"mode\":\"markers+lines\",\"name\":\"Waitlist Date\",\"orientation\":\"v\",\"showlegend\":true,\"x\":[\"2021-07-27T00:00:00\",\"2022-01-14T00:00:00\",null,null,null,null,null,null,null,null,null,null,null,null,null,null,null,null,null,null,null,null,null,null,null,null,null,null,null,null,null,null],\"xaxis\":\"x\",\"y\":[0,0,0,0,0,0,0,0,0,0,0,0,0,0,0,0,0,0,0,0,0,0,0,0,0,0,0,0,0,0,0,0],\"yaxis\":\"y\",\"type\":\"scatter\"}],                        {\"template\":{\"data\":{\"barpolar\":[{\"marker\":{\"line\":{\"color\":\"rgb(17,17,17)\",\"width\":0.5},\"pattern\":{\"fillmode\":\"overlay\",\"size\":10,\"solidity\":0.2}},\"type\":\"barpolar\"}],\"bar\":[{\"error_x\":{\"color\":\"#f2f5fa\"},\"error_y\":{\"color\":\"#f2f5fa\"},\"marker\":{\"line\":{\"color\":\"rgb(17,17,17)\",\"width\":0.5},\"pattern\":{\"fillmode\":\"overlay\",\"size\":10,\"solidity\":0.2}},\"type\":\"bar\"}],\"carpet\":[{\"aaxis\":{\"endlinecolor\":\"#A2B1C6\",\"gridcolor\":\"#506784\",\"linecolor\":\"#506784\",\"minorgridcolor\":\"#506784\",\"startlinecolor\":\"#A2B1C6\"},\"baxis\":{\"endlinecolor\":\"#A2B1C6\",\"gridcolor\":\"#506784\",\"linecolor\":\"#506784\",\"minorgridcolor\":\"#506784\",\"startlinecolor\":\"#A2B1C6\"},\"type\":\"carpet\"}],\"choropleth\":[{\"colorbar\":{\"outlinewidth\":0,\"ticks\":\"\"},\"type\":\"choropleth\"}],\"contourcarpet\":[{\"colorbar\":{\"outlinewidth\":0,\"ticks\":\"\"},\"type\":\"contourcarpet\"}],\"contour\":[{\"colorbar\":{\"outlinewidth\":0,\"ticks\":\"\"},\"colorscale\":[[0.0,\"#0d0887\"],[0.1111111111111111,\"#46039f\"],[0.2222222222222222,\"#7201a8\"],[0.3333333333333333,\"#9c179e\"],[0.4444444444444444,\"#bd3786\"],[0.5555555555555556,\"#d8576b\"],[0.6666666666666666,\"#ed7953\"],[0.7777777777777778,\"#fb9f3a\"],[0.8888888888888888,\"#fdca26\"],[1.0,\"#f0f921\"]],\"type\":\"contour\"}],\"heatmapgl\":[{\"colorbar\":{\"outlinewidth\":0,\"ticks\":\"\"},\"colorscale\":[[0.0,\"#0d0887\"],[0.1111111111111111,\"#46039f\"],[0.2222222222222222,\"#7201a8\"],[0.3333333333333333,\"#9c179e\"],[0.4444444444444444,\"#bd3786\"],[0.5555555555555556,\"#d8576b\"],[0.6666666666666666,\"#ed7953\"],[0.7777777777777778,\"#fb9f3a\"],[0.8888888888888888,\"#fdca26\"],[1.0,\"#f0f921\"]],\"type\":\"heatmapgl\"}],\"heatmap\":[{\"colorbar\":{\"outlinewidth\":0,\"ticks\":\"\"},\"colorscale\":[[0.0,\"#0d0887\"],[0.1111111111111111,\"#46039f\"],[0.2222222222222222,\"#7201a8\"],[0.3333333333333333,\"#9c179e\"],[0.4444444444444444,\"#bd3786\"],[0.5555555555555556,\"#d8576b\"],[0.6666666666666666,\"#ed7953\"],[0.7777777777777778,\"#fb9f3a\"],[0.8888888888888888,\"#fdca26\"],[1.0,\"#f0f921\"]],\"type\":\"heatmap\"}],\"histogram2dcontour\":[{\"colorbar\":{\"outlinewidth\":0,\"ticks\":\"\"},\"colorscale\":[[0.0,\"#0d0887\"],[0.1111111111111111,\"#46039f\"],[0.2222222222222222,\"#7201a8\"],[0.3333333333333333,\"#9c179e\"],[0.4444444444444444,\"#bd3786\"],[0.5555555555555556,\"#d8576b\"],[0.6666666666666666,\"#ed7953\"],[0.7777777777777778,\"#fb9f3a\"],[0.8888888888888888,\"#fdca26\"],[1.0,\"#f0f921\"]],\"type\":\"histogram2dcontour\"}],\"histogram2d\":[{\"colorbar\":{\"outlinewidth\":0,\"ticks\":\"\"},\"colorscale\":[[0.0,\"#0d0887\"],[0.1111111111111111,\"#46039f\"],[0.2222222222222222,\"#7201a8\"],[0.3333333333333333,\"#9c179e\"],[0.4444444444444444,\"#bd3786\"],[0.5555555555555556,\"#d8576b\"],[0.6666666666666666,\"#ed7953\"],[0.7777777777777778,\"#fb9f3a\"],[0.8888888888888888,\"#fdca26\"],[1.0,\"#f0f921\"]],\"type\":\"histogram2d\"}],\"histogram\":[{\"marker\":{\"pattern\":{\"fillmode\":\"overlay\",\"size\":10,\"solidity\":0.2}},\"type\":\"histogram\"}],\"mesh3d\":[{\"colorbar\":{\"outlinewidth\":0,\"ticks\":\"\"},\"type\":\"mesh3d\"}],\"parcoords\":[{\"line\":{\"colorbar\":{\"outlinewidth\":0,\"ticks\":\"\"}},\"type\":\"parcoords\"}],\"pie\":[{\"automargin\":true,\"type\":\"pie\"}],\"scatter3d\":[{\"line\":{\"colorbar\":{\"outlinewidth\":0,\"ticks\":\"\"}},\"marker\":{\"colorbar\":{\"outlinewidth\":0,\"ticks\":\"\"}},\"type\":\"scatter3d\"}],\"scattercarpet\":[{\"marker\":{\"colorbar\":{\"outlinewidth\":0,\"ticks\":\"\"}},\"type\":\"scattercarpet\"}],\"scattergeo\":[{\"marker\":{\"colorbar\":{\"outlinewidth\":0,\"ticks\":\"\"}},\"type\":\"scattergeo\"}],\"scattergl\":[{\"marker\":{\"line\":{\"color\":\"#283442\"}},\"type\":\"scattergl\"}],\"scattermapbox\":[{\"marker\":{\"colorbar\":{\"outlinewidth\":0,\"ticks\":\"\"}},\"type\":\"scattermapbox\"}],\"scatterpolargl\":[{\"marker\":{\"colorbar\":{\"outlinewidth\":0,\"ticks\":\"\"}},\"type\":\"scatterpolargl\"}],\"scatterpolar\":[{\"marker\":{\"colorbar\":{\"outlinewidth\":0,\"ticks\":\"\"}},\"type\":\"scatterpolar\"}],\"scatter\":[{\"marker\":{\"line\":{\"color\":\"#283442\"}},\"type\":\"scatter\"}],\"scatterternary\":[{\"marker\":{\"colorbar\":{\"outlinewidth\":0,\"ticks\":\"\"}},\"type\":\"scatterternary\"}],\"surface\":[{\"colorbar\":{\"outlinewidth\":0,\"ticks\":\"\"},\"colorscale\":[[0.0,\"#0d0887\"],[0.1111111111111111,\"#46039f\"],[0.2222222222222222,\"#7201a8\"],[0.3333333333333333,\"#9c179e\"],[0.4444444444444444,\"#bd3786\"],[0.5555555555555556,\"#d8576b\"],[0.6666666666666666,\"#ed7953\"],[0.7777777777777778,\"#fb9f3a\"],[0.8888888888888888,\"#fdca26\"],[1.0,\"#f0f921\"]],\"type\":\"surface\"}],\"table\":[{\"cells\":{\"fill\":{\"color\":\"#506784\"},\"line\":{\"color\":\"rgb(17,17,17)\"}},\"header\":{\"fill\":{\"color\":\"#2a3f5f\"},\"line\":{\"color\":\"rgb(17,17,17)\"}},\"type\":\"table\"}]},\"layout\":{\"annotationdefaults\":{\"arrowcolor\":\"#f2f5fa\",\"arrowhead\":0,\"arrowwidth\":1},\"autotypenumbers\":\"strict\",\"coloraxis\":{\"colorbar\":{\"outlinewidth\":0,\"ticks\":\"\"}},\"colorscale\":{\"diverging\":[[0,\"#8e0152\"],[0.1,\"#c51b7d\"],[0.2,\"#de77ae\"],[0.3,\"#f1b6da\"],[0.4,\"#fde0ef\"],[0.5,\"#f7f7f7\"],[0.6,\"#e6f5d0\"],[0.7,\"#b8e186\"],[0.8,\"#7fbc41\"],[0.9,\"#4d9221\"],[1,\"#276419\"]],\"sequential\":[[0.0,\"#0d0887\"],[0.1111111111111111,\"#46039f\"],[0.2222222222222222,\"#7201a8\"],[0.3333333333333333,\"#9c179e\"],[0.4444444444444444,\"#bd3786\"],[0.5555555555555556,\"#d8576b\"],[0.6666666666666666,\"#ed7953\"],[0.7777777777777778,\"#fb9f3a\"],[0.8888888888888888,\"#fdca26\"],[1.0,\"#f0f921\"]],\"sequentialminus\":[[0.0,\"#0d0887\"],[0.1111111111111111,\"#46039f\"],[0.2222222222222222,\"#7201a8\"],[0.3333333333333333,\"#9c179e\"],[0.4444444444444444,\"#bd3786\"],[0.5555555555555556,\"#d8576b\"],[0.6666666666666666,\"#ed7953\"],[0.7777777777777778,\"#fb9f3a\"],[0.8888888888888888,\"#fdca26\"],[1.0,\"#f0f921\"]]},\"colorway\":[\"#636efa\",\"#EF553B\",\"#00cc96\",\"#ab63fa\",\"#FFA15A\",\"#19d3f3\",\"#FF6692\",\"#B6E880\",\"#FF97FF\",\"#FECB52\"],\"font\":{\"color\":\"#f2f5fa\"},\"geo\":{\"bgcolor\":\"rgb(17,17,17)\",\"lakecolor\":\"rgb(17,17,17)\",\"landcolor\":\"rgb(17,17,17)\",\"showlakes\":true,\"showland\":true,\"subunitcolor\":\"#506784\"},\"hoverlabel\":{\"align\":\"left\"},\"hovermode\":\"closest\",\"mapbox\":{\"style\":\"dark\"},\"paper_bgcolor\":\"rgb(17,17,17)\",\"plot_bgcolor\":\"rgb(17,17,17)\",\"polar\":{\"angularaxis\":{\"gridcolor\":\"#506784\",\"linecolor\":\"#506784\",\"ticks\":\"\"},\"bgcolor\":\"rgb(17,17,17)\",\"radialaxis\":{\"gridcolor\":\"#506784\",\"linecolor\":\"#506784\",\"ticks\":\"\"}},\"scene\":{\"xaxis\":{\"backgroundcolor\":\"rgb(17,17,17)\",\"gridcolor\":\"#506784\",\"gridwidth\":2,\"linecolor\":\"#506784\",\"showbackground\":true,\"ticks\":\"\",\"zerolinecolor\":\"#C8D4E3\"},\"yaxis\":{\"backgroundcolor\":\"rgb(17,17,17)\",\"gridcolor\":\"#506784\",\"gridwidth\":2,\"linecolor\":\"#506784\",\"showbackground\":true,\"ticks\":\"\",\"zerolinecolor\":\"#C8D4E3\"},\"zaxis\":{\"backgroundcolor\":\"rgb(17,17,17)\",\"gridcolor\":\"#506784\",\"gridwidth\":2,\"linecolor\":\"#506784\",\"showbackground\":true,\"ticks\":\"\",\"zerolinecolor\":\"#C8D4E3\"}},\"shapedefaults\":{\"line\":{\"color\":\"#f2f5fa\"}},\"sliderdefaults\":{\"bgcolor\":\"#C8D4E3\",\"bordercolor\":\"rgb(17,17,17)\",\"borderwidth\":1,\"tickwidth\":0},\"ternary\":{\"aaxis\":{\"gridcolor\":\"#506784\",\"linecolor\":\"#506784\",\"ticks\":\"\"},\"baxis\":{\"gridcolor\":\"#506784\",\"linecolor\":\"#506784\",\"ticks\":\"\"},\"bgcolor\":\"rgb(17,17,17)\",\"caxis\":{\"gridcolor\":\"#506784\",\"linecolor\":\"#506784\",\"ticks\":\"\"}},\"title\":{\"x\":0.05},\"updatemenudefaults\":{\"bgcolor\":\"#506784\",\"borderwidth\":0},\"xaxis\":{\"automargin\":true,\"gridcolor\":\"#283442\",\"linecolor\":\"#506784\",\"ticks\":\"\",\"title\":{\"standoff\":15},\"zerolinecolor\":\"#283442\",\"zerolinewidth\":2},\"yaxis\":{\"automargin\":true,\"gridcolor\":\"#283442\",\"linecolor\":\"#506784\",\"ticks\":\"\",\"title\":{\"standoff\":15},\"zerolinecolor\":\"#283442\",\"zerolinewidth\":2}}},\"xaxis\":{\"anchor\":\"y\",\"domain\":[0.0,1.0],\"title\":{\"text\":\"Number of Events\",\"font\":{\"size\":20}},\"tickfont\":{\"size\":14}},\"yaxis\":{\"anchor\":\"x\",\"domain\":[0.0,1.0],\"title\":{\"text\":\"Dates\",\"font\":{\"size\":20}},\"tickfont\":{\"size\":14}},\"legend\":{\"title\":{\"text\":\"Application Events\"},\"tracegroupgap\":0,\"font\":{\"size\":16}},\"margin\":{\"t\":60},\"height\":700,\"width\":1200,\"font\":{\"size\":24},\"title\":{\"text\":\"Application Cycle Plot\",\"y\":0.98,\"x\":0.44,\"xanchor\":\"center\",\"yanchor\":\"top\"}},                        {\"responsive\": true}                    ).then(function(){\n",
       "                            \n",
       "var gd = document.getElementById('c6560109-1c4a-4706-8e84-3973005e5939');\n",
       "var x = new MutationObserver(function (mutations, observer) {{\n",
       "        var display = window.getComputedStyle(gd).display;\n",
       "        if (!display || display === 'none') {{\n",
       "            console.log([gd, 'removed!']);\n",
       "            Plotly.purge(gd);\n",
       "            observer.disconnect();\n",
       "        }}\n",
       "}});\n",
       "\n",
       "// Listen for the removal of the full notebook cells\n",
       "var notebookContainer = gd.closest('#notebook-container');\n",
       "if (notebookContainer) {{\n",
       "    x.observe(notebookContainer, {childList: true});\n",
       "}}\n",
       "\n",
       "// Listen for the clearing of the current output cell\n",
       "var outputEl = gd.closest('.output');\n",
       "if (outputEl) {{\n",
       "    x.observe(outputEl, {childList: true});\n",
       "}}\n",
       "\n",
       "                        })                };                });            </script>        </div>"
      ]
     },
     "metadata": {},
     "output_type": "display_data"
    }
   ],
   "source": [
    "# Plotting the figure\n",
    "fig = px.line(dan_sort2, x=\"Dates\", y=\"tracker\", color=\"Actions\", \n",
    "              hover_data=[\"Schools\", \"Actions\", \"Dates\"], markers=True, line_shape=\"hv\", color_discrete_map=color_map,\n",
    "              template=response_answer, width=1200, height=700)\n",
    "# Updating the figure with title + axes + legend labels, font sizes for the title + x, y ticks + legend size, and x, y axes labels.  Then centering the title.\n",
    "fig.update_layout(title=\"Application Cycle Plot\",\n",
    "                 xaxis_title=\"Number of Events\",\n",
    "                 yaxis_title=\"Dates\",\n",
    "                 legend_title=\"Application Events\",\n",
    "                 font=dict(size=24))\n",
    "fig.update_layout(yaxis=dict(tickfont=dict(size=14)), xaxis=dict(tickfont=dict(size=14)))\n",
    "fig.update_layout(legend=dict(font=dict(size=16)))\n",
    "fig.update_xaxes(title_font=dict(size=20))\n",
    "fig.update_yaxes(title_font=dict(size=20))\n",
    "fig.update_layout(title={'text': \"Application Cycle Plot\", 'y':0.98, 'x':0.44, 'xanchor': 'center', 'yanchor': 'top'})\n",
    "fig.show()"
   ]
  },
  {
   "cell_type": "code",
   "execution_count": 13,
   "id": "4eb01542-cf6c-4b1e-bb58-926537f4712c",
   "metadata": {},
   "outputs": [
    {
     "data": {
      "text/html": [
       "<div>\n",
       "<style scoped>\n",
       "    .dataframe tbody tr th:only-of-type {\n",
       "        vertical-align: middle;\n",
       "    }\n",
       "\n",
       "    .dataframe tbody tr th {\n",
       "        vertical-align: top;\n",
       "    }\n",
       "\n",
       "    .dataframe thead th {\n",
       "        text-align: right;\n",
       "    }\n",
       "</style>\n",
       "<table border=\"1\" class=\"dataframe\">\n",
       "  <thead>\n",
       "    <tr style=\"text-align: right;\">\n",
       "      <th></th>\n",
       "      <th>Schools</th>\n",
       "      <th>Actions</th>\n",
       "      <th>Dates</th>\n",
       "    </tr>\n",
       "  </thead>\n",
       "  <tbody>\n",
       "    <tr>\n",
       "      <th>0</th>\n",
       "      <td>Harvard</td>\n",
       "      <td>Secondary Invite</td>\n",
       "      <td>2021-07-06</td>\n",
       "    </tr>\n",
       "    <tr>\n",
       "      <th>1</th>\n",
       "      <td>University of Washington</td>\n",
       "      <td>Secondary Invite</td>\n",
       "      <td>2021-07-12</td>\n",
       "    </tr>\n",
       "    <tr>\n",
       "      <th>2</th>\n",
       "      <td>Duke</td>\n",
       "      <td>Secondary Invite</td>\n",
       "      <td>2021-07-15</td>\n",
       "    </tr>\n",
       "    <tr>\n",
       "      <th>3</th>\n",
       "      <td>UC San Diego</td>\n",
       "      <td>Secondary Invite</td>\n",
       "      <td>2021-06-30</td>\n",
       "    </tr>\n",
       "    <tr>\n",
       "      <th>4</th>\n",
       "      <td>Stanford</td>\n",
       "      <td>Secondary Invite</td>\n",
       "      <td>2021-07-02</td>\n",
       "    </tr>\n",
       "    <tr>\n",
       "      <th>...</th>\n",
       "      <td>...</td>\n",
       "      <td>...</td>\n",
       "      <td>...</td>\n",
       "    </tr>\n",
       "    <tr>\n",
       "      <th>173</th>\n",
       "      <td>University of Colorado</td>\n",
       "      <td>Waitlist</td>\n",
       "      <td>2021-09-28</td>\n",
       "    </tr>\n",
       "    <tr>\n",
       "      <th>199</th>\n",
       "      <td>Stony Brook</td>\n",
       "      <td>Withdraw</td>\n",
       "      <td>2022-01-12</td>\n",
       "    </tr>\n",
       "    <tr>\n",
       "      <th>202</th>\n",
       "      <td>University of Colorado</td>\n",
       "      <td>Withdraw</td>\n",
       "      <td>2022-01-14</td>\n",
       "    </tr>\n",
       "    <tr>\n",
       "      <th>211</th>\n",
       "      <td>Baylor</td>\n",
       "      <td>Acceptance</td>\n",
       "      <td>2021-12-23</td>\n",
       "    </tr>\n",
       "    <tr>\n",
       "      <th>230</th>\n",
       "      <td>University of Iowa</td>\n",
       "      <td>Acceptance</td>\n",
       "      <td>2021-12-01</td>\n",
       "    </tr>\n",
       "  </tbody>\n",
       "</table>\n",
       "<p>97 rows × 3 columns</p>\n",
       "</div>"
      ],
      "text/plain": [
       "                      Schools           Actions      Dates\n",
       "0                     Harvard  Secondary Invite 2021-07-06\n",
       "1    University of Washington  Secondary Invite 2021-07-12\n",
       "2                        Duke  Secondary Invite 2021-07-15\n",
       "3                UC San Diego  Secondary Invite 2021-06-30\n",
       "4                    Stanford  Secondary Invite 2021-07-02\n",
       "..                        ...               ...        ...\n",
       "173    University of Colorado          Waitlist 2021-09-28\n",
       "199               Stony Brook          Withdraw 2022-01-12\n",
       "202    University of Colorado          Withdraw 2022-01-14\n",
       "211                    Baylor        Acceptance 2021-12-23\n",
       "230        University of Iowa        Acceptance 2021-12-01\n",
       "\n",
       "[97 rows x 3 columns]"
      ]
     },
     "execution_count": 13,
     "metadata": {},
     "output_type": "execute_result"
    }
   ],
   "source": [
    "# Importing the excel doc and processing it\n",
    "dan = pd.read_excel(main_dir+\"/example_excel_files/Dan's Application Cycle Dark.xlsx\")\n",
    "# Getting the actions (column) names and melting the df into a favorable format\n",
    "column_names = list(dan.columns)\n",
    "col1 = column_names[0]\n",
    "column_names = column_names[1:]\n",
    "dan = dan.melt(id_vars=col1, value_vars=column_names, var_name=\"Actions\", value_name=\"Dates\")\n",
    "dan[\"Dates\"] = pd.to_datetime(dan[\"Dates\"])\n",
    "dan = dan[dan[\"Dates\"].notna()]\n",
    "dan"
   ]
  },
  {
   "cell_type": "code",
   "execution_count": 31,
   "id": "982238ee-55b1-47a4-8717-bbae7b5f873f",
   "metadata": {
    "collapsed": true,
    "jupyter": {
     "outputs_hidden": true
    },
    "tags": []
   },
   "outputs": [
    {
     "name": "stdout",
     "output_type": "stream",
     "text": [
      "    Schools     Actions      Dates\n",
      "211  Baylor  Acceptance 2021-12-23\n",
      "    Schools    Actions      Dates\n",
      "124  Baylor  Interview 2021-10-21\n",
      "   Schools           Actions      Dates\n",
      "95  Baylor  Interview Invite 2021-09-21\n",
      "  Schools           Actions      Dates\n",
      "8  Baylor  Secondary Invite 2021-07-01\n",
      "   Schools               Actions      Dates\n",
      "37  Baylor  Secondary Submission 2021-07-03\n",
      "                             Schools    Actions      Dates\n",
      "135  Case Western Reserve University  Interview 2021-12-01\n",
      "                             Schools           Actions      Dates\n",
      "106  Case Western Reserve University  Interview Invite 2021-08-26\n",
      "                            Schools           Actions      Dates\n",
      "19  Case Western Reserve University  Secondary Invite 2021-07-09\n",
      "                            Schools               Actions      Dates\n",
      "48  Case Western Reserve University  Secondary Submission 2021-07-16\n",
      "                             Schools   Actions      Dates\n",
      "164  Case Western Reserve University  Waitlist 2022-01-14\n",
      "     Schools           Actions      Dates\n",
      "15  Columbia  Secondary Invite 2021-07-04\n",
      "     Schools               Actions      Dates\n",
      "44  Columbia  Secondary Submission 2021-07-10\n",
      "  Schools           Actions      Dates\n",
      "2    Duke  Secondary Invite 2021-07-15\n",
      "   Schools               Actions      Dates\n",
      "31    Duke  Secondary Submission 2021-07-24\n",
      "   Schools           Actions      Dates\n",
      "0  Harvard  Secondary Invite 2021-07-06\n",
      "    Schools               Actions      Dates\n",
      "29  Harvard  Secondary Submission 2021-07-11\n",
      "                     Schools    Actions      Dates\n",
      "74  Johns Hopkins University  Rejection 2021-11-09\n",
      "                     Schools           Actions      Dates\n",
      "16  Johns Hopkins University  Secondary Invite 2021-06-28\n",
      "                     Schools               Actions      Dates\n",
      "45  Johns Hopkins University  Secondary Submission 2021-07-02\n",
      "                Schools    Actions      Dates\n",
      "72  New York University  Rejection 2021-12-08\n",
      "                Schools           Actions      Dates\n",
      "14  New York University  Secondary Invite 2021-06-25\n",
      "                Schools               Actions      Dates\n",
      "43  New York University  Secondary Submission 2021-06-29\n",
      "          Schools    Actions      Dates\n",
      "129  Northwestern  Interview 2021-09-22\n",
      "          Schools           Actions      Dates\n",
      "100  Northwestern  Interview Invite 2021-08-25\n",
      "         Schools           Actions      Dates\n",
      "13  Northwestern  Secondary Invite 2021-07-16\n",
      "         Schools               Actions      Dates\n",
      "42  Northwestern  Secondary Submission 2021-07-19\n",
      "          Schools   Actions      Dates\n",
      "158  Northwestern  Waitlist 2021-10-22\n",
      "                                  Schools    Actions      Dates\n",
      "136  Oregon Health and Science University  Interview 2021-10-25\n",
      "                                  Schools           Actions      Dates\n",
      "107  Oregon Health and Science University  Interview Invite 2021-09-20\n",
      "                                 Schools           Actions      Dates\n",
      "20  Oregon Health and Science University  Secondary Invite 2021-07-07\n",
      "                                 Schools               Actions      Dates\n",
      "49  Oregon Health and Science University  Secondary Submission 2021-07-18\n",
      "                                  Schools   Actions      Dates\n",
      "165  Oregon Health and Science University  Waitlist 2021-11-16\n",
      "     Schools    Actions      Dates\n",
      "62  Stanford  Rejection 2021-10-07\n",
      "    Schools           Actions      Dates\n",
      "4  Stanford  Secondary Invite 2021-07-02\n",
      "     Schools               Actions      Dates\n",
      "33  Stanford  Secondary Submission 2021-07-08\n",
      "        Schools           Actions      Dates\n",
      "25  Stony Brook  Secondary Invite 2021-06-30\n",
      "        Schools               Actions      Dates\n",
      "54  Stony Brook  Secondary Submission 2021-07-02\n",
      "         Schools   Actions      Dates\n",
      "199  Stony Brook  Withdraw 2022-01-12\n",
      "       Schools    Actions      Dates\n",
      "137  UC Irvine  Interview 2021-11-15\n",
      "       Schools           Actions      Dates\n",
      "108  UC Irvine  Interview Invite 2021-10-25\n",
      "      Schools           Actions      Dates\n",
      "21  UC Irvine  Secondary Invite 2021-07-14\n",
      "      Schools               Actions      Dates\n",
      "50  UC Irvine  Secondary Submission 2021-07-28\n",
      "       Schools   Actions      Dates\n",
      "166  UC Irvine  Waitlist 2021-12-10\n",
      "        Schools           Actions      Dates\n",
      "3  UC San Diego  Secondary Invite 2021-06-30\n",
      "         Schools               Actions      Dates\n",
      "32  UC San Diego  Secondary Submission 2021-07-06\n",
      "   Schools           Actions      Dates\n",
      "10    UCLA  Secondary Invite 2021-07-12\n",
      "   Schools               Actions      Dates\n",
      "39    UCLA  Secondary Submission 2021-07-26\n",
      "   Schools    Actions      Dates\n",
      "63    UCSF  Rejection 2021-12-02\n",
      "  Schools           Actions      Dates\n",
      "5    UCSF  Secondary Invite 2021-07-30\n",
      "   Schools               Actions      Dates\n",
      "34    UCSF  Secondary Submission 2021-08-28\n",
      "             Schools    Actions      Dates\n",
      "139  UT Southwestern  Interview 2021-09-17\n",
      "             Schools           Actions      Dates\n",
      "110  UT Southwestern  Interview Invite 2021-08-26\n",
      "            Schools           Actions      Dates\n",
      "23  UT Southwestern  Secondary Invite 2021-06-26\n",
      "            Schools               Actions      Dates\n",
      "52  UT Southwestern  Secondary Submission 2021-06-26\n",
      "                   Schools           Actions      Dates\n",
      "28  University of Colorado  Secondary Invite 2021-07-20\n",
      "                   Schools               Actions      Dates\n",
      "57  University of Colorado  Secondary Submission 2021-08-01\n",
      "                    Schools   Actions      Dates\n",
      "173  University of Colorado  Waitlist 2021-09-28\n",
      "                    Schools   Actions      Dates\n",
      "202  University of Colorado  Withdraw 2022-01-14\n",
      "                Schools     Actions      Dates\n",
      "230  University of Iowa  Acceptance 2021-12-01\n",
      "                Schools    Actions      Dates\n",
      "143  University of Iowa  Interview 2021-11-02\n",
      "                Schools           Actions      Dates\n",
      "114  University of Iowa  Interview Invite 2021-09-08\n",
      "               Schools           Actions      Dates\n",
      "27  University of Iowa  Secondary Invite 2021-07-06\n",
      "               Schools               Actions      Dates\n",
      "56  University of Iowa  Secondary Submission 2021-07-11\n",
      "                  Schools           Actions      Dates\n",
      "6  University of Michigan  Secondary Invite 2021-06-25\n",
      "                   Schools               Actions      Dates\n",
      "35  University of Michigan  Secondary Submission 2021-06-26\n",
      "                          Schools    Actions      Dates\n",
      "125  University of North Carolina  Interview 2022-01-09\n",
      "                         Schools           Actions      Dates\n",
      "96  University of North Carolina  Interview Invite 2021-11-10\n",
      "                        Schools           Actions      Dates\n",
      "9  University of North Carolina  Secondary Invite 2021-07-09\n",
      "                         Schools               Actions      Dates\n",
      "38  University of North Carolina  Secondary Submission 2021-07-17\n",
      "                       Schools           Actions      Dates\n",
      "11  University of Pennsylvania  Secondary Invite 2021-06-25\n",
      "                       Schools               Actions      Dates\n",
      "40  University of Pennsylvania  Secondary Submission 2021-06-30\n",
      "                     Schools    Actions      Dates\n",
      "84  University of Pittsburgh  Rejection 2021-10-01\n",
      "                     Schools           Actions      Dates\n",
      "26  University of Pittsburgh  Secondary Invite 2021-07-01\n",
      "                     Schools               Actions      Dates\n",
      "55  University of Pittsburgh  Secondary Submission 2021-07-05\n",
      "               Schools           Actions      Dates\n",
      "22  University of Utah  Secondary Invite 2021-07-15\n",
      "               Schools               Actions      Dates\n",
      "51  University of Utah  Secondary Submission 2021-07-28\n",
      "                      Schools    Actions      Dates\n",
      "117  University of Washington  Interview 2022-01-06\n",
      "                     Schools           Actions      Dates\n",
      "88  University of Washington  Interview Invite 2021-08-02\n",
      "                    Schools           Actions      Dates\n",
      "1  University of Washington  Secondary Invite 2021-07-12\n",
      "                     Schools               Actions      Dates\n",
      "30  University of Washington  Secondary Submission 2021-07-19\n",
      "                      Schools   Actions      Dates\n",
      "146  University of Washington  Waitlist 2022-01-10\n",
      "                    Schools           Actions      Dates\n",
      "24  University of Wisconsin  Secondary Invite 2021-07-20\n",
      "                    Schools               Actions      Dates\n",
      "53  University of Wisconsin  Secondary Submission 2021-08-23\n",
      "        Schools    Actions      Dates\n",
      "123  Vanderbilt  Interview 2021-10-07\n",
      "       Schools           Actions      Dates\n",
      "94  Vanderbilt  Interview Invite 2021-08-27\n",
      "      Schools           Actions      Dates\n",
      "7  Vanderbilt  Secondary Invite 2021-07-07\n",
      "       Schools               Actions      Dates\n",
      "36  Vanderbilt  Secondary Submission 2021-07-14\n",
      "        Schools   Actions      Dates\n",
      "152  Vanderbilt  Waitlist 2022-01-07\n",
      "                               Schools    Actions      Dates\n",
      "75  Washington University in St. Louis  Rejection 2021-12-06\n",
      "                               Schools           Actions      Dates\n",
      "17  Washington University in St. Louis  Secondary Invite 2021-07-01\n",
      "                               Schools               Actions      Dates\n",
      "46  Washington University in St. Louis  Secondary Submission 2021-07-04\n",
      "                Schools    Actions      Dates\n",
      "70  Weill Cornell Tri-I  Rejection 2021-08-06\n",
      "                Schools           Actions      Dates\n",
      "12  Weill Cornell Tri-I  Secondary Invite 2021-07-07\n",
      "                Schools               Actions      Dates\n",
      "41  Weill Cornell Tri-I  Secondary Submission 2021-07-12\n",
      "   Schools    Actions      Dates\n",
      "76    Yale  Rejection 2021-12-16\n",
      "   Schools           Actions      Dates\n",
      "18    Yale  Secondary Invite 2021-07-12\n",
      "   Schools               Actions      Dates\n",
      "47    Yale  Secondary Submission 2021-07-26\n"
     ]
    }
   ],
   "source": [
    "dan_gb = dan.groupby([\"Schools\", \"Actions\"])\n",
    "for name, group in dan_gb:\n",
    "    print(group)"
   ]
  },
  {
   "cell_type": "code",
   "execution_count": 39,
   "id": "5a7605df-10cc-4dd9-87d1-613aefcd45f7",
   "metadata": {},
   "outputs": [
    {
     "data": {
      "text/html": [
       "<div>\n",
       "<style scoped>\n",
       "    .dataframe tbody tr th:only-of-type {\n",
       "        vertical-align: middle;\n",
       "    }\n",
       "\n",
       "    .dataframe tbody tr th {\n",
       "        vertical-align: top;\n",
       "    }\n",
       "\n",
       "    .dataframe thead th {\n",
       "        text-align: right;\n",
       "    }\n",
       "</style>\n",
       "<table border=\"1\" class=\"dataframe\">\n",
       "  <thead>\n",
       "    <tr style=\"text-align: right;\">\n",
       "      <th></th>\n",
       "      <th>2021-06-25</th>\n",
       "      <th>2021-06-26</th>\n",
       "      <th>2021-06-27</th>\n",
       "      <th>2021-06-28</th>\n",
       "      <th>2021-06-29</th>\n",
       "      <th>2021-06-30</th>\n",
       "      <th>2021-07-01</th>\n",
       "      <th>2021-07-02</th>\n",
       "      <th>2021-07-03</th>\n",
       "      <th>2021-07-04</th>\n",
       "      <th>...</th>\n",
       "      <th>2022-01-05</th>\n",
       "      <th>2022-01-06</th>\n",
       "      <th>2022-01-07</th>\n",
       "      <th>2022-01-08</th>\n",
       "      <th>2022-01-09</th>\n",
       "      <th>2022-01-10</th>\n",
       "      <th>2022-01-11</th>\n",
       "      <th>2022-01-12</th>\n",
       "      <th>2022-01-13</th>\n",
       "      <th>2022-01-14</th>\n",
       "    </tr>\n",
       "  </thead>\n",
       "  <tbody>\n",
       "    <tr>\n",
       "      <th>Secondary Invite</th>\n",
       "      <td>NaN</td>\n",
       "      <td>NaN</td>\n",
       "      <td>NaN</td>\n",
       "      <td>NaN</td>\n",
       "      <td>NaN</td>\n",
       "      <td>NaN</td>\n",
       "      <td>NaN</td>\n",
       "      <td>NaN</td>\n",
       "      <td>NaN</td>\n",
       "      <td>NaN</td>\n",
       "      <td>...</td>\n",
       "      <td>NaN</td>\n",
       "      <td>NaN</td>\n",
       "      <td>NaN</td>\n",
       "      <td>NaN</td>\n",
       "      <td>NaN</td>\n",
       "      <td>NaN</td>\n",
       "      <td>NaN</td>\n",
       "      <td>NaN</td>\n",
       "      <td>NaN</td>\n",
       "      <td>NaN</td>\n",
       "    </tr>\n",
       "    <tr>\n",
       "      <th>Secondary Submission</th>\n",
       "      <td>NaN</td>\n",
       "      <td>NaN</td>\n",
       "      <td>NaN</td>\n",
       "      <td>NaN</td>\n",
       "      <td>NaN</td>\n",
       "      <td>NaN</td>\n",
       "      <td>NaN</td>\n",
       "      <td>NaN</td>\n",
       "      <td>NaN</td>\n",
       "      <td>NaN</td>\n",
       "      <td>...</td>\n",
       "      <td>NaN</td>\n",
       "      <td>NaN</td>\n",
       "      <td>NaN</td>\n",
       "      <td>NaN</td>\n",
       "      <td>NaN</td>\n",
       "      <td>NaN</td>\n",
       "      <td>NaN</td>\n",
       "      <td>NaN</td>\n",
       "      <td>NaN</td>\n",
       "      <td>NaN</td>\n",
       "    </tr>\n",
       "    <tr>\n",
       "      <th>Rejection</th>\n",
       "      <td>NaN</td>\n",
       "      <td>NaN</td>\n",
       "      <td>NaN</td>\n",
       "      <td>NaN</td>\n",
       "      <td>NaN</td>\n",
       "      <td>NaN</td>\n",
       "      <td>NaN</td>\n",
       "      <td>NaN</td>\n",
       "      <td>NaN</td>\n",
       "      <td>NaN</td>\n",
       "      <td>...</td>\n",
       "      <td>NaN</td>\n",
       "      <td>NaN</td>\n",
       "      <td>NaN</td>\n",
       "      <td>NaN</td>\n",
       "      <td>NaN</td>\n",
       "      <td>NaN</td>\n",
       "      <td>NaN</td>\n",
       "      <td>NaN</td>\n",
       "      <td>NaN</td>\n",
       "      <td>NaN</td>\n",
       "    </tr>\n",
       "    <tr>\n",
       "      <th>Interview Invite</th>\n",
       "      <td>NaN</td>\n",
       "      <td>NaN</td>\n",
       "      <td>NaN</td>\n",
       "      <td>NaN</td>\n",
       "      <td>NaN</td>\n",
       "      <td>NaN</td>\n",
       "      <td>NaN</td>\n",
       "      <td>NaN</td>\n",
       "      <td>NaN</td>\n",
       "      <td>NaN</td>\n",
       "      <td>...</td>\n",
       "      <td>NaN</td>\n",
       "      <td>NaN</td>\n",
       "      <td>NaN</td>\n",
       "      <td>NaN</td>\n",
       "      <td>NaN</td>\n",
       "      <td>NaN</td>\n",
       "      <td>NaN</td>\n",
       "      <td>NaN</td>\n",
       "      <td>NaN</td>\n",
       "      <td>NaN</td>\n",
       "    </tr>\n",
       "    <tr>\n",
       "      <th>Interview</th>\n",
       "      <td>NaN</td>\n",
       "      <td>NaN</td>\n",
       "      <td>NaN</td>\n",
       "      <td>NaN</td>\n",
       "      <td>NaN</td>\n",
       "      <td>NaN</td>\n",
       "      <td>NaN</td>\n",
       "      <td>NaN</td>\n",
       "      <td>NaN</td>\n",
       "      <td>NaN</td>\n",
       "      <td>...</td>\n",
       "      <td>NaN</td>\n",
       "      <td>NaN</td>\n",
       "      <td>NaN</td>\n",
       "      <td>NaN</td>\n",
       "      <td>NaN</td>\n",
       "      <td>NaN</td>\n",
       "      <td>NaN</td>\n",
       "      <td>NaN</td>\n",
       "      <td>NaN</td>\n",
       "      <td>NaN</td>\n",
       "    </tr>\n",
       "    <tr>\n",
       "      <th>Waitlist</th>\n",
       "      <td>NaN</td>\n",
       "      <td>NaN</td>\n",
       "      <td>NaN</td>\n",
       "      <td>NaN</td>\n",
       "      <td>NaN</td>\n",
       "      <td>NaN</td>\n",
       "      <td>NaN</td>\n",
       "      <td>NaN</td>\n",
       "      <td>NaN</td>\n",
       "      <td>NaN</td>\n",
       "      <td>...</td>\n",
       "      <td>NaN</td>\n",
       "      <td>NaN</td>\n",
       "      <td>NaN</td>\n",
       "      <td>NaN</td>\n",
       "      <td>NaN</td>\n",
       "      <td>NaN</td>\n",
       "      <td>NaN</td>\n",
       "      <td>NaN</td>\n",
       "      <td>NaN</td>\n",
       "      <td>NaN</td>\n",
       "    </tr>\n",
       "    <tr>\n",
       "      <th>Withdraw</th>\n",
       "      <td>NaN</td>\n",
       "      <td>NaN</td>\n",
       "      <td>NaN</td>\n",
       "      <td>NaN</td>\n",
       "      <td>NaN</td>\n",
       "      <td>NaN</td>\n",
       "      <td>NaN</td>\n",
       "      <td>NaN</td>\n",
       "      <td>NaN</td>\n",
       "      <td>NaN</td>\n",
       "      <td>...</td>\n",
       "      <td>NaN</td>\n",
       "      <td>NaN</td>\n",
       "      <td>NaN</td>\n",
       "      <td>NaN</td>\n",
       "      <td>NaN</td>\n",
       "      <td>NaN</td>\n",
       "      <td>NaN</td>\n",
       "      <td>NaN</td>\n",
       "      <td>NaN</td>\n",
       "      <td>NaN</td>\n",
       "    </tr>\n",
       "    <tr>\n",
       "      <th>Acceptance</th>\n",
       "      <td>NaN</td>\n",
       "      <td>NaN</td>\n",
       "      <td>NaN</td>\n",
       "      <td>NaN</td>\n",
       "      <td>NaN</td>\n",
       "      <td>NaN</td>\n",
       "      <td>NaN</td>\n",
       "      <td>NaN</td>\n",
       "      <td>NaN</td>\n",
       "      <td>NaN</td>\n",
       "      <td>...</td>\n",
       "      <td>NaN</td>\n",
       "      <td>NaN</td>\n",
       "      <td>NaN</td>\n",
       "      <td>NaN</td>\n",
       "      <td>NaN</td>\n",
       "      <td>NaN</td>\n",
       "      <td>NaN</td>\n",
       "      <td>NaN</td>\n",
       "      <td>NaN</td>\n",
       "      <td>NaN</td>\n",
       "    </tr>\n",
       "  </tbody>\n",
       "</table>\n",
       "<p>8 rows × 204 columns</p>\n",
       "</div>"
      ],
      "text/plain": [
       "                     2021-06-25 2021-06-26 2021-06-27 2021-06-28 2021-06-29  \\\n",
       "Secondary Invite            NaN        NaN        NaN        NaN        NaN   \n",
       "Secondary Submission        NaN        NaN        NaN        NaN        NaN   \n",
       "Rejection                   NaN        NaN        NaN        NaN        NaN   \n",
       "Interview Invite            NaN        NaN        NaN        NaN        NaN   \n",
       "Interview                   NaN        NaN        NaN        NaN        NaN   \n",
       "Waitlist                    NaN        NaN        NaN        NaN        NaN   \n",
       "Withdraw                    NaN        NaN        NaN        NaN        NaN   \n",
       "Acceptance                  NaN        NaN        NaN        NaN        NaN   \n",
       "\n",
       "                     2021-06-30 2021-07-01 2021-07-02 2021-07-03 2021-07-04  \\\n",
       "Secondary Invite            NaN        NaN        NaN        NaN        NaN   \n",
       "Secondary Submission        NaN        NaN        NaN        NaN        NaN   \n",
       "Rejection                   NaN        NaN        NaN        NaN        NaN   \n",
       "Interview Invite            NaN        NaN        NaN        NaN        NaN   \n",
       "Interview                   NaN        NaN        NaN        NaN        NaN   \n",
       "Waitlist                    NaN        NaN        NaN        NaN        NaN   \n",
       "Withdraw                    NaN        NaN        NaN        NaN        NaN   \n",
       "Acceptance                  NaN        NaN        NaN        NaN        NaN   \n",
       "\n",
       "                      ... 2022-01-05 2022-01-06 2022-01-07 2022-01-08  \\\n",
       "Secondary Invite      ...        NaN        NaN        NaN        NaN   \n",
       "Secondary Submission  ...        NaN        NaN        NaN        NaN   \n",
       "Rejection             ...        NaN        NaN        NaN        NaN   \n",
       "Interview Invite      ...        NaN        NaN        NaN        NaN   \n",
       "Interview             ...        NaN        NaN        NaN        NaN   \n",
       "Waitlist              ...        NaN        NaN        NaN        NaN   \n",
       "Withdraw              ...        NaN        NaN        NaN        NaN   \n",
       "Acceptance            ...        NaN        NaN        NaN        NaN   \n",
       "\n",
       "                     2022-01-09 2022-01-10 2022-01-11 2022-01-12 2022-01-13  \\\n",
       "Secondary Invite            NaN        NaN        NaN        NaN        NaN   \n",
       "Secondary Submission        NaN        NaN        NaN        NaN        NaN   \n",
       "Rejection                   NaN        NaN        NaN        NaN        NaN   \n",
       "Interview Invite            NaN        NaN        NaN        NaN        NaN   \n",
       "Interview                   NaN        NaN        NaN        NaN        NaN   \n",
       "Waitlist                    NaN        NaN        NaN        NaN        NaN   \n",
       "Withdraw                    NaN        NaN        NaN        NaN        NaN   \n",
       "Acceptance                  NaN        NaN        NaN        NaN        NaN   \n",
       "\n",
       "                     2022-01-14  \n",
       "Secondary Invite            NaN  \n",
       "Secondary Submission        NaN  \n",
       "Rejection                   NaN  \n",
       "Interview Invite            NaN  \n",
       "Interview                   NaN  \n",
       "Waitlist                    NaN  \n",
       "Withdraw                    NaN  \n",
       "Acceptance                  NaN  \n",
       "\n",
       "[8 rows x 204 columns]"
      ]
     },
     "execution_count": 39,
     "metadata": {},
     "output_type": "execute_result"
    }
   ],
   "source": [
    "date_min = min(dan[\"Dates\"])\n",
    "date_max = max(dan[\"Dates\"])\n",
    "time_elapsed = (date_max - date_min).days\n",
    "dates = []\n",
    "for d in range(time_elapsed+1):\n",
    "    date = date_min + datetime.timedelta(days=d)\n",
    "    date = pd.to_datetime(date)\n",
    "    dates.append(date)\n",
    "dates_series = pd.Series(dates)\n",
    "dates_df = pd.DataFrame(columns=dates_series, index=column_names)\n",
    "dates_df"
   ]
  },
  {
   "cell_type": "code",
   "execution_count": 50,
   "id": "9259d81f-114f-47ac-8318-12579f16e4d8",
   "metadata": {
    "collapsed": true,
    "jupyter": {
     "outputs_hidden": true
    },
    "tags": []
   },
   "outputs": [
    {
     "name": "stdout",
     "output_type": "stream",
     "text": [
      "Secondary Invite    3\n",
      "Name: Actions, dtype: int64\n",
      "Secondary Submission    2\n",
      "Secondary Invite        1\n",
      "Name: Actions, dtype: int64\n",
      "Series([], Name: Actions, dtype: int64)\n",
      "Secondary Invite    1\n",
      "Name: Actions, dtype: int64\n",
      "Secondary Submission    1\n",
      "Name: Actions, dtype: int64\n",
      "Secondary Invite        2\n",
      "Secondary Submission    1\n",
      "Name: Actions, dtype: int64\n",
      "Secondary Invite    3\n",
      "Name: Actions, dtype: int64\n",
      "Secondary Submission    2\n",
      "Secondary Invite        1\n",
      "Name: Actions, dtype: int64\n",
      "Secondary Submission    1\n",
      "Name: Actions, dtype: int64\n",
      "Secondary Invite        1\n",
      "Secondary Submission    1\n",
      "Name: Actions, dtype: int64\n",
      "Secondary Submission    1\n",
      "Name: Actions, dtype: int64\n",
      "Secondary Invite        2\n",
      "Secondary Submission    1\n",
      "Name: Actions, dtype: int64\n",
      "Secondary Invite    3\n",
      "Name: Actions, dtype: int64\n",
      "Secondary Submission    1\n",
      "Name: Actions, dtype: int64\n",
      "Secondary Invite    2\n",
      "Name: Actions, dtype: int64\n",
      "Secondary Submission    1\n",
      "Name: Actions, dtype: int64\n",
      "Secondary Submission    2\n",
      "Name: Actions, dtype: int64\n",
      "Secondary Invite        3\n",
      "Secondary Submission    1\n",
      "Name: Actions, dtype: int64\n",
      "Series([], Name: Actions, dtype: int64)\n",
      "Secondary Invite        1\n",
      "Secondary Submission    1\n",
      "Name: Actions, dtype: int64\n",
      "Secondary Invite    2\n",
      "Name: Actions, dtype: int64\n",
      "Secondary Invite        1\n",
      "Secondary Submission    1\n",
      "Name: Actions, dtype: int64\n",
      "Secondary Submission    1\n",
      "Name: Actions, dtype: int64\n",
      "Secondary Submission    1\n",
      "Name: Actions, dtype: int64\n",
      "Secondary Submission    2\n",
      "Name: Actions, dtype: int64\n",
      "Secondary Invite    2\n",
      "Name: Actions, dtype: int64\n",
      "Series([], Name: Actions, dtype: int64)\n",
      "Series([], Name: Actions, dtype: int64)\n",
      "Series([], Name: Actions, dtype: int64)\n",
      "Secondary Submission    1\n",
      "Name: Actions, dtype: int64\n",
      "Series([], Name: Actions, dtype: int64)\n",
      "Secondary Submission    2\n",
      "Name: Actions, dtype: int64\n",
      "Series([], Name: Actions, dtype: int64)\n",
      "Secondary Submission    2\n",
      "Name: Actions, dtype: int64\n",
      "Series([], Name: Actions, dtype: int64)\n",
      "Secondary Invite    1\n",
      "Name: Actions, dtype: int64\n",
      "Series([], Name: Actions, dtype: int64)\n",
      "Secondary Submission    1\n",
      "Name: Actions, dtype: int64\n",
      "Interview Invite    1\n",
      "Name: Actions, dtype: int64\n",
      "Series([], Name: Actions, dtype: int64)\n",
      "Series([], Name: Actions, dtype: int64)\n",
      "Series([], Name: Actions, dtype: int64)\n",
      "Rejection    1\n",
      "Name: Actions, dtype: int64\n",
      "Series([], Name: Actions, dtype: int64)\n",
      "Series([], Name: Actions, dtype: int64)\n",
      "Series([], Name: Actions, dtype: int64)\n",
      "Series([], Name: Actions, dtype: int64)\n",
      "Series([], Name: Actions, dtype: int64)\n",
      "Series([], Name: Actions, dtype: int64)\n",
      "Series([], Name: Actions, dtype: int64)\n",
      "Series([], Name: Actions, dtype: int64)\n",
      "Series([], Name: Actions, dtype: int64)\n",
      "Series([], Name: Actions, dtype: int64)\n",
      "Series([], Name: Actions, dtype: int64)\n",
      "Series([], Name: Actions, dtype: int64)\n",
      "Series([], Name: Actions, dtype: int64)\n",
      "Series([], Name: Actions, dtype: int64)\n",
      "Series([], Name: Actions, dtype: int64)\n",
      "Series([], Name: Actions, dtype: int64)\n",
      "Secondary Submission    1\n",
      "Name: Actions, dtype: int64\n",
      "Series([], Name: Actions, dtype: int64)\n",
      "Interview Invite    1\n",
      "Name: Actions, dtype: int64\n",
      "Interview Invite    2\n",
      "Name: Actions, dtype: int64\n",
      "Interview Invite    1\n",
      "Name: Actions, dtype: int64\n",
      "Secondary Submission    1\n",
      "Name: Actions, dtype: int64\n",
      "Series([], Name: Actions, dtype: int64)\n",
      "Series([], Name: Actions, dtype: int64)\n",
      "Series([], Name: Actions, dtype: int64)\n",
      "Series([], Name: Actions, dtype: int64)\n",
      "Series([], Name: Actions, dtype: int64)\n",
      "Series([], Name: Actions, dtype: int64)\n",
      "Series([], Name: Actions, dtype: int64)\n",
      "Series([], Name: Actions, dtype: int64)\n",
      "Series([], Name: Actions, dtype: int64)\n",
      "Series([], Name: Actions, dtype: int64)\n",
      "Interview Invite    1\n",
      "Name: Actions, dtype: int64\n",
      "Series([], Name: Actions, dtype: int64)\n",
      "Series([], Name: Actions, dtype: int64)\n",
      "Series([], Name: Actions, dtype: int64)\n",
      "Series([], Name: Actions, dtype: int64)\n",
      "Series([], Name: Actions, dtype: int64)\n",
      "Series([], Name: Actions, dtype: int64)\n",
      "Series([], Name: Actions, dtype: int64)\n",
      "Series([], Name: Actions, dtype: int64)\n",
      "Interview    1\n",
      "Name: Actions, dtype: int64\n",
      "Series([], Name: Actions, dtype: int64)\n",
      "Series([], Name: Actions, dtype: int64)\n",
      "Interview Invite    1\n",
      "Name: Actions, dtype: int64\n",
      "Interview Invite    1\n",
      "Name: Actions, dtype: int64\n",
      "Interview    1\n",
      "Name: Actions, dtype: int64\n",
      "Series([], Name: Actions, dtype: int64)\n",
      "Series([], Name: Actions, dtype: int64)\n",
      "Series([], Name: Actions, dtype: int64)\n",
      "Series([], Name: Actions, dtype: int64)\n",
      "Series([], Name: Actions, dtype: int64)\n",
      "Waitlist    1\n",
      "Name: Actions, dtype: int64\n",
      "Series([], Name: Actions, dtype: int64)\n",
      "Series([], Name: Actions, dtype: int64)\n",
      "Rejection    1\n",
      "Name: Actions, dtype: int64\n",
      "Series([], Name: Actions, dtype: int64)\n",
      "Series([], Name: Actions, dtype: int64)\n",
      "Series([], Name: Actions, dtype: int64)\n",
      "Series([], Name: Actions, dtype: int64)\n",
      "Series([], Name: Actions, dtype: int64)\n",
      "Interview    1\n",
      "Rejection    1\n",
      "Name: Actions, dtype: int64\n",
      "Series([], Name: Actions, dtype: int64)\n",
      "Series([], Name: Actions, dtype: int64)\n",
      "Series([], Name: Actions, dtype: int64)\n",
      "Series([], Name: Actions, dtype: int64)\n",
      "Series([], Name: Actions, dtype: int64)\n",
      "Series([], Name: Actions, dtype: int64)\n",
      "Series([], Name: Actions, dtype: int64)\n",
      "Series([], Name: Actions, dtype: int64)\n",
      "Series([], Name: Actions, dtype: int64)\n",
      "Series([], Name: Actions, dtype: int64)\n",
      "Series([], Name: Actions, dtype: int64)\n",
      "Series([], Name: Actions, dtype: int64)\n",
      "Series([], Name: Actions, dtype: int64)\n",
      "Interview    1\n",
      "Name: Actions, dtype: int64\n",
      "Waitlist    1\n",
      "Name: Actions, dtype: int64\n",
      "Series([], Name: Actions, dtype: int64)\n",
      "Series([], Name: Actions, dtype: int64)\n",
      "Interview           1\n",
      "Interview Invite    1\n",
      "Name: Actions, dtype: int64\n",
      "Series([], Name: Actions, dtype: int64)\n",
      "Series([], Name: Actions, dtype: int64)\n",
      "Series([], Name: Actions, dtype: int64)\n",
      "Series([], Name: Actions, dtype: int64)\n",
      "Series([], Name: Actions, dtype: int64)\n",
      "Series([], Name: Actions, dtype: int64)\n",
      "Series([], Name: Actions, dtype: int64)\n",
      "Interview    1\n",
      "Name: Actions, dtype: int64\n",
      "Series([], Name: Actions, dtype: int64)\n",
      "Series([], Name: Actions, dtype: int64)\n",
      "Series([], Name: Actions, dtype: int64)\n",
      "Series([], Name: Actions, dtype: int64)\n",
      "Series([], Name: Actions, dtype: int64)\n",
      "Series([], Name: Actions, dtype: int64)\n",
      "Rejection    1\n",
      "Name: Actions, dtype: int64\n",
      "Interview Invite    1\n",
      "Name: Actions, dtype: int64\n",
      "Series([], Name: Actions, dtype: int64)\n",
      "Series([], Name: Actions, dtype: int64)\n",
      "Series([], Name: Actions, dtype: int64)\n",
      "Series([], Name: Actions, dtype: int64)\n",
      "Interview    1\n",
      "Name: Actions, dtype: int64\n",
      "Waitlist    1\n",
      "Name: Actions, dtype: int64\n",
      "Series([], Name: Actions, dtype: int64)\n",
      "Series([], Name: Actions, dtype: int64)\n",
      "Series([], Name: Actions, dtype: int64)\n",
      "Series([], Name: Actions, dtype: int64)\n",
      "Series([], Name: Actions, dtype: int64)\n",
      "Series([], Name: Actions, dtype: int64)\n",
      "Series([], Name: Actions, dtype: int64)\n",
      "Series([], Name: Actions, dtype: int64)\n",
      "Series([], Name: Actions, dtype: int64)\n",
      "Series([], Name: Actions, dtype: int64)\n",
      "Series([], Name: Actions, dtype: int64)\n",
      "Series([], Name: Actions, dtype: int64)\n",
      "Series([], Name: Actions, dtype: int64)\n",
      "Series([], Name: Actions, dtype: int64)\n",
      "Acceptance    1\n",
      "Interview     1\n",
      "Name: Actions, dtype: int64\n",
      "Rejection    1\n",
      "Name: Actions, dtype: int64\n",
      "Series([], Name: Actions, dtype: int64)\n",
      "Series([], Name: Actions, dtype: int64)\n",
      "Series([], Name: Actions, dtype: int64)\n",
      "Rejection    1\n",
      "Name: Actions, dtype: int64\n",
      "Series([], Name: Actions, dtype: int64)\n",
      "Rejection    1\n",
      "Name: Actions, dtype: int64\n",
      "Series([], Name: Actions, dtype: int64)\n",
      "Waitlist    1\n",
      "Name: Actions, dtype: int64\n",
      "Series([], Name: Actions, dtype: int64)\n",
      "Series([], Name: Actions, dtype: int64)\n",
      "Series([], Name: Actions, dtype: int64)\n",
      "Series([], Name: Actions, dtype: int64)\n",
      "Series([], Name: Actions, dtype: int64)\n",
      "Rejection    1\n",
      "Name: Actions, dtype: int64\n",
      "Series([], Name: Actions, dtype: int64)\n",
      "Series([], Name: Actions, dtype: int64)\n",
      "Series([], Name: Actions, dtype: int64)\n",
      "Series([], Name: Actions, dtype: int64)\n",
      "Series([], Name: Actions, dtype: int64)\n",
      "Series([], Name: Actions, dtype: int64)\n",
      "Acceptance    1\n",
      "Name: Actions, dtype: int64\n",
      "Series([], Name: Actions, dtype: int64)\n",
      "Series([], Name: Actions, dtype: int64)\n",
      "Series([], Name: Actions, dtype: int64)\n",
      "Series([], Name: Actions, dtype: int64)\n",
      "Series([], Name: Actions, dtype: int64)\n",
      "Series([], Name: Actions, dtype: int64)\n",
      "Series([], Name: Actions, dtype: int64)\n",
      "Series([], Name: Actions, dtype: int64)\n",
      "Series([], Name: Actions, dtype: int64)\n",
      "Series([], Name: Actions, dtype: int64)\n",
      "Series([], Name: Actions, dtype: int64)\n",
      "Series([], Name: Actions, dtype: int64)\n",
      "Series([], Name: Actions, dtype: int64)\n",
      "Interview    1\n",
      "Name: Actions, dtype: int64\n",
      "Waitlist    1\n",
      "Name: Actions, dtype: int64\n",
      "Series([], Name: Actions, dtype: int64)\n",
      "Interview    1\n",
      "Name: Actions, dtype: int64\n",
      "Waitlist    1\n",
      "Name: Actions, dtype: int64\n",
      "Series([], Name: Actions, dtype: int64)\n",
      "Withdraw    1\n",
      "Name: Actions, dtype: int64\n",
      "Series([], Name: Actions, dtype: int64)\n",
      "Waitlist    1\n",
      "Withdraw    1\n",
      "Name: Actions, dtype: int64\n"
     ]
    }
   ],
   "source": [
    "for d in dates_df.columns:\n",
    "    temp_df = dan[dan[\"Dates\"]==d]\n",
    "    print(temp_df[\"Actions\"].value_counts())"
   ]
  },
  {
   "cell_type": "code",
   "execution_count": 34,
   "id": "0adb3d24-aa37-4a32-abd9-6e9600e997a2",
   "metadata": {
    "collapsed": true,
    "jupyter": {
     "outputs_hidden": true
    },
    "tags": []
   },
   "outputs": [
    {
     "name": "stdout",
     "output_type": "stream",
     "text": [
      "2021-07-06 00:00:00\n",
      "2021-07-12 00:00:00\n",
      "2021-07-15 00:00:00\n",
      "2021-06-30 00:00:00\n",
      "2021-07-02 00:00:00\n",
      "2021-07-30 00:00:00\n",
      "2021-06-25 00:00:00\n",
      "2021-07-07 00:00:00\n",
      "2021-07-01 00:00:00\n",
      "2021-07-09 00:00:00\n",
      "2021-07-12 00:00:00\n",
      "2021-06-25 00:00:00\n",
      "2021-07-07 00:00:00\n",
      "2021-07-16 00:00:00\n",
      "2021-06-25 00:00:00\n",
      "2021-07-04 00:00:00\n",
      "2021-06-28 00:00:00\n",
      "2021-07-01 00:00:00\n",
      "2021-07-12 00:00:00\n",
      "2021-07-09 00:00:00\n",
      "2021-07-07 00:00:00\n",
      "2021-07-14 00:00:00\n",
      "2021-07-15 00:00:00\n",
      "2021-06-26 00:00:00\n",
      "2021-07-20 00:00:00\n",
      "2021-06-30 00:00:00\n",
      "2021-07-01 00:00:00\n",
      "2021-07-06 00:00:00\n",
      "2021-07-20 00:00:00\n"
     ]
    }
   ],
   "source": [
    "for index, row in dan.iterrows():\n",
    "    if row[1]==\"Secondary Invite\":\n",
    "        print(row[2])"
   ]
  },
  {
   "cell_type": "code",
   "execution_count": 10,
   "id": "97e1c468-2dbf-4604-869a-4fa62c00ee0e",
   "metadata": {},
   "outputs": [
    {
     "data": {
      "application/vnd.plotly.v1+json": {
       "config": {
        "plotlyServerURL": "https://plot.ly"
       },
       "data": [
        {
         "hovertemplate": "Actions=Secondary Invite<br>Dates=%{x}<br>Schools=%{y}<extra></extra>",
         "legendgroup": "Secondary Invite",
         "marker": {
          "color": "#636efa",
          "symbol": "circle"
         },
         "mode": "markers",
         "name": "Secondary Invite",
         "orientation": "v",
         "showlegend": true,
         "type": "scatter",
         "visible": true,
         "x": [
          "2021-07-06T00:00:00",
          "2021-07-12T00:00:00",
          "2021-07-15T00:00:00",
          "2021-06-30T00:00:00",
          "2021-07-02T00:00:00",
          "2021-07-30T00:00:00",
          "2021-06-25T00:00:00",
          "2021-07-07T00:00:00",
          "2021-07-01T00:00:00",
          "2021-07-09T00:00:00",
          "2021-07-12T00:00:00",
          "2021-06-25T00:00:00",
          "2021-07-07T00:00:00",
          "2021-07-16T00:00:00",
          "2021-06-25T00:00:00",
          "2021-07-04T00:00:00",
          "2021-06-28T00:00:00",
          "2021-07-01T00:00:00",
          "2021-07-12T00:00:00",
          "2021-07-09T00:00:00",
          "2021-07-07T00:00:00",
          "2021-07-14T00:00:00",
          "2021-07-15T00:00:00",
          "2021-06-26T00:00:00",
          "2021-07-20T00:00:00",
          "2021-06-30T00:00:00",
          "2021-07-01T00:00:00",
          "2021-07-06T00:00:00",
          "2021-07-20T00:00:00"
         ],
         "xaxis": "x",
         "y": [
          "Harvard",
          "University of Washington",
          "Duke",
          "UC San Diego",
          "Stanford",
          "UCSF",
          "University of Michigan",
          "Vanderbilt",
          "Baylor",
          "University of North Carolina",
          "UCLA",
          "University of Pennsylvania",
          "Weill Cornell Tri-I",
          "Northwestern",
          "New York University",
          "Columbia",
          "Johns Hopkins University",
          "Washington University in St. Louis",
          "Yale",
          "Case Western Reserve University",
          "Oregon Health and Science University",
          "UC Irvine",
          "University of Utah",
          "UT Southwestern",
          "University of Wisconsin",
          "Stony Brook",
          "University of Pittsburgh",
          "University of Iowa",
          "University of Colorado"
         ],
         "yaxis": "y"
        },
        {
         "hovertemplate": "Actions=Secondary Submission<br>Dates=%{x}<br>Schools=%{y}<extra></extra>",
         "legendgroup": "Secondary Submission",
         "marker": {
          "color": "#EF553B",
          "symbol": "circle"
         },
         "mode": "markers",
         "name": "Secondary Submission",
         "orientation": "v",
         "showlegend": true,
         "type": "scatter",
         "visible": true,
         "x": [
          "2021-07-11T00:00:00",
          "2021-07-19T00:00:00",
          "2021-07-24T00:00:00",
          "2021-07-06T00:00:00",
          "2021-07-08T00:00:00",
          "2021-08-28T00:00:00",
          "2021-06-26T00:00:00",
          "2021-07-14T00:00:00",
          "2021-07-03T00:00:00",
          "2021-07-17T00:00:00",
          "2021-07-26T00:00:00",
          "2021-06-30T00:00:00",
          "2021-07-12T00:00:00",
          "2021-07-19T00:00:00",
          "2021-06-29T00:00:00",
          "2021-07-10T00:00:00",
          "2021-07-02T00:00:00",
          "2021-07-04T00:00:00",
          "2021-07-26T00:00:00",
          "2021-07-16T00:00:00",
          "2021-07-18T00:00:00",
          "2021-07-28T00:00:00",
          "2021-07-28T00:00:00",
          "2021-06-26T00:00:00",
          "2021-08-23T00:00:00",
          "2021-07-02T00:00:00",
          "2021-07-05T00:00:00",
          "2021-07-11T00:00:00",
          "2021-08-01T00:00:00"
         ],
         "xaxis": "x",
         "y": [
          "Harvard",
          "University of Washington",
          "Duke",
          "UC San Diego",
          "Stanford",
          "UCSF",
          "University of Michigan",
          "Vanderbilt",
          "Baylor",
          "University of North Carolina",
          "UCLA",
          "University of Pennsylvania",
          "Weill Cornell Tri-I",
          "Northwestern",
          "New York University",
          "Columbia",
          "Johns Hopkins University",
          "Washington University in St. Louis",
          "Yale",
          "Case Western Reserve University",
          "Oregon Health and Science University",
          "UC Irvine",
          "University of Utah",
          "UT Southwestern",
          "University of Wisconsin",
          "Stony Brook",
          "University of Pittsburgh",
          "University of Iowa",
          "University of Colorado"
         ],
         "yaxis": "y"
        },
        {
         "hovertemplate": "Actions=Rejection<br>Dates=%{x}<br>Schools=%{y}<extra></extra>",
         "legendgroup": "Rejection",
         "marker": {
          "color": "#00cc96",
          "symbol": "circle"
         },
         "mode": "markers",
         "name": "Rejection",
         "orientation": "v",
         "showlegend": true,
         "type": "scatter",
         "visible": "legendonly",
         "x": [
          "2021-10-07T00:00:00",
          "2021-12-02T00:00:00",
          "2021-08-06T00:00:00",
          "2021-12-08T00:00:00",
          "2021-11-09T00:00:00",
          "2021-12-06T00:00:00",
          "2021-12-16T00:00:00",
          "2021-10-01T00:00:00"
         ],
         "xaxis": "x",
         "y": [
          "Stanford",
          "UCSF",
          "Weill Cornell Tri-I",
          "New York University",
          "Johns Hopkins University",
          "Washington University in St. Louis",
          "Yale",
          "University of Pittsburgh"
         ],
         "yaxis": "y"
        },
        {
         "hovertemplate": "Actions=Interview Invite<br>Dates=%{x}<br>Schools=%{y}<extra></extra>",
         "legendgroup": "Interview Invite",
         "marker": {
          "color": "#ab63fa",
          "symbol": "circle"
         },
         "mode": "markers",
         "name": "Interview Invite",
         "orientation": "v",
         "showlegend": true,
         "type": "scatter",
         "visible": "legendonly",
         "x": [
          "2021-08-02T00:00:00",
          "2021-08-27T00:00:00",
          "2021-09-21T00:00:00",
          "2021-11-10T00:00:00",
          "2021-08-25T00:00:00",
          "2021-08-26T00:00:00",
          "2021-09-20T00:00:00",
          "2021-10-25T00:00:00",
          "2021-08-26T00:00:00",
          "2021-09-08T00:00:00"
         ],
         "xaxis": "x",
         "y": [
          "University of Washington",
          "Vanderbilt",
          "Baylor",
          "University of North Carolina",
          "Northwestern",
          "Case Western Reserve University",
          "Oregon Health and Science University",
          "UC Irvine",
          "UT Southwestern",
          "University of Iowa"
         ],
         "yaxis": "y"
        },
        {
         "hovertemplate": "Actions=Interview<br>Dates=%{x}<br>Schools=%{y}<extra></extra>",
         "legendgroup": "Interview",
         "marker": {
          "color": "#FFA15A",
          "symbol": "circle"
         },
         "mode": "markers",
         "name": "Interview",
         "orientation": "v",
         "showlegend": true,
         "type": "scatter",
         "visible": "legendonly",
         "x": [
          "2022-01-06T00:00:00",
          "2021-10-07T00:00:00",
          "2021-10-21T00:00:00",
          "2022-01-09T00:00:00",
          "2021-09-22T00:00:00",
          "2021-12-01T00:00:00",
          "2021-10-25T00:00:00",
          "2021-11-15T00:00:00",
          "2021-09-17T00:00:00",
          "2021-11-02T00:00:00"
         ],
         "xaxis": "x",
         "y": [
          "University of Washington",
          "Vanderbilt",
          "Baylor",
          "University of North Carolina",
          "Northwestern",
          "Case Western Reserve University",
          "Oregon Health and Science University",
          "UC Irvine",
          "UT Southwestern",
          "University of Iowa"
         ],
         "yaxis": "y"
        },
        {
         "hovertemplate": "Actions=Waitlist<br>Dates=%{x}<br>Schools=%{y}<extra></extra>",
         "legendgroup": "Waitlist",
         "marker": {
          "color": "#19d3f3",
          "symbol": "circle"
         },
         "mode": "markers",
         "name": "Waitlist",
         "orientation": "v",
         "showlegend": true,
         "type": "scatter",
         "visible": true,
         "x": [
          "2022-01-10T00:00:00",
          "2022-01-07T00:00:00",
          "2021-10-22T00:00:00",
          "2022-01-14T00:00:00",
          "2021-11-16T00:00:00",
          "2021-12-10T00:00:00",
          "2021-09-28T00:00:00"
         ],
         "xaxis": "x",
         "y": [
          "University of Washington",
          "Vanderbilt",
          "Northwestern",
          "Case Western Reserve University",
          "Oregon Health and Science University",
          "UC Irvine",
          "University of Colorado"
         ],
         "yaxis": "y"
        },
        {
         "hovertemplate": "Actions=Withdraw<br>Dates=%{x}<br>Schools=%{y}<extra></extra>",
         "legendgroup": "Withdraw",
         "marker": {
          "color": "#FF6692",
          "symbol": "circle"
         },
         "mode": "markers",
         "name": "Withdraw",
         "orientation": "v",
         "showlegend": true,
         "type": "scatter",
         "visible": "legendonly",
         "x": [
          "2022-01-12T00:00:00",
          "2022-01-14T00:00:00"
         ],
         "xaxis": "x",
         "y": [
          "Stony Brook",
          "University of Colorado"
         ],
         "yaxis": "y"
        },
        {
         "hovertemplate": "Actions=Acceptance<br>Dates=%{x}<br>Schools=%{y}<extra></extra>",
         "legendgroup": "Acceptance",
         "marker": {
          "color": "#B6E880",
          "symbol": "circle"
         },
         "mode": "markers",
         "name": "Acceptance",
         "orientation": "v",
         "showlegend": true,
         "type": "scatter",
         "visible": true,
         "x": [
          "2021-12-23T00:00:00",
          "2021-12-01T00:00:00"
         ],
         "xaxis": "x",
         "y": [
          "Baylor",
          "University of Iowa"
         ],
         "yaxis": "y"
        }
       ],
       "layout": {
        "height": 1000,
        "legend": {
         "title": {
          "text": "Actions"
         },
         "tracegroupgap": 0
        },
        "template": {
         "data": {
          "bar": [
           {
            "error_x": {
             "color": "#2a3f5f"
            },
            "error_y": {
             "color": "#2a3f5f"
            },
            "marker": {
             "line": {
              "color": "#E5ECF6",
              "width": 0.5
             },
             "pattern": {
              "fillmode": "overlay",
              "size": 10,
              "solidity": 0.2
             }
            },
            "type": "bar"
           }
          ],
          "barpolar": [
           {
            "marker": {
             "line": {
              "color": "#E5ECF6",
              "width": 0.5
             },
             "pattern": {
              "fillmode": "overlay",
              "size": 10,
              "solidity": 0.2
             }
            },
            "type": "barpolar"
           }
          ],
          "carpet": [
           {
            "aaxis": {
             "endlinecolor": "#2a3f5f",
             "gridcolor": "white",
             "linecolor": "white",
             "minorgridcolor": "white",
             "startlinecolor": "#2a3f5f"
            },
            "baxis": {
             "endlinecolor": "#2a3f5f",
             "gridcolor": "white",
             "linecolor": "white",
             "minorgridcolor": "white",
             "startlinecolor": "#2a3f5f"
            },
            "type": "carpet"
           }
          ],
          "choropleth": [
           {
            "colorbar": {
             "outlinewidth": 0,
             "ticks": ""
            },
            "type": "choropleth"
           }
          ],
          "contour": [
           {
            "colorbar": {
             "outlinewidth": 0,
             "ticks": ""
            },
            "colorscale": [
             [
              0,
              "#0d0887"
             ],
             [
              0.1111111111111111,
              "#46039f"
             ],
             [
              0.2222222222222222,
              "#7201a8"
             ],
             [
              0.3333333333333333,
              "#9c179e"
             ],
             [
              0.4444444444444444,
              "#bd3786"
             ],
             [
              0.5555555555555556,
              "#d8576b"
             ],
             [
              0.6666666666666666,
              "#ed7953"
             ],
             [
              0.7777777777777778,
              "#fb9f3a"
             ],
             [
              0.8888888888888888,
              "#fdca26"
             ],
             [
              1,
              "#f0f921"
             ]
            ],
            "type": "contour"
           }
          ],
          "contourcarpet": [
           {
            "colorbar": {
             "outlinewidth": 0,
             "ticks": ""
            },
            "type": "contourcarpet"
           }
          ],
          "heatmap": [
           {
            "colorbar": {
             "outlinewidth": 0,
             "ticks": ""
            },
            "colorscale": [
             [
              0,
              "#0d0887"
             ],
             [
              0.1111111111111111,
              "#46039f"
             ],
             [
              0.2222222222222222,
              "#7201a8"
             ],
             [
              0.3333333333333333,
              "#9c179e"
             ],
             [
              0.4444444444444444,
              "#bd3786"
             ],
             [
              0.5555555555555556,
              "#d8576b"
             ],
             [
              0.6666666666666666,
              "#ed7953"
             ],
             [
              0.7777777777777778,
              "#fb9f3a"
             ],
             [
              0.8888888888888888,
              "#fdca26"
             ],
             [
              1,
              "#f0f921"
             ]
            ],
            "type": "heatmap"
           }
          ],
          "heatmapgl": [
           {
            "colorbar": {
             "outlinewidth": 0,
             "ticks": ""
            },
            "colorscale": [
             [
              0,
              "#0d0887"
             ],
             [
              0.1111111111111111,
              "#46039f"
             ],
             [
              0.2222222222222222,
              "#7201a8"
             ],
             [
              0.3333333333333333,
              "#9c179e"
             ],
             [
              0.4444444444444444,
              "#bd3786"
             ],
             [
              0.5555555555555556,
              "#d8576b"
             ],
             [
              0.6666666666666666,
              "#ed7953"
             ],
             [
              0.7777777777777778,
              "#fb9f3a"
             ],
             [
              0.8888888888888888,
              "#fdca26"
             ],
             [
              1,
              "#f0f921"
             ]
            ],
            "type": "heatmapgl"
           }
          ],
          "histogram": [
           {
            "marker": {
             "pattern": {
              "fillmode": "overlay",
              "size": 10,
              "solidity": 0.2
             }
            },
            "type": "histogram"
           }
          ],
          "histogram2d": [
           {
            "colorbar": {
             "outlinewidth": 0,
             "ticks": ""
            },
            "colorscale": [
             [
              0,
              "#0d0887"
             ],
             [
              0.1111111111111111,
              "#46039f"
             ],
             [
              0.2222222222222222,
              "#7201a8"
             ],
             [
              0.3333333333333333,
              "#9c179e"
             ],
             [
              0.4444444444444444,
              "#bd3786"
             ],
             [
              0.5555555555555556,
              "#d8576b"
             ],
             [
              0.6666666666666666,
              "#ed7953"
             ],
             [
              0.7777777777777778,
              "#fb9f3a"
             ],
             [
              0.8888888888888888,
              "#fdca26"
             ],
             [
              1,
              "#f0f921"
             ]
            ],
            "type": "histogram2d"
           }
          ],
          "histogram2dcontour": [
           {
            "colorbar": {
             "outlinewidth": 0,
             "ticks": ""
            },
            "colorscale": [
             [
              0,
              "#0d0887"
             ],
             [
              0.1111111111111111,
              "#46039f"
             ],
             [
              0.2222222222222222,
              "#7201a8"
             ],
             [
              0.3333333333333333,
              "#9c179e"
             ],
             [
              0.4444444444444444,
              "#bd3786"
             ],
             [
              0.5555555555555556,
              "#d8576b"
             ],
             [
              0.6666666666666666,
              "#ed7953"
             ],
             [
              0.7777777777777778,
              "#fb9f3a"
             ],
             [
              0.8888888888888888,
              "#fdca26"
             ],
             [
              1,
              "#f0f921"
             ]
            ],
            "type": "histogram2dcontour"
           }
          ],
          "mesh3d": [
           {
            "colorbar": {
             "outlinewidth": 0,
             "ticks": ""
            },
            "type": "mesh3d"
           }
          ],
          "parcoords": [
           {
            "line": {
             "colorbar": {
              "outlinewidth": 0,
              "ticks": ""
             }
            },
            "type": "parcoords"
           }
          ],
          "pie": [
           {
            "automargin": true,
            "type": "pie"
           }
          ],
          "scatter": [
           {
            "marker": {
             "colorbar": {
              "outlinewidth": 0,
              "ticks": ""
             }
            },
            "type": "scatter"
           }
          ],
          "scatter3d": [
           {
            "line": {
             "colorbar": {
              "outlinewidth": 0,
              "ticks": ""
             }
            },
            "marker": {
             "colorbar": {
              "outlinewidth": 0,
              "ticks": ""
             }
            },
            "type": "scatter3d"
           }
          ],
          "scattercarpet": [
           {
            "marker": {
             "colorbar": {
              "outlinewidth": 0,
              "ticks": ""
             }
            },
            "type": "scattercarpet"
           }
          ],
          "scattergeo": [
           {
            "marker": {
             "colorbar": {
              "outlinewidth": 0,
              "ticks": ""
             }
            },
            "type": "scattergeo"
           }
          ],
          "scattergl": [
           {
            "marker": {
             "colorbar": {
              "outlinewidth": 0,
              "ticks": ""
             }
            },
            "type": "scattergl"
           }
          ],
          "scattermapbox": [
           {
            "marker": {
             "colorbar": {
              "outlinewidth": 0,
              "ticks": ""
             }
            },
            "type": "scattermapbox"
           }
          ],
          "scatterpolar": [
           {
            "marker": {
             "colorbar": {
              "outlinewidth": 0,
              "ticks": ""
             }
            },
            "type": "scatterpolar"
           }
          ],
          "scatterpolargl": [
           {
            "marker": {
             "colorbar": {
              "outlinewidth": 0,
              "ticks": ""
             }
            },
            "type": "scatterpolargl"
           }
          ],
          "scatterternary": [
           {
            "marker": {
             "colorbar": {
              "outlinewidth": 0,
              "ticks": ""
             }
            },
            "type": "scatterternary"
           }
          ],
          "surface": [
           {
            "colorbar": {
             "outlinewidth": 0,
             "ticks": ""
            },
            "colorscale": [
             [
              0,
              "#0d0887"
             ],
             [
              0.1111111111111111,
              "#46039f"
             ],
             [
              0.2222222222222222,
              "#7201a8"
             ],
             [
              0.3333333333333333,
              "#9c179e"
             ],
             [
              0.4444444444444444,
              "#bd3786"
             ],
             [
              0.5555555555555556,
              "#d8576b"
             ],
             [
              0.6666666666666666,
              "#ed7953"
             ],
             [
              0.7777777777777778,
              "#fb9f3a"
             ],
             [
              0.8888888888888888,
              "#fdca26"
             ],
             [
              1,
              "#f0f921"
             ]
            ],
            "type": "surface"
           }
          ],
          "table": [
           {
            "cells": {
             "fill": {
              "color": "#EBF0F8"
             },
             "line": {
              "color": "white"
             }
            },
            "header": {
             "fill": {
              "color": "#C8D4E3"
             },
             "line": {
              "color": "white"
             }
            },
            "type": "table"
           }
          ]
         },
         "layout": {
          "annotationdefaults": {
           "arrowcolor": "#2a3f5f",
           "arrowhead": 0,
           "arrowwidth": 1
          },
          "autotypenumbers": "strict",
          "coloraxis": {
           "colorbar": {
            "outlinewidth": 0,
            "ticks": ""
           }
          },
          "colorscale": {
           "diverging": [
            [
             0,
             "#8e0152"
            ],
            [
             0.1,
             "#c51b7d"
            ],
            [
             0.2,
             "#de77ae"
            ],
            [
             0.3,
             "#f1b6da"
            ],
            [
             0.4,
             "#fde0ef"
            ],
            [
             0.5,
             "#f7f7f7"
            ],
            [
             0.6,
             "#e6f5d0"
            ],
            [
             0.7,
             "#b8e186"
            ],
            [
             0.8,
             "#7fbc41"
            ],
            [
             0.9,
             "#4d9221"
            ],
            [
             1,
             "#276419"
            ]
           ],
           "sequential": [
            [
             0,
             "#0d0887"
            ],
            [
             0.1111111111111111,
             "#46039f"
            ],
            [
             0.2222222222222222,
             "#7201a8"
            ],
            [
             0.3333333333333333,
             "#9c179e"
            ],
            [
             0.4444444444444444,
             "#bd3786"
            ],
            [
             0.5555555555555556,
             "#d8576b"
            ],
            [
             0.6666666666666666,
             "#ed7953"
            ],
            [
             0.7777777777777778,
             "#fb9f3a"
            ],
            [
             0.8888888888888888,
             "#fdca26"
            ],
            [
             1,
             "#f0f921"
            ]
           ],
           "sequentialminus": [
            [
             0,
             "#0d0887"
            ],
            [
             0.1111111111111111,
             "#46039f"
            ],
            [
             0.2222222222222222,
             "#7201a8"
            ],
            [
             0.3333333333333333,
             "#9c179e"
            ],
            [
             0.4444444444444444,
             "#bd3786"
            ],
            [
             0.5555555555555556,
             "#d8576b"
            ],
            [
             0.6666666666666666,
             "#ed7953"
            ],
            [
             0.7777777777777778,
             "#fb9f3a"
            ],
            [
             0.8888888888888888,
             "#fdca26"
            ],
            [
             1,
             "#f0f921"
            ]
           ]
          },
          "colorway": [
           "#636efa",
           "#EF553B",
           "#00cc96",
           "#ab63fa",
           "#FFA15A",
           "#19d3f3",
           "#FF6692",
           "#B6E880",
           "#FF97FF",
           "#FECB52"
          ],
          "font": {
           "color": "#2a3f5f"
          },
          "geo": {
           "bgcolor": "white",
           "lakecolor": "white",
           "landcolor": "#E5ECF6",
           "showlakes": true,
           "showland": true,
           "subunitcolor": "white"
          },
          "hoverlabel": {
           "align": "left"
          },
          "hovermode": "closest",
          "mapbox": {
           "style": "light"
          },
          "paper_bgcolor": "white",
          "plot_bgcolor": "#E5ECF6",
          "polar": {
           "angularaxis": {
            "gridcolor": "white",
            "linecolor": "white",
            "ticks": ""
           },
           "bgcolor": "#E5ECF6",
           "radialaxis": {
            "gridcolor": "white",
            "linecolor": "white",
            "ticks": ""
           }
          },
          "scene": {
           "xaxis": {
            "backgroundcolor": "#E5ECF6",
            "gridcolor": "white",
            "gridwidth": 2,
            "linecolor": "white",
            "showbackground": true,
            "ticks": "",
            "zerolinecolor": "white"
           },
           "yaxis": {
            "backgroundcolor": "#E5ECF6",
            "gridcolor": "white",
            "gridwidth": 2,
            "linecolor": "white",
            "showbackground": true,
            "ticks": "",
            "zerolinecolor": "white"
           },
           "zaxis": {
            "backgroundcolor": "#E5ECF6",
            "gridcolor": "white",
            "gridwidth": 2,
            "linecolor": "white",
            "showbackground": true,
            "ticks": "",
            "zerolinecolor": "white"
           }
          },
          "shapedefaults": {
           "line": {
            "color": "#2a3f5f"
           }
          },
          "ternary": {
           "aaxis": {
            "gridcolor": "white",
            "linecolor": "white",
            "ticks": ""
           },
           "baxis": {
            "gridcolor": "white",
            "linecolor": "white",
            "ticks": ""
           },
           "bgcolor": "#E5ECF6",
           "caxis": {
            "gridcolor": "white",
            "linecolor": "white",
            "ticks": ""
           }
          },
          "title": {
           "x": 0.05
          },
          "xaxis": {
           "automargin": true,
           "gridcolor": "white",
           "linecolor": "white",
           "ticks": "",
           "title": {
            "standoff": 15
           },
           "zerolinecolor": "white",
           "zerolinewidth": 2
          },
          "yaxis": {
           "automargin": true,
           "gridcolor": "white",
           "linecolor": "white",
           "ticks": "",
           "title": {
            "standoff": 15
           },
           "zerolinecolor": "white",
           "zerolinewidth": 2
          }
         }
        },
        "title": {
         "text": "Medical School Application Cycle Cleveland Plot"
        },
        "width": 1000,
        "xaxis": {
         "anchor": "y",
         "autorange": true,
         "domain": [
          0,
          1
         ],
         "range": [
          "2021-06-11 22:00:46.0948",
          "2022-01-27 01:59:13.9052"
         ],
         "title": {
          "text": "Dates"
         },
         "type": "date"
        },
        "yaxis": {
         "anchor": "x",
         "autorange": true,
         "domain": [
          0,
          1
         ],
         "range": [
          -1.7152635181382614,
          29.71526351813826
         ],
         "title": {
          "text": "Schools"
         },
         "type": "category"
        }
       }
      },
      "image/png": "[encoded data removed]",
      "text/html": [
       "<div>                            <div id=\"f9e48b0e-7db0-4ab7-b2b1-aec118b5c6ce\" class=\"plotly-graph-div\" style=\"height:1000px; width:1000px;\"></div>            <script type=\"text/javascript\">                require([\"plotly\"], function(Plotly) {                    window.PLOTLYENV=window.PLOTLYENV || {};                                    if (document.getElementById(\"f9e48b0e-7db0-4ab7-b2b1-aec118b5c6ce\")) {                    Plotly.newPlot(                        \"f9e48b0e-7db0-4ab7-b2b1-aec118b5c6ce\",                        [{\"hovertemplate\":\"Actions=Secondary Invite<br>Dates=%{x}<br>Schools=%{y}<extra></extra>\",\"legendgroup\":\"Secondary Invite\",\"marker\":{\"color\":\"#636efa\",\"symbol\":\"circle\"},\"mode\":\"markers\",\"name\":\"Secondary Invite\",\"orientation\":\"v\",\"showlegend\":true,\"x\":[\"2021-07-06T00:00:00\",\"2021-07-12T00:00:00\",\"2021-07-15T00:00:00\",\"2021-06-30T00:00:00\",\"2021-07-02T00:00:00\",\"2021-07-30T00:00:00\",\"2021-06-25T00:00:00\",\"2021-07-07T00:00:00\",\"2021-07-01T00:00:00\",\"2021-07-09T00:00:00\",\"2021-07-12T00:00:00\",\"2021-06-25T00:00:00\",\"2021-07-07T00:00:00\",\"2021-07-16T00:00:00\",\"2021-06-25T00:00:00\",\"2021-07-04T00:00:00\",\"2021-06-28T00:00:00\",\"2021-07-01T00:00:00\",\"2021-07-12T00:00:00\",\"2021-07-09T00:00:00\",\"2021-07-07T00:00:00\",\"2021-07-14T00:00:00\",\"2021-07-15T00:00:00\",\"2021-06-26T00:00:00\",\"2021-07-20T00:00:00\",\"2021-06-30T00:00:00\",\"2021-07-01T00:00:00\",\"2021-07-06T00:00:00\",\"2021-07-20T00:00:00\"],\"xaxis\":\"x\",\"y\":[\"Harvard\",\"University of Washington\",\"Duke\",\"UC San Diego\",\"Stanford\",\"UCSF\",\"University of Michigan\",\"Vanderbilt\",\"Baylor\",\"University of North Carolina\",\"UCLA\",\"University of Pennsylvania\",\"Weill Cornell Tri-I\",\"Northwestern\",\"New York University\",\"Columbia\",\"Johns Hopkins University\",\"Washington University in St. Louis\",\"Yale\",\"Case Western Reserve University\",\"Oregon Health and Science University\",\"UC Irvine\",\"University of Utah\",\"UT Southwestern\",\"University of Wisconsin\",\"Stony Brook\",\"University of Pittsburgh\",\"University of Iowa\",\"University of Colorado\"],\"yaxis\":\"y\",\"type\":\"scatter\"},{\"hovertemplate\":\"Actions=Secondary Submission<br>Dates=%{x}<br>Schools=%{y}<extra></extra>\",\"legendgroup\":\"Secondary Submission\",\"marker\":{\"color\":\"#EF553B\",\"symbol\":\"circle\"},\"mode\":\"markers\",\"name\":\"Secondary Submission\",\"orientation\":\"v\",\"showlegend\":true,\"x\":[\"2021-07-11T00:00:00\",\"2021-07-19T00:00:00\",\"2021-07-24T00:00:00\",\"2021-07-06T00:00:00\",\"2021-07-08T00:00:00\",\"2021-08-28T00:00:00\",\"2021-06-26T00:00:00\",\"2021-07-14T00:00:00\",\"2021-07-03T00:00:00\",\"2021-07-17T00:00:00\",\"2021-07-26T00:00:00\",\"2021-06-30T00:00:00\",\"2021-07-12T00:00:00\",\"2021-07-19T00:00:00\",\"2021-06-29T00:00:00\",\"2021-07-10T00:00:00\",\"2021-07-02T00:00:00\",\"2021-07-04T00:00:00\",\"2021-07-26T00:00:00\",\"2021-07-16T00:00:00\",\"2021-07-18T00:00:00\",\"2021-07-28T00:00:00\",\"2021-07-28T00:00:00\",\"2021-06-26T00:00:00\",\"2021-08-23T00:00:00\",\"2021-07-02T00:00:00\",\"2021-07-05T00:00:00\",\"2021-07-11T00:00:00\",\"2021-08-01T00:00:00\"],\"xaxis\":\"x\",\"y\":[\"Harvard\",\"University of Washington\",\"Duke\",\"UC San Diego\",\"Stanford\",\"UCSF\",\"University of Michigan\",\"Vanderbilt\",\"Baylor\",\"University of North Carolina\",\"UCLA\",\"University of Pennsylvania\",\"Weill Cornell Tri-I\",\"Northwestern\",\"New York University\",\"Columbia\",\"Johns Hopkins University\",\"Washington University in St. Louis\",\"Yale\",\"Case Western Reserve University\",\"Oregon Health and Science University\",\"UC Irvine\",\"University of Utah\",\"UT Southwestern\",\"University of Wisconsin\",\"Stony Brook\",\"University of Pittsburgh\",\"University of Iowa\",\"University of Colorado\"],\"yaxis\":\"y\",\"type\":\"scatter\"},{\"hovertemplate\":\"Actions=Rejection<br>Dates=%{x}<br>Schools=%{y}<extra></extra>\",\"legendgroup\":\"Rejection\",\"marker\":{\"color\":\"#00cc96\",\"symbol\":\"circle\"},\"mode\":\"markers\",\"name\":\"Rejection\",\"orientation\":\"v\",\"showlegend\":true,\"x\":[\"2021-10-07T00:00:00\",\"2021-12-02T00:00:00\",\"2021-08-06T00:00:00\",\"2021-12-08T00:00:00\",\"2021-11-09T00:00:00\",\"2021-12-06T00:00:00\",\"2021-12-16T00:00:00\",\"2021-10-01T00:00:00\"],\"xaxis\":\"x\",\"y\":[\"Stanford\",\"UCSF\",\"Weill Cornell Tri-I\",\"New York University\",\"Johns Hopkins University\",\"Washington University in St. Louis\",\"Yale\",\"University of Pittsburgh\"],\"yaxis\":\"y\",\"type\":\"scatter\"},{\"hovertemplate\":\"Actions=Interview Invite<br>Dates=%{x}<br>Schools=%{y}<extra></extra>\",\"legendgroup\":\"Interview Invite\",\"marker\":{\"color\":\"#ab63fa\",\"symbol\":\"circle\"},\"mode\":\"markers\",\"name\":\"Interview Invite\",\"orientation\":\"v\",\"showlegend\":true,\"x\":[\"2021-08-02T00:00:00\",\"2021-08-27T00:00:00\",\"2021-09-21T00:00:00\",\"2021-11-10T00:00:00\",\"2021-08-25T00:00:00\",\"2021-08-26T00:00:00\",\"2021-09-20T00:00:00\",\"2021-10-25T00:00:00\",\"2021-08-26T00:00:00\",\"2021-09-08T00:00:00\"],\"xaxis\":\"x\",\"y\":[\"University of Washington\",\"Vanderbilt\",\"Baylor\",\"University of North Carolina\",\"Northwestern\",\"Case Western Reserve University\",\"Oregon Health and Science University\",\"UC Irvine\",\"UT Southwestern\",\"University of Iowa\"],\"yaxis\":\"y\",\"type\":\"scatter\"},{\"hovertemplate\":\"Actions=Interview<br>Dates=%{x}<br>Schools=%{y}<extra></extra>\",\"legendgroup\":\"Interview\",\"marker\":{\"color\":\"#FFA15A\",\"symbol\":\"circle\"},\"mode\":\"markers\",\"name\":\"Interview\",\"orientation\":\"v\",\"showlegend\":true,\"x\":[\"2022-01-06T00:00:00\",\"2021-10-07T00:00:00\",\"2021-10-21T00:00:00\",\"2022-01-09T00:00:00\",\"2021-09-22T00:00:00\",\"2021-12-01T00:00:00\",\"2021-10-25T00:00:00\",\"2021-11-15T00:00:00\",\"2021-09-17T00:00:00\",\"2021-11-02T00:00:00\"],\"xaxis\":\"x\",\"y\":[\"University of Washington\",\"Vanderbilt\",\"Baylor\",\"University of North Carolina\",\"Northwestern\",\"Case Western Reserve University\",\"Oregon Health and Science University\",\"UC Irvine\",\"UT Southwestern\",\"University of Iowa\"],\"yaxis\":\"y\",\"type\":\"scatter\"},{\"hovertemplate\":\"Actions=Waitlist<br>Dates=%{x}<br>Schools=%{y}<extra></extra>\",\"legendgroup\":\"Waitlist\",\"marker\":{\"color\":\"#19d3f3\",\"symbol\":\"circle\"},\"mode\":\"markers\",\"name\":\"Waitlist\",\"orientation\":\"v\",\"showlegend\":true,\"x\":[\"2022-01-10T00:00:00\",\"2022-01-07T00:00:00\",\"2021-10-22T00:00:00\",\"2022-01-14T00:00:00\",\"2021-11-16T00:00:00\",\"2021-12-10T00:00:00\",\"2021-09-28T00:00:00\"],\"xaxis\":\"x\",\"y\":[\"University of Washington\",\"Vanderbilt\",\"Northwestern\",\"Case Western Reserve University\",\"Oregon Health and Science University\",\"UC Irvine\",\"University of Colorado\"],\"yaxis\":\"y\",\"type\":\"scatter\"},{\"hovertemplate\":\"Actions=Withdraw<br>Dates=%{x}<br>Schools=%{y}<extra></extra>\",\"legendgroup\":\"Withdraw\",\"marker\":{\"color\":\"#FF6692\",\"symbol\":\"circle\"},\"mode\":\"markers\",\"name\":\"Withdraw\",\"orientation\":\"v\",\"showlegend\":true,\"x\":[\"2022-01-12T00:00:00\",\"2022-01-14T00:00:00\"],\"xaxis\":\"x\",\"y\":[\"Stony Brook\",\"University of Colorado\"],\"yaxis\":\"y\",\"type\":\"scatter\"},{\"hovertemplate\":\"Actions=Acceptance<br>Dates=%{x}<br>Schools=%{y}<extra></extra>\",\"legendgroup\":\"Acceptance\",\"marker\":{\"color\":\"#B6E880\",\"symbol\":\"circle\"},\"mode\":\"markers\",\"name\":\"Acceptance\",\"orientation\":\"v\",\"showlegend\":true,\"x\":[\"2021-12-23T00:00:00\",\"2021-12-01T00:00:00\"],\"xaxis\":\"x\",\"y\":[\"Baylor\",\"University of Iowa\"],\"yaxis\":\"y\",\"type\":\"scatter\"}],                        {\"template\":{\"data\":{\"bar\":[{\"error_x\":{\"color\":\"#2a3f5f\"},\"error_y\":{\"color\":\"#2a3f5f\"},\"marker\":{\"line\":{\"color\":\"#E5ECF6\",\"width\":0.5},\"pattern\":{\"fillmode\":\"overlay\",\"size\":10,\"solidity\":0.2}},\"type\":\"bar\"}],\"barpolar\":[{\"marker\":{\"line\":{\"color\":\"#E5ECF6\",\"width\":0.5},\"pattern\":{\"fillmode\":\"overlay\",\"size\":10,\"solidity\":0.2}},\"type\":\"barpolar\"}],\"carpet\":[{\"aaxis\":{\"endlinecolor\":\"#2a3f5f\",\"gridcolor\":\"white\",\"linecolor\":\"white\",\"minorgridcolor\":\"white\",\"startlinecolor\":\"#2a3f5f\"},\"baxis\":{\"endlinecolor\":\"#2a3f5f\",\"gridcolor\":\"white\",\"linecolor\":\"white\",\"minorgridcolor\":\"white\",\"startlinecolor\":\"#2a3f5f\"},\"type\":\"carpet\"}],\"choropleth\":[{\"colorbar\":{\"outlinewidth\":0,\"ticks\":\"\"},\"type\":\"choropleth\"}],\"contour\":[{\"colorbar\":{\"outlinewidth\":0,\"ticks\":\"\"},\"colorscale\":[[0.0,\"#0d0887\"],[0.1111111111111111,\"#46039f\"],[0.2222222222222222,\"#7201a8\"],[0.3333333333333333,\"#9c179e\"],[0.4444444444444444,\"#bd3786\"],[0.5555555555555556,\"#d8576b\"],[0.6666666666666666,\"#ed7953\"],[0.7777777777777778,\"#fb9f3a\"],[0.8888888888888888,\"#fdca26\"],[1.0,\"#f0f921\"]],\"type\":\"contour\"}],\"contourcarpet\":[{\"colorbar\":{\"outlinewidth\":0,\"ticks\":\"\"},\"type\":\"contourcarpet\"}],\"heatmap\":[{\"colorbar\":{\"outlinewidth\":0,\"ticks\":\"\"},\"colorscale\":[[0.0,\"#0d0887\"],[0.1111111111111111,\"#46039f\"],[0.2222222222222222,\"#7201a8\"],[0.3333333333333333,\"#9c179e\"],[0.4444444444444444,\"#bd3786\"],[0.5555555555555556,\"#d8576b\"],[0.6666666666666666,\"#ed7953\"],[0.7777777777777778,\"#fb9f3a\"],[0.8888888888888888,\"#fdca26\"],[1.0,\"#f0f921\"]],\"type\":\"heatmap\"}],\"heatmapgl\":[{\"colorbar\":{\"outlinewidth\":0,\"ticks\":\"\"},\"colorscale\":[[0.0,\"#0d0887\"],[0.1111111111111111,\"#46039f\"],[0.2222222222222222,\"#7201a8\"],[0.3333333333333333,\"#9c179e\"],[0.4444444444444444,\"#bd3786\"],[0.5555555555555556,\"#d8576b\"],[0.6666666666666666,\"#ed7953\"],[0.7777777777777778,\"#fb9f3a\"],[0.8888888888888888,\"#fdca26\"],[1.0,\"#f0f921\"]],\"type\":\"heatmapgl\"}],\"histogram\":[{\"marker\":{\"pattern\":{\"fillmode\":\"overlay\",\"size\":10,\"solidity\":0.2}},\"type\":\"histogram\"}],\"histogram2d\":[{\"colorbar\":{\"outlinewidth\":0,\"ticks\":\"\"},\"colorscale\":[[0.0,\"#0d0887\"],[0.1111111111111111,\"#46039f\"],[0.2222222222222222,\"#7201a8\"],[0.3333333333333333,\"#9c179e\"],[0.4444444444444444,\"#bd3786\"],[0.5555555555555556,\"#d8576b\"],[0.6666666666666666,\"#ed7953\"],[0.7777777777777778,\"#fb9f3a\"],[0.8888888888888888,\"#fdca26\"],[1.0,\"#f0f921\"]],\"type\":\"histogram2d\"}],\"histogram2dcontour\":[{\"colorbar\":{\"outlinewidth\":0,\"ticks\":\"\"},\"colorscale\":[[0.0,\"#0d0887\"],[0.1111111111111111,\"#46039f\"],[0.2222222222222222,\"#7201a8\"],[0.3333333333333333,\"#9c179e\"],[0.4444444444444444,\"#bd3786\"],[0.5555555555555556,\"#d8576b\"],[0.6666666666666666,\"#ed7953\"],[0.7777777777777778,\"#fb9f3a\"],[0.8888888888888888,\"#fdca26\"],[1.0,\"#f0f921\"]],\"type\":\"histogram2dcontour\"}],\"mesh3d\":[{\"colorbar\":{\"outlinewidth\":0,\"ticks\":\"\"},\"type\":\"mesh3d\"}],\"parcoords\":[{\"line\":{\"colorbar\":{\"outlinewidth\":0,\"ticks\":\"\"}},\"type\":\"parcoords\"}],\"pie\":[{\"automargin\":true,\"type\":\"pie\"}],\"scatter\":[{\"marker\":{\"colorbar\":{\"outlinewidth\":0,\"ticks\":\"\"}},\"type\":\"scatter\"}],\"scatter3d\":[{\"line\":{\"colorbar\":{\"outlinewidth\":0,\"ticks\":\"\"}},\"marker\":{\"colorbar\":{\"outlinewidth\":0,\"ticks\":\"\"}},\"type\":\"scatter3d\"}],\"scattercarpet\":[{\"marker\":{\"colorbar\":{\"outlinewidth\":0,\"ticks\":\"\"}},\"type\":\"scattercarpet\"}],\"scattergeo\":[{\"marker\":{\"colorbar\":{\"outlinewidth\":0,\"ticks\":\"\"}},\"type\":\"scattergeo\"}],\"scattergl\":[{\"marker\":{\"colorbar\":{\"outlinewidth\":0,\"ticks\":\"\"}},\"type\":\"scattergl\"}],\"scattermapbox\":[{\"marker\":{\"colorbar\":{\"outlinewidth\":0,\"ticks\":\"\"}},\"type\":\"scattermapbox\"}],\"scatterpolar\":[{\"marker\":{\"colorbar\":{\"outlinewidth\":0,\"ticks\":\"\"}},\"type\":\"scatterpolar\"}],\"scatterpolargl\":[{\"marker\":{\"colorbar\":{\"outlinewidth\":0,\"ticks\":\"\"}},\"type\":\"scatterpolargl\"}],\"scatterternary\":[{\"marker\":{\"colorbar\":{\"outlinewidth\":0,\"ticks\":\"\"}},\"type\":\"scatterternary\"}],\"surface\":[{\"colorbar\":{\"outlinewidth\":0,\"ticks\":\"\"},\"colorscale\":[[0.0,\"#0d0887\"],[0.1111111111111111,\"#46039f\"],[0.2222222222222222,\"#7201a8\"],[0.3333333333333333,\"#9c179e\"],[0.4444444444444444,\"#bd3786\"],[0.5555555555555556,\"#d8576b\"],[0.6666666666666666,\"#ed7953\"],[0.7777777777777778,\"#fb9f3a\"],[0.8888888888888888,\"#fdca26\"],[1.0,\"#f0f921\"]],\"type\":\"surface\"}],\"table\":[{\"cells\":{\"fill\":{\"color\":\"#EBF0F8\"},\"line\":{\"color\":\"white\"}},\"header\":{\"fill\":{\"color\":\"#C8D4E3\"},\"line\":{\"color\":\"white\"}},\"type\":\"table\"}]},\"layout\":{\"annotationdefaults\":{\"arrowcolor\":\"#2a3f5f\",\"arrowhead\":0,\"arrowwidth\":1},\"autotypenumbers\":\"strict\",\"coloraxis\":{\"colorbar\":{\"outlinewidth\":0,\"ticks\":\"\"}},\"colorscale\":{\"diverging\":[[0,\"#8e0152\"],[0.1,\"#c51b7d\"],[0.2,\"#de77ae\"],[0.3,\"#f1b6da\"],[0.4,\"#fde0ef\"],[0.5,\"#f7f7f7\"],[0.6,\"#e6f5d0\"],[0.7,\"#b8e186\"],[0.8,\"#7fbc41\"],[0.9,\"#4d9221\"],[1,\"#276419\"]],\"sequential\":[[0.0,\"#0d0887\"],[0.1111111111111111,\"#46039f\"],[0.2222222222222222,\"#7201a8\"],[0.3333333333333333,\"#9c179e\"],[0.4444444444444444,\"#bd3786\"],[0.5555555555555556,\"#d8576b\"],[0.6666666666666666,\"#ed7953\"],[0.7777777777777778,\"#fb9f3a\"],[0.8888888888888888,\"#fdca26\"],[1.0,\"#f0f921\"]],\"sequentialminus\":[[0.0,\"#0d0887\"],[0.1111111111111111,\"#46039f\"],[0.2222222222222222,\"#7201a8\"],[0.3333333333333333,\"#9c179e\"],[0.4444444444444444,\"#bd3786\"],[0.5555555555555556,\"#d8576b\"],[0.6666666666666666,\"#ed7953\"],[0.7777777777777778,\"#fb9f3a\"],[0.8888888888888888,\"#fdca26\"],[1.0,\"#f0f921\"]]},\"colorway\":[\"#636efa\",\"#EF553B\",\"#00cc96\",\"#ab63fa\",\"#FFA15A\",\"#19d3f3\",\"#FF6692\",\"#B6E880\",\"#FF97FF\",\"#FECB52\"],\"font\":{\"color\":\"#2a3f5f\"},\"geo\":{\"bgcolor\":\"white\",\"lakecolor\":\"white\",\"landcolor\":\"#E5ECF6\",\"showlakes\":true,\"showland\":true,\"subunitcolor\":\"white\"},\"hoverlabel\":{\"align\":\"left\"},\"hovermode\":\"closest\",\"mapbox\":{\"style\":\"light\"},\"paper_bgcolor\":\"white\",\"plot_bgcolor\":\"#E5ECF6\",\"polar\":{\"angularaxis\":{\"gridcolor\":\"white\",\"linecolor\":\"white\",\"ticks\":\"\"},\"bgcolor\":\"#E5ECF6\",\"radialaxis\":{\"gridcolor\":\"white\",\"linecolor\":\"white\",\"ticks\":\"\"}},\"scene\":{\"xaxis\":{\"backgroundcolor\":\"#E5ECF6\",\"gridcolor\":\"white\",\"gridwidth\":2,\"linecolor\":\"white\",\"showbackground\":true,\"ticks\":\"\",\"zerolinecolor\":\"white\"},\"yaxis\":{\"backgroundcolor\":\"#E5ECF6\",\"gridcolor\":\"white\",\"gridwidth\":2,\"linecolor\":\"white\",\"showbackground\":true,\"ticks\":\"\",\"zerolinecolor\":\"white\"},\"zaxis\":{\"backgroundcolor\":\"#E5ECF6\",\"gridcolor\":\"white\",\"gridwidth\":2,\"linecolor\":\"white\",\"showbackground\":true,\"ticks\":\"\",\"zerolinecolor\":\"white\"}},\"shapedefaults\":{\"line\":{\"color\":\"#2a3f5f\"}},\"ternary\":{\"aaxis\":{\"gridcolor\":\"white\",\"linecolor\":\"white\",\"ticks\":\"\"},\"baxis\":{\"gridcolor\":\"white\",\"linecolor\":\"white\",\"ticks\":\"\"},\"bgcolor\":\"#E5ECF6\",\"caxis\":{\"gridcolor\":\"white\",\"linecolor\":\"white\",\"ticks\":\"\"}},\"title\":{\"x\":0.05},\"xaxis\":{\"automargin\":true,\"gridcolor\":\"white\",\"linecolor\":\"white\",\"ticks\":\"\",\"title\":{\"standoff\":15},\"zerolinecolor\":\"white\",\"zerolinewidth\":2},\"yaxis\":{\"automargin\":true,\"gridcolor\":\"white\",\"linecolor\":\"white\",\"ticks\":\"\",\"title\":{\"standoff\":15},\"zerolinecolor\":\"white\",\"zerolinewidth\":2}}},\"xaxis\":{\"anchor\":\"y\",\"domain\":[0.0,1.0],\"title\":{\"text\":\"Dates\"}},\"yaxis\":{\"anchor\":\"x\",\"domain\":[0.0,1.0],\"title\":{\"text\":\"Schools\"}},\"legend\":{\"title\":{\"text\":\"Actions\"},\"tracegroupgap\":0},\"title\":{\"text\":\"Medical School Application Cycle Cleveland Plot\"},\"height\":1000,\"width\":1000},                        {\"responsive\": true}                    ).then(function(){\n",
       "                            \n",
       "var gd = document.getElementById('f9e48b0e-7db0-4ab7-b2b1-aec118b5c6ce');\n",
       "var x = new MutationObserver(function (mutations, observer) {{\n",
       "        var display = window.getComputedStyle(gd).display;\n",
       "        if (!display || display === 'none') {{\n",
       "            console.log([gd, 'removed!']);\n",
       "            Plotly.purge(gd);\n",
       "            observer.disconnect();\n",
       "        }}\n",
       "}});\n",
       "\n",
       "// Listen for the removal of the full notebook cells\n",
       "var notebookContainer = gd.closest('#notebook-container');\n",
       "if (notebookContainer) {{\n",
       "    x.observe(notebookContainer, {childList: true});\n",
       "}}\n",
       "\n",
       "// Listen for the clearing of the current output cell\n",
       "var outputEl = gd.closest('.output');\n",
       "if (outputEl) {{\n",
       "    x.observe(outputEl, {childList: true});\n",
       "}}\n",
       "\n",
       "                        })                };                });            </script>        </div>"
      ]
     },
     "metadata": {},
     "output_type": "display_data"
    }
   ],
   "source": [
    "df = dan[dan[\"Dates\"].notna()]\n",
    "\n",
    "cleveland = px.scatter(df, x=\"Dates\", y=\"Schools\", color=\"Actions\", title=\"Medical School Application Cycle Cleveland Plot\", width=1000, height=1000)\n",
    "cleveland.show()"
   ]
  },
  {
   "cell_type": "code",
   "execution_count": 60,
   "id": "5ab039f1-345f-4f97-a2aa-a0082a77271e",
   "metadata": {},
   "outputs": [],
   "source": [
    "def value_generator(df, col):\n",
    "    new_nums = []\n",
    "    n = 0\n",
    "    for i in df[col]:\n",
    "        if i > 0:\n",
    "            n = n + i\n",
    "            new_nums.append(n)\n",
    "        else:\n",
    "            new_nums.append(n)\n",
    "    return new_nums"
   ]
  },
  {
   "cell_type": "code",
   "execution_count": 80,
   "id": "173710b9-3627-4a28-831b-78595401f77b",
   "metadata": {},
   "outputs": [
    {
     "data": {
      "text/html": [
       "<div>\n",
       "<style scoped>\n",
       "    .dataframe tbody tr th:only-of-type {\n",
       "        vertical-align: middle;\n",
       "    }\n",
       "\n",
       "    .dataframe tbody tr th {\n",
       "        vertical-align: top;\n",
       "    }\n",
       "\n",
       "    .dataframe thead th {\n",
       "        text-align: right;\n",
       "    }\n",
       "</style>\n",
       "<table border=\"1\" class=\"dataframe\">\n",
       "  <thead>\n",
       "    <tr style=\"text-align: right;\">\n",
       "      <th></th>\n",
       "      <th>Dates</th>\n",
       "      <th>Actions</th>\n",
       "      <th>Number_Binned</th>\n",
       "    </tr>\n",
       "  </thead>\n",
       "  <tbody>\n",
       "    <tr>\n",
       "      <th>0</th>\n",
       "      <td>2021-06-27</td>\n",
       "      <td>Acceptance</td>\n",
       "      <td>0.0</td>\n",
       "    </tr>\n",
       "    <tr>\n",
       "      <th>1</th>\n",
       "      <td>2021-07-04</td>\n",
       "      <td>Acceptance</td>\n",
       "      <td>0.0</td>\n",
       "    </tr>\n",
       "    <tr>\n",
       "      <th>2</th>\n",
       "      <td>2021-07-11</td>\n",
       "      <td>Acceptance</td>\n",
       "      <td>0.0</td>\n",
       "    </tr>\n",
       "    <tr>\n",
       "      <th>3</th>\n",
       "      <td>2021-07-18</td>\n",
       "      <td>Acceptance</td>\n",
       "      <td>0.0</td>\n",
       "    </tr>\n",
       "    <tr>\n",
       "      <th>4</th>\n",
       "      <td>2021-07-25</td>\n",
       "      <td>Acceptance</td>\n",
       "      <td>0.0</td>\n",
       "    </tr>\n",
       "    <tr>\n",
       "      <th>...</th>\n",
       "      <td>...</td>\n",
       "      <td>...</td>\n",
       "      <td>...</td>\n",
       "    </tr>\n",
       "    <tr>\n",
       "      <th>187</th>\n",
       "      <td>2021-12-12</td>\n",
       "      <td>Withdraw</td>\n",
       "      <td>0.0</td>\n",
       "    </tr>\n",
       "    <tr>\n",
       "      <th>188</th>\n",
       "      <td>2021-12-19</td>\n",
       "      <td>Withdraw</td>\n",
       "      <td>0.0</td>\n",
       "    </tr>\n",
       "    <tr>\n",
       "      <th>189</th>\n",
       "      <td>2021-12-26</td>\n",
       "      <td>Withdraw</td>\n",
       "      <td>0.0</td>\n",
       "    </tr>\n",
       "    <tr>\n",
       "      <th>190</th>\n",
       "      <td>2022-01-09</td>\n",
       "      <td>Withdraw</td>\n",
       "      <td>0.0</td>\n",
       "    </tr>\n",
       "    <tr>\n",
       "      <th>191</th>\n",
       "      <td>2022-01-16</td>\n",
       "      <td>Withdraw</td>\n",
       "      <td>2.0</td>\n",
       "    </tr>\n",
       "  </tbody>\n",
       "</table>\n",
       "<p>192 rows × 3 columns</p>\n",
       "</div>"
      ],
      "text/plain": [
       "         Dates     Actions  Number_Binned\n",
       "0   2021-06-27  Acceptance            0.0\n",
       "1   2021-07-04  Acceptance            0.0\n",
       "2   2021-07-11  Acceptance            0.0\n",
       "3   2021-07-18  Acceptance            0.0\n",
       "4   2021-07-25  Acceptance            0.0\n",
       "..         ...         ...            ...\n",
       "187 2021-12-12    Withdraw            0.0\n",
       "188 2021-12-19    Withdraw            0.0\n",
       "189 2021-12-26    Withdraw            0.0\n",
       "190 2022-01-09    Withdraw            0.0\n",
       "191 2022-01-16    Withdraw            2.0\n",
       "\n",
       "[192 rows x 3 columns]"
      ]
     },
     "execution_count": 80,
     "metadata": {},
     "output_type": "execute_result"
    }
   ],
   "source": [
    "df = dan_sort1[dan_sort1[\"Dates\"].notna()].drop([\"Schools\", \"tracker\"], axis=1)\n",
    "df = df.groupby([df['Dates'].dt.to_period('W'), 'Actions']).count().unstack()\n",
    "df.columns = df.columns.droplevel()\n",
    "\n",
    "for c in df.columns:\n",
    "    df[c] = value_generator(df=df, col=c)\n",
    "df = df.reset_index()\n",
    "\n",
    "df = df.melt(id_vars=\"Dates\", value_vars=['Acceptance', 'Interview', 'Interview Invite', 'Rejection', 'Secondary Invite', 'Secondary Submission', 'Waitlist', 'Withdraw'], var_name=\"Actions\", value_name=\"Number_Binned\")\n",
    "\n",
    "updated_dates = []\n",
    "for d in df[\"Dates\"]:\n",
    "    d = str(d)\n",
    "    d = d[11:]\n",
    "    d = pd.to_datetime(d)\n",
    "    updated_dates.append(d)\n",
    "df[\"Dates\"] = updated_dates\n",
    "\n",
    "df"
   ]
  },
  {
   "cell_type": "code",
   "execution_count": 81,
   "id": "41ed4df1-e211-4af0-9714-f6929847b761",
   "metadata": {},
   "outputs": [
    {
     "data": {
      "application/vnd.plotly.v1+json": {
       "config": {
        "plotlyServerURL": "https://plot.ly"
       },
       "data": [
        {
         "alignmentgroup": "True",
         "hovertemplate": "Actions=Acceptance<br>Dates=%{x}<br>Number_Binned=%{y}<extra></extra>",
         "legendgroup": "Acceptance",
         "marker": {
          "color": "#636efa",
          "pattern": {
           "shape": ""
          }
         },
         "name": "Acceptance",
         "offsetgroup": "Acceptance",
         "orientation": "v",
         "showlegend": true,
         "textposition": "auto",
         "type": "bar",
         "x": [
          "2021-06-27T00:00:00",
          "2021-07-04T00:00:00",
          "2021-07-11T00:00:00",
          "2021-07-18T00:00:00",
          "2021-07-25T00:00:00",
          "2021-08-01T00:00:00",
          "2021-08-08T00:00:00",
          "2021-08-29T00:00:00",
          "2021-09-12T00:00:00",
          "2021-09-19T00:00:00",
          "2021-09-26T00:00:00",
          "2021-10-03T00:00:00",
          "2021-10-10T00:00:00",
          "2021-10-24T00:00:00",
          "2021-10-31T00:00:00",
          "2021-11-07T00:00:00",
          "2021-11-14T00:00:00",
          "2021-11-21T00:00:00",
          "2021-12-05T00:00:00",
          "2021-12-12T00:00:00",
          "2021-12-19T00:00:00",
          "2021-12-26T00:00:00",
          "2022-01-09T00:00:00",
          "2022-01-16T00:00:00"
         ],
         "xaxis": "x",
         "y": [
          0,
          0,
          0,
          0,
          0,
          0,
          0,
          0,
          0,
          0,
          0,
          0,
          0,
          0,
          0,
          0,
          0,
          0,
          1,
          1,
          1,
          2,
          2,
          2
         ],
         "yaxis": "y"
        },
        {
         "alignmentgroup": "True",
         "hovertemplate": "Actions=Interview<br>Dates=%{x}<br>Number_Binned=%{y}<extra></extra>",
         "legendgroup": "Interview",
         "marker": {
          "color": "#EF553B",
          "pattern": {
           "shape": ""
          }
         },
         "name": "Interview",
         "offsetgroup": "Interview",
         "orientation": "v",
         "showlegend": true,
         "textposition": "auto",
         "type": "bar",
         "x": [
          "2021-06-27T00:00:00",
          "2021-07-04T00:00:00",
          "2021-07-11T00:00:00",
          "2021-07-18T00:00:00",
          "2021-07-25T00:00:00",
          "2021-08-01T00:00:00",
          "2021-08-08T00:00:00",
          "2021-08-29T00:00:00",
          "2021-09-12T00:00:00",
          "2021-09-19T00:00:00",
          "2021-09-26T00:00:00",
          "2021-10-03T00:00:00",
          "2021-10-10T00:00:00",
          "2021-10-24T00:00:00",
          "2021-10-31T00:00:00",
          "2021-11-07T00:00:00",
          "2021-11-14T00:00:00",
          "2021-11-21T00:00:00",
          "2021-12-05T00:00:00",
          "2021-12-12T00:00:00",
          "2021-12-19T00:00:00",
          "2021-12-26T00:00:00",
          "2022-01-09T00:00:00",
          "2022-01-16T00:00:00"
         ],
         "xaxis": "x",
         "y": [
          0,
          0,
          0,
          0,
          0,
          0,
          0,
          0,
          0,
          1,
          2,
          2,
          3,
          4,
          5,
          6,
          6,
          7,
          8,
          8,
          8,
          8,
          10,
          10
         ],
         "yaxis": "y"
        },
        {
         "alignmentgroup": "True",
         "hovertemplate": "Actions=Interview Invite<br>Dates=%{x}<br>Number_Binned=%{y}<extra></extra>",
         "legendgroup": "Interview Invite",
         "marker": {
          "color": "#00cc96",
          "pattern": {
           "shape": ""
          }
         },
         "name": "Interview Invite",
         "offsetgroup": "Interview Invite",
         "orientation": "v",
         "showlegend": true,
         "textposition": "auto",
         "type": "bar",
         "x": [
          "2021-06-27T00:00:00",
          "2021-07-04T00:00:00",
          "2021-07-11T00:00:00",
          "2021-07-18T00:00:00",
          "2021-07-25T00:00:00",
          "2021-08-01T00:00:00",
          "2021-08-08T00:00:00",
          "2021-08-29T00:00:00",
          "2021-09-12T00:00:00",
          "2021-09-19T00:00:00",
          "2021-09-26T00:00:00",
          "2021-10-03T00:00:00",
          "2021-10-10T00:00:00",
          "2021-10-24T00:00:00",
          "2021-10-31T00:00:00",
          "2021-11-07T00:00:00",
          "2021-11-14T00:00:00",
          "2021-11-21T00:00:00",
          "2021-12-05T00:00:00",
          "2021-12-12T00:00:00",
          "2021-12-19T00:00:00",
          "2021-12-26T00:00:00",
          "2022-01-09T00:00:00",
          "2022-01-16T00:00:00"
         ],
         "xaxis": "x",
         "y": [
          0,
          0,
          0,
          0,
          0,
          0,
          1,
          5,
          6,
          6,
          8,
          8,
          8,
          8,
          9,
          9,
          10,
          10,
          10,
          10,
          10,
          10,
          10,
          10
         ],
         "yaxis": "y"
        },
        {
         "alignmentgroup": "True",
         "hovertemplate": "Actions=Rejection<br>Dates=%{x}<br>Number_Binned=%{y}<extra></extra>",
         "legendgroup": "Rejection",
         "marker": {
          "color": "#ab63fa",
          "pattern": {
           "shape": ""
          }
         },
         "name": "Rejection",
         "offsetgroup": "Rejection",
         "orientation": "v",
         "showlegend": true,
         "textposition": "auto",
         "type": "bar",
         "x": [
          "2021-06-27T00:00:00",
          "2021-07-04T00:00:00",
          "2021-07-11T00:00:00",
          "2021-07-18T00:00:00",
          "2021-07-25T00:00:00",
          "2021-08-01T00:00:00",
          "2021-08-08T00:00:00",
          "2021-08-29T00:00:00",
          "2021-09-12T00:00:00",
          "2021-09-19T00:00:00",
          "2021-09-26T00:00:00",
          "2021-10-03T00:00:00",
          "2021-10-10T00:00:00",
          "2021-10-24T00:00:00",
          "2021-10-31T00:00:00",
          "2021-11-07T00:00:00",
          "2021-11-14T00:00:00",
          "2021-11-21T00:00:00",
          "2021-12-05T00:00:00",
          "2021-12-12T00:00:00",
          "2021-12-19T00:00:00",
          "2021-12-26T00:00:00",
          "2022-01-09T00:00:00",
          "2022-01-16T00:00:00"
         ],
         "xaxis": "x",
         "y": [
          0,
          0,
          0,
          0,
          0,
          0,
          1,
          1,
          1,
          1,
          1,
          2,
          3,
          3,
          3,
          3,
          4,
          4,
          5,
          7,
          8,
          8,
          8,
          8
         ],
         "yaxis": "y"
        },
        {
         "alignmentgroup": "True",
         "hovertemplate": "Actions=Secondary Invite<br>Dates=%{x}<br>Number_Binned=%{y}<extra></extra>",
         "legendgroup": "Secondary Invite",
         "marker": {
          "color": "#FFA15A",
          "pattern": {
           "shape": ""
          }
         },
         "name": "Secondary Invite",
         "offsetgroup": "Secondary Invite",
         "orientation": "v",
         "showlegend": true,
         "textposition": "auto",
         "type": "bar",
         "x": [
          "2021-06-27T00:00:00",
          "2021-07-04T00:00:00",
          "2021-07-11T00:00:00",
          "2021-07-18T00:00:00",
          "2021-07-25T00:00:00",
          "2021-08-01T00:00:00",
          "2021-08-08T00:00:00",
          "2021-08-29T00:00:00",
          "2021-09-12T00:00:00",
          "2021-09-19T00:00:00",
          "2021-09-26T00:00:00",
          "2021-10-03T00:00:00",
          "2021-10-10T00:00:00",
          "2021-10-24T00:00:00",
          "2021-10-31T00:00:00",
          "2021-11-07T00:00:00",
          "2021-11-14T00:00:00",
          "2021-11-21T00:00:00",
          "2021-12-05T00:00:00",
          "2021-12-12T00:00:00",
          "2021-12-19T00:00:00",
          "2021-12-26T00:00:00",
          "2022-01-09T00:00:00",
          "2022-01-16T00:00:00"
         ],
         "xaxis": "x",
         "y": [
          4,
          12,
          19,
          26,
          28,
          29,
          29,
          29,
          29,
          29,
          29,
          29,
          29,
          29,
          29,
          29,
          29,
          29,
          29,
          29,
          29,
          29,
          29,
          29
         ],
         "yaxis": "y"
        },
        {
         "alignmentgroup": "True",
         "hovertemplate": "Actions=Secondary Submission<br>Dates=%{x}<br>Number_Binned=%{y}<extra></extra>",
         "legendgroup": "Secondary Submission",
         "marker": {
          "color": "#19d3f3",
          "pattern": {
           "shape": ""
          }
         },
         "name": "Secondary Submission",
         "offsetgroup": "Secondary Submission",
         "orientation": "v",
         "showlegend": true,
         "textposition": "auto",
         "type": "bar",
         "x": [
          "2021-06-27T00:00:00",
          "2021-07-04T00:00:00",
          "2021-07-11T00:00:00",
          "2021-07-18T00:00:00",
          "2021-07-25T00:00:00",
          "2021-08-01T00:00:00",
          "2021-08-08T00:00:00",
          "2021-08-29T00:00:00",
          "2021-09-12T00:00:00",
          "2021-09-19T00:00:00",
          "2021-09-26T00:00:00",
          "2021-10-03T00:00:00",
          "2021-10-10T00:00:00",
          "2021-10-24T00:00:00",
          "2021-10-31T00:00:00",
          "2021-11-07T00:00:00",
          "2021-11-14T00:00:00",
          "2021-11-21T00:00:00",
          "2021-12-05T00:00:00",
          "2021-12-12T00:00:00",
          "2021-12-19T00:00:00",
          "2021-12-26T00:00:00",
          "2022-01-09T00:00:00",
          "2022-01-16T00:00:00"
         ],
         "xaxis": "x",
         "y": [
          2,
          8,
          14,
          19,
          22,
          27,
          27,
          29,
          29,
          29,
          29,
          29,
          29,
          29,
          29,
          29,
          29,
          29,
          29,
          29,
          29,
          29,
          29,
          29
         ],
         "yaxis": "y"
        },
        {
         "alignmentgroup": "True",
         "hovertemplate": "Actions=Waitlist<br>Dates=%{x}<br>Number_Binned=%{y}<extra></extra>",
         "legendgroup": "Waitlist",
         "marker": {
          "color": "#FF6692",
          "pattern": {
           "shape": ""
          }
         },
         "name": "Waitlist",
         "offsetgroup": "Waitlist",
         "orientation": "v",
         "showlegend": true,
         "textposition": "auto",
         "type": "bar",
         "x": [
          "2021-06-27T00:00:00",
          "2021-07-04T00:00:00",
          "2021-07-11T00:00:00",
          "2021-07-18T00:00:00",
          "2021-07-25T00:00:00",
          "2021-08-01T00:00:00",
          "2021-08-08T00:00:00",
          "2021-08-29T00:00:00",
          "2021-09-12T00:00:00",
          "2021-09-19T00:00:00",
          "2021-09-26T00:00:00",
          "2021-10-03T00:00:00",
          "2021-10-10T00:00:00",
          "2021-10-24T00:00:00",
          "2021-10-31T00:00:00",
          "2021-11-07T00:00:00",
          "2021-11-14T00:00:00",
          "2021-11-21T00:00:00",
          "2021-12-05T00:00:00",
          "2021-12-12T00:00:00",
          "2021-12-19T00:00:00",
          "2021-12-26T00:00:00",
          "2022-01-09T00:00:00",
          "2022-01-16T00:00:00"
         ],
         "xaxis": "x",
         "y": [
          0,
          0,
          0,
          0,
          0,
          0,
          0,
          0,
          0,
          0,
          0,
          1,
          1,
          2,
          2,
          2,
          2,
          3,
          3,
          4,
          4,
          4,
          5,
          7
         ],
         "yaxis": "y"
        },
        {
         "alignmentgroup": "True",
         "hovertemplate": "Actions=Withdraw<br>Dates=%{x}<br>Number_Binned=%{y}<extra></extra>",
         "legendgroup": "Withdraw",
         "marker": {
          "color": "#B6E880",
          "pattern": {
           "shape": ""
          }
         },
         "name": "Withdraw",
         "offsetgroup": "Withdraw",
         "orientation": "v",
         "showlegend": true,
         "textposition": "auto",
         "type": "bar",
         "x": [
          "2021-06-27T00:00:00",
          "2021-07-04T00:00:00",
          "2021-07-11T00:00:00",
          "2021-07-18T00:00:00",
          "2021-07-25T00:00:00",
          "2021-08-01T00:00:00",
          "2021-08-08T00:00:00",
          "2021-08-29T00:00:00",
          "2021-09-12T00:00:00",
          "2021-09-19T00:00:00",
          "2021-09-26T00:00:00",
          "2021-10-03T00:00:00",
          "2021-10-10T00:00:00",
          "2021-10-24T00:00:00",
          "2021-10-31T00:00:00",
          "2021-11-07T00:00:00",
          "2021-11-14T00:00:00",
          "2021-11-21T00:00:00",
          "2021-12-05T00:00:00",
          "2021-12-12T00:00:00",
          "2021-12-19T00:00:00",
          "2021-12-26T00:00:00",
          "2022-01-09T00:00:00",
          "2022-01-16T00:00:00"
         ],
         "xaxis": "x",
         "y": [
          0,
          0,
          0,
          0,
          0,
          0,
          0,
          0,
          0,
          0,
          0,
          0,
          0,
          0,
          0,
          0,
          0,
          0,
          0,
          0,
          0,
          0,
          0,
          2
         ],
         "yaxis": "y"
        }
       ],
       "layout": {
        "barmode": "relative",
        "height": 700,
        "legend": {
         "title": {
          "text": "Actions"
         },
         "tracegroupgap": 0
        },
        "margin": {
         "t": 60
        },
        "template": {
         "data": {
          "bar": [
           {
            "error_x": {
             "color": "#2a3f5f"
            },
            "error_y": {
             "color": "#2a3f5f"
            },
            "marker": {
             "line": {
              "color": "#E5ECF6",
              "width": 0.5
             },
             "pattern": {
              "fillmode": "overlay",
              "size": 10,
              "solidity": 0.2
             }
            },
            "type": "bar"
           }
          ],
          "barpolar": [
           {
            "marker": {
             "line": {
              "color": "#E5ECF6",
              "width": 0.5
             },
             "pattern": {
              "fillmode": "overlay",
              "size": 10,
              "solidity": 0.2
             }
            },
            "type": "barpolar"
           }
          ],
          "carpet": [
           {
            "aaxis": {
             "endlinecolor": "#2a3f5f",
             "gridcolor": "white",
             "linecolor": "white",
             "minorgridcolor": "white",
             "startlinecolor": "#2a3f5f"
            },
            "baxis": {
             "endlinecolor": "#2a3f5f",
             "gridcolor": "white",
             "linecolor": "white",
             "minorgridcolor": "white",
             "startlinecolor": "#2a3f5f"
            },
            "type": "carpet"
           }
          ],
          "choropleth": [
           {
            "colorbar": {
             "outlinewidth": 0,
             "ticks": ""
            },
            "type": "choropleth"
           }
          ],
          "contour": [
           {
            "colorbar": {
             "outlinewidth": 0,
             "ticks": ""
            },
            "colorscale": [
             [
              0,
              "#0d0887"
             ],
             [
              0.1111111111111111,
              "#46039f"
             ],
             [
              0.2222222222222222,
              "#7201a8"
             ],
             [
              0.3333333333333333,
              "#9c179e"
             ],
             [
              0.4444444444444444,
              "#bd3786"
             ],
             [
              0.5555555555555556,
              "#d8576b"
             ],
             [
              0.6666666666666666,
              "#ed7953"
             ],
             [
              0.7777777777777778,
              "#fb9f3a"
             ],
             [
              0.8888888888888888,
              "#fdca26"
             ],
             [
              1,
              "#f0f921"
             ]
            ],
            "type": "contour"
           }
          ],
          "contourcarpet": [
           {
            "colorbar": {
             "outlinewidth": 0,
             "ticks": ""
            },
            "type": "contourcarpet"
           }
          ],
          "heatmap": [
           {
            "colorbar": {
             "outlinewidth": 0,
             "ticks": ""
            },
            "colorscale": [
             [
              0,
              "#0d0887"
             ],
             [
              0.1111111111111111,
              "#46039f"
             ],
             [
              0.2222222222222222,
              "#7201a8"
             ],
             [
              0.3333333333333333,
              "#9c179e"
             ],
             [
              0.4444444444444444,
              "#bd3786"
             ],
             [
              0.5555555555555556,
              "#d8576b"
             ],
             [
              0.6666666666666666,
              "#ed7953"
             ],
             [
              0.7777777777777778,
              "#fb9f3a"
             ],
             [
              0.8888888888888888,
              "#fdca26"
             ],
             [
              1,
              "#f0f921"
             ]
            ],
            "type": "heatmap"
           }
          ],
          "heatmapgl": [
           {
            "colorbar": {
             "outlinewidth": 0,
             "ticks": ""
            },
            "colorscale": [
             [
              0,
              "#0d0887"
             ],
             [
              0.1111111111111111,
              "#46039f"
             ],
             [
              0.2222222222222222,
              "#7201a8"
             ],
             [
              0.3333333333333333,
              "#9c179e"
             ],
             [
              0.4444444444444444,
              "#bd3786"
             ],
             [
              0.5555555555555556,
              "#d8576b"
             ],
             [
              0.6666666666666666,
              "#ed7953"
             ],
             [
              0.7777777777777778,
              "#fb9f3a"
             ],
             [
              0.8888888888888888,
              "#fdca26"
             ],
             [
              1,
              "#f0f921"
             ]
            ],
            "type": "heatmapgl"
           }
          ],
          "histogram": [
           {
            "marker": {
             "pattern": {
              "fillmode": "overlay",
              "size": 10,
              "solidity": 0.2
             }
            },
            "type": "histogram"
           }
          ],
          "histogram2d": [
           {
            "colorbar": {
             "outlinewidth": 0,
             "ticks": ""
            },
            "colorscale": [
             [
              0,
              "#0d0887"
             ],
             [
              0.1111111111111111,
              "#46039f"
             ],
             [
              0.2222222222222222,
              "#7201a8"
             ],
             [
              0.3333333333333333,
              "#9c179e"
             ],
             [
              0.4444444444444444,
              "#bd3786"
             ],
             [
              0.5555555555555556,
              "#d8576b"
             ],
             [
              0.6666666666666666,
              "#ed7953"
             ],
             [
              0.7777777777777778,
              "#fb9f3a"
             ],
             [
              0.8888888888888888,
              "#fdca26"
             ],
             [
              1,
              "#f0f921"
             ]
            ],
            "type": "histogram2d"
           }
          ],
          "histogram2dcontour": [
           {
            "colorbar": {
             "outlinewidth": 0,
             "ticks": ""
            },
            "colorscale": [
             [
              0,
              "#0d0887"
             ],
             [
              0.1111111111111111,
              "#46039f"
             ],
             [
              0.2222222222222222,
              "#7201a8"
             ],
             [
              0.3333333333333333,
              "#9c179e"
             ],
             [
              0.4444444444444444,
              "#bd3786"
             ],
             [
              0.5555555555555556,
              "#d8576b"
             ],
             [
              0.6666666666666666,
              "#ed7953"
             ],
             [
              0.7777777777777778,
              "#fb9f3a"
             ],
             [
              0.8888888888888888,
              "#fdca26"
             ],
             [
              1,
              "#f0f921"
             ]
            ],
            "type": "histogram2dcontour"
           }
          ],
          "mesh3d": [
           {
            "colorbar": {
             "outlinewidth": 0,
             "ticks": ""
            },
            "type": "mesh3d"
           }
          ],
          "parcoords": [
           {
            "line": {
             "colorbar": {
              "outlinewidth": 0,
              "ticks": ""
             }
            },
            "type": "parcoords"
           }
          ],
          "pie": [
           {
            "automargin": true,
            "type": "pie"
           }
          ],
          "scatter": [
           {
            "marker": {
             "colorbar": {
              "outlinewidth": 0,
              "ticks": ""
             }
            },
            "type": "scatter"
           }
          ],
          "scatter3d": [
           {
            "line": {
             "colorbar": {
              "outlinewidth": 0,
              "ticks": ""
             }
            },
            "marker": {
             "colorbar": {
              "outlinewidth": 0,
              "ticks": ""
             }
            },
            "type": "scatter3d"
           }
          ],
          "scattercarpet": [
           {
            "marker": {
             "colorbar": {
              "outlinewidth": 0,
              "ticks": ""
             }
            },
            "type": "scattercarpet"
           }
          ],
          "scattergeo": [
           {
            "marker": {
             "colorbar": {
              "outlinewidth": 0,
              "ticks": ""
             }
            },
            "type": "scattergeo"
           }
          ],
          "scattergl": [
           {
            "marker": {
             "colorbar": {
              "outlinewidth": 0,
              "ticks": ""
             }
            },
            "type": "scattergl"
           }
          ],
          "scattermapbox": [
           {
            "marker": {
             "colorbar": {
              "outlinewidth": 0,
              "ticks": ""
             }
            },
            "type": "scattermapbox"
           }
          ],
          "scatterpolar": [
           {
            "marker": {
             "colorbar": {
              "outlinewidth": 0,
              "ticks": ""
             }
            },
            "type": "scatterpolar"
           }
          ],
          "scatterpolargl": [
           {
            "marker": {
             "colorbar": {
              "outlinewidth": 0,
              "ticks": ""
             }
            },
            "type": "scatterpolargl"
           }
          ],
          "scatterternary": [
           {
            "marker": {
             "colorbar": {
              "outlinewidth": 0,
              "ticks": ""
             }
            },
            "type": "scatterternary"
           }
          ],
          "surface": [
           {
            "colorbar": {
             "outlinewidth": 0,
             "ticks": ""
            },
            "colorscale": [
             [
              0,
              "#0d0887"
             ],
             [
              0.1111111111111111,
              "#46039f"
             ],
             [
              0.2222222222222222,
              "#7201a8"
             ],
             [
              0.3333333333333333,
              "#9c179e"
             ],
             [
              0.4444444444444444,
              "#bd3786"
             ],
             [
              0.5555555555555556,
              "#d8576b"
             ],
             [
              0.6666666666666666,
              "#ed7953"
             ],
             [
              0.7777777777777778,
              "#fb9f3a"
             ],
             [
              0.8888888888888888,
              "#fdca26"
             ],
             [
              1,
              "#f0f921"
             ]
            ],
            "type": "surface"
           }
          ],
          "table": [
           {
            "cells": {
             "fill": {
              "color": "#EBF0F8"
             },
             "line": {
              "color": "white"
             }
            },
            "header": {
             "fill": {
              "color": "#C8D4E3"
             },
             "line": {
              "color": "white"
             }
            },
            "type": "table"
           }
          ]
         },
         "layout": {
          "annotationdefaults": {
           "arrowcolor": "#2a3f5f",
           "arrowhead": 0,
           "arrowwidth": 1
          },
          "autotypenumbers": "strict",
          "coloraxis": {
           "colorbar": {
            "outlinewidth": 0,
            "ticks": ""
           }
          },
          "colorscale": {
           "diverging": [
            [
             0,
             "#8e0152"
            ],
            [
             0.1,
             "#c51b7d"
            ],
            [
             0.2,
             "#de77ae"
            ],
            [
             0.3,
             "#f1b6da"
            ],
            [
             0.4,
             "#fde0ef"
            ],
            [
             0.5,
             "#f7f7f7"
            ],
            [
             0.6,
             "#e6f5d0"
            ],
            [
             0.7,
             "#b8e186"
            ],
            [
             0.8,
             "#7fbc41"
            ],
            [
             0.9,
             "#4d9221"
            ],
            [
             1,
             "#276419"
            ]
           ],
           "sequential": [
            [
             0,
             "#0d0887"
            ],
            [
             0.1111111111111111,
             "#46039f"
            ],
            [
             0.2222222222222222,
             "#7201a8"
            ],
            [
             0.3333333333333333,
             "#9c179e"
            ],
            [
             0.4444444444444444,
             "#bd3786"
            ],
            [
             0.5555555555555556,
             "#d8576b"
            ],
            [
             0.6666666666666666,
             "#ed7953"
            ],
            [
             0.7777777777777778,
             "#fb9f3a"
            ],
            [
             0.8888888888888888,
             "#fdca26"
            ],
            [
             1,
             "#f0f921"
            ]
           ],
           "sequentialminus": [
            [
             0,
             "#0d0887"
            ],
            [
             0.1111111111111111,
             "#46039f"
            ],
            [
             0.2222222222222222,
             "#7201a8"
            ],
            [
             0.3333333333333333,
             "#9c179e"
            ],
            [
             0.4444444444444444,
             "#bd3786"
            ],
            [
             0.5555555555555556,
             "#d8576b"
            ],
            [
             0.6666666666666666,
             "#ed7953"
            ],
            [
             0.7777777777777778,
             "#fb9f3a"
            ],
            [
             0.8888888888888888,
             "#fdca26"
            ],
            [
             1,
             "#f0f921"
            ]
           ]
          },
          "colorway": [
           "#636efa",
           "#EF553B",
           "#00cc96",
           "#ab63fa",
           "#FFA15A",
           "#19d3f3",
           "#FF6692",
           "#B6E880",
           "#FF97FF",
           "#FECB52"
          ],
          "font": {
           "color": "#2a3f5f"
          },
          "geo": {
           "bgcolor": "white",
           "lakecolor": "white",
           "landcolor": "#E5ECF6",
           "showlakes": true,
           "showland": true,
           "subunitcolor": "white"
          },
          "hoverlabel": {
           "align": "left"
          },
          "hovermode": "closest",
          "mapbox": {
           "style": "light"
          },
          "paper_bgcolor": "white",
          "plot_bgcolor": "#E5ECF6",
          "polar": {
           "angularaxis": {
            "gridcolor": "white",
            "linecolor": "white",
            "ticks": ""
           },
           "bgcolor": "#E5ECF6",
           "radialaxis": {
            "gridcolor": "white",
            "linecolor": "white",
            "ticks": ""
           }
          },
          "scene": {
           "xaxis": {
            "backgroundcolor": "#E5ECF6",
            "gridcolor": "white",
            "gridwidth": 2,
            "linecolor": "white",
            "showbackground": true,
            "ticks": "",
            "zerolinecolor": "white"
           },
           "yaxis": {
            "backgroundcolor": "#E5ECF6",
            "gridcolor": "white",
            "gridwidth": 2,
            "linecolor": "white",
            "showbackground": true,
            "ticks": "",
            "zerolinecolor": "white"
           },
           "zaxis": {
            "backgroundcolor": "#E5ECF6",
            "gridcolor": "white",
            "gridwidth": 2,
            "linecolor": "white",
            "showbackground": true,
            "ticks": "",
            "zerolinecolor": "white"
           }
          },
          "shapedefaults": {
           "line": {
            "color": "#2a3f5f"
           }
          },
          "ternary": {
           "aaxis": {
            "gridcolor": "white",
            "linecolor": "white",
            "ticks": ""
           },
           "baxis": {
            "gridcolor": "white",
            "linecolor": "white",
            "ticks": ""
           },
           "bgcolor": "#E5ECF6",
           "caxis": {
            "gridcolor": "white",
            "linecolor": "white",
            "ticks": ""
           }
          },
          "title": {
           "x": 0.05
          },
          "xaxis": {
           "automargin": true,
           "gridcolor": "white",
           "linecolor": "white",
           "ticks": "",
           "title": {
            "standoff": 15
           },
           "zerolinecolor": "white",
           "zerolinewidth": 2
          },
          "yaxis": {
           "automargin": true,
           "gridcolor": "white",
           "linecolor": "white",
           "ticks": "",
           "title": {
            "standoff": 15
           },
           "zerolinecolor": "white",
           "zerolinewidth": 2
          }
         }
        },
        "width": 1200,
        "xaxis": {
         "anchor": "y",
         "autorange": true,
         "domain": [
          0,
          1
         ],
         "range": [
          "2021-06-23 12:00",
          "2022-01-19 12:00"
         ],
         "title": {
          "text": "Dates"
         },
         "type": "date"
        },
        "yaxis": {
         "anchor": "x",
         "autorange": true,
         "domain": [
          0,
          1
         ],
         "range": [
          0,
          102.10526315789474
         ],
         "title": {
          "text": "Number_Binned"
         },
         "type": "linear"
        }
       }
      },
      "image/png": "[encoded data removed]",
      "text/html": [
       "<div>                            <div id=\"740dcde6-22e2-429a-94c0-4a3aac09ddb0\" class=\"plotly-graph-div\" style=\"height:700px; width:1200px;\"></div>            <script type=\"text/javascript\">                require([\"plotly\"], function(Plotly) {                    window.PLOTLYENV=window.PLOTLYENV || {};                                    if (document.getElementById(\"740dcde6-22e2-429a-94c0-4a3aac09ddb0\")) {                    Plotly.newPlot(                        \"740dcde6-22e2-429a-94c0-4a3aac09ddb0\",                        [{\"alignmentgroup\":\"True\",\"hovertemplate\":\"Actions=Acceptance<br>Dates=%{x}<br>Number_Binned=%{y}<extra></extra>\",\"legendgroup\":\"Acceptance\",\"marker\":{\"color\":\"#636efa\",\"pattern\":{\"shape\":\"\"}},\"name\":\"Acceptance\",\"offsetgroup\":\"Acceptance\",\"orientation\":\"v\",\"showlegend\":true,\"textposition\":\"auto\",\"x\":[\"2021-06-27T00:00:00\",\"2021-07-04T00:00:00\",\"2021-07-11T00:00:00\",\"2021-07-18T00:00:00\",\"2021-07-25T00:00:00\",\"2021-08-01T00:00:00\",\"2021-08-08T00:00:00\",\"2021-08-29T00:00:00\",\"2021-09-12T00:00:00\",\"2021-09-19T00:00:00\",\"2021-09-26T00:00:00\",\"2021-10-03T00:00:00\",\"2021-10-10T00:00:00\",\"2021-10-24T00:00:00\",\"2021-10-31T00:00:00\",\"2021-11-07T00:00:00\",\"2021-11-14T00:00:00\",\"2021-11-21T00:00:00\",\"2021-12-05T00:00:00\",\"2021-12-12T00:00:00\",\"2021-12-19T00:00:00\",\"2021-12-26T00:00:00\",\"2022-01-09T00:00:00\",\"2022-01-16T00:00:00\"],\"xaxis\":\"x\",\"y\":[0.0,0.0,0.0,0.0,0.0,0.0,0.0,0.0,0.0,0.0,0.0,0.0,0.0,0.0,0.0,0.0,0.0,0.0,1.0,1.0,1.0,2.0,2.0,2.0],\"yaxis\":\"y\",\"type\":\"bar\"},{\"alignmentgroup\":\"True\",\"hovertemplate\":\"Actions=Interview<br>Dates=%{x}<br>Number_Binned=%{y}<extra></extra>\",\"legendgroup\":\"Interview\",\"marker\":{\"color\":\"#EF553B\",\"pattern\":{\"shape\":\"\"}},\"name\":\"Interview\",\"offsetgroup\":\"Interview\",\"orientation\":\"v\",\"showlegend\":true,\"textposition\":\"auto\",\"x\":[\"2021-06-27T00:00:00\",\"2021-07-04T00:00:00\",\"2021-07-11T00:00:00\",\"2021-07-18T00:00:00\",\"2021-07-25T00:00:00\",\"2021-08-01T00:00:00\",\"2021-08-08T00:00:00\",\"2021-08-29T00:00:00\",\"2021-09-12T00:00:00\",\"2021-09-19T00:00:00\",\"2021-09-26T00:00:00\",\"2021-10-03T00:00:00\",\"2021-10-10T00:00:00\",\"2021-10-24T00:00:00\",\"2021-10-31T00:00:00\",\"2021-11-07T00:00:00\",\"2021-11-14T00:00:00\",\"2021-11-21T00:00:00\",\"2021-12-05T00:00:00\",\"2021-12-12T00:00:00\",\"2021-12-19T00:00:00\",\"2021-12-26T00:00:00\",\"2022-01-09T00:00:00\",\"2022-01-16T00:00:00\"],\"xaxis\":\"x\",\"y\":[0.0,0.0,0.0,0.0,0.0,0.0,0.0,0.0,0.0,1.0,2.0,2.0,3.0,4.0,5.0,6.0,6.0,7.0,8.0,8.0,8.0,8.0,10.0,10.0],\"yaxis\":\"y\",\"type\":\"bar\"},{\"alignmentgroup\":\"True\",\"hovertemplate\":\"Actions=Interview Invite<br>Dates=%{x}<br>Number_Binned=%{y}<extra></extra>\",\"legendgroup\":\"Interview Invite\",\"marker\":{\"color\":\"#00cc96\",\"pattern\":{\"shape\":\"\"}},\"name\":\"Interview Invite\",\"offsetgroup\":\"Interview Invite\",\"orientation\":\"v\",\"showlegend\":true,\"textposition\":\"auto\",\"x\":[\"2021-06-27T00:00:00\",\"2021-07-04T00:00:00\",\"2021-07-11T00:00:00\",\"2021-07-18T00:00:00\",\"2021-07-25T00:00:00\",\"2021-08-01T00:00:00\",\"2021-08-08T00:00:00\",\"2021-08-29T00:00:00\",\"2021-09-12T00:00:00\",\"2021-09-19T00:00:00\",\"2021-09-26T00:00:00\",\"2021-10-03T00:00:00\",\"2021-10-10T00:00:00\",\"2021-10-24T00:00:00\",\"2021-10-31T00:00:00\",\"2021-11-07T00:00:00\",\"2021-11-14T00:00:00\",\"2021-11-21T00:00:00\",\"2021-12-05T00:00:00\",\"2021-12-12T00:00:00\",\"2021-12-19T00:00:00\",\"2021-12-26T00:00:00\",\"2022-01-09T00:00:00\",\"2022-01-16T00:00:00\"],\"xaxis\":\"x\",\"y\":[0.0,0.0,0.0,0.0,0.0,0.0,1.0,5.0,6.0,6.0,8.0,8.0,8.0,8.0,9.0,9.0,10.0,10.0,10.0,10.0,10.0,10.0,10.0,10.0],\"yaxis\":\"y\",\"type\":\"bar\"},{\"alignmentgroup\":\"True\",\"hovertemplate\":\"Actions=Rejection<br>Dates=%{x}<br>Number_Binned=%{y}<extra></extra>\",\"legendgroup\":\"Rejection\",\"marker\":{\"color\":\"#ab63fa\",\"pattern\":{\"shape\":\"\"}},\"name\":\"Rejection\",\"offsetgroup\":\"Rejection\",\"orientation\":\"v\",\"showlegend\":true,\"textposition\":\"auto\",\"x\":[\"2021-06-27T00:00:00\",\"2021-07-04T00:00:00\",\"2021-07-11T00:00:00\",\"2021-07-18T00:00:00\",\"2021-07-25T00:00:00\",\"2021-08-01T00:00:00\",\"2021-08-08T00:00:00\",\"2021-08-29T00:00:00\",\"2021-09-12T00:00:00\",\"2021-09-19T00:00:00\",\"2021-09-26T00:00:00\",\"2021-10-03T00:00:00\",\"2021-10-10T00:00:00\",\"2021-10-24T00:00:00\",\"2021-10-31T00:00:00\",\"2021-11-07T00:00:00\",\"2021-11-14T00:00:00\",\"2021-11-21T00:00:00\",\"2021-12-05T00:00:00\",\"2021-12-12T00:00:00\",\"2021-12-19T00:00:00\",\"2021-12-26T00:00:00\",\"2022-01-09T00:00:00\",\"2022-01-16T00:00:00\"],\"xaxis\":\"x\",\"y\":[0.0,0.0,0.0,0.0,0.0,0.0,1.0,1.0,1.0,1.0,1.0,2.0,3.0,3.0,3.0,3.0,4.0,4.0,5.0,7.0,8.0,8.0,8.0,8.0],\"yaxis\":\"y\",\"type\":\"bar\"},{\"alignmentgroup\":\"True\",\"hovertemplate\":\"Actions=Secondary Invite<br>Dates=%{x}<br>Number_Binned=%{y}<extra></extra>\",\"legendgroup\":\"Secondary Invite\",\"marker\":{\"color\":\"#FFA15A\",\"pattern\":{\"shape\":\"\"}},\"name\":\"Secondary Invite\",\"offsetgroup\":\"Secondary Invite\",\"orientation\":\"v\",\"showlegend\":true,\"textposition\":\"auto\",\"x\":[\"2021-06-27T00:00:00\",\"2021-07-04T00:00:00\",\"2021-07-11T00:00:00\",\"2021-07-18T00:00:00\",\"2021-07-25T00:00:00\",\"2021-08-01T00:00:00\",\"2021-08-08T00:00:00\",\"2021-08-29T00:00:00\",\"2021-09-12T00:00:00\",\"2021-09-19T00:00:00\",\"2021-09-26T00:00:00\",\"2021-10-03T00:00:00\",\"2021-10-10T00:00:00\",\"2021-10-24T00:00:00\",\"2021-10-31T00:00:00\",\"2021-11-07T00:00:00\",\"2021-11-14T00:00:00\",\"2021-11-21T00:00:00\",\"2021-12-05T00:00:00\",\"2021-12-12T00:00:00\",\"2021-12-19T00:00:00\",\"2021-12-26T00:00:00\",\"2022-01-09T00:00:00\",\"2022-01-16T00:00:00\"],\"xaxis\":\"x\",\"y\":[4.0,12.0,19.0,26.0,28.0,29.0,29.0,29.0,29.0,29.0,29.0,29.0,29.0,29.0,29.0,29.0,29.0,29.0,29.0,29.0,29.0,29.0,29.0,29.0],\"yaxis\":\"y\",\"type\":\"bar\"},{\"alignmentgroup\":\"True\",\"hovertemplate\":\"Actions=Secondary Submission<br>Dates=%{x}<br>Number_Binned=%{y}<extra></extra>\",\"legendgroup\":\"Secondary Submission\",\"marker\":{\"color\":\"#19d3f3\",\"pattern\":{\"shape\":\"\"}},\"name\":\"Secondary Submission\",\"offsetgroup\":\"Secondary Submission\",\"orientation\":\"v\",\"showlegend\":true,\"textposition\":\"auto\",\"x\":[\"2021-06-27T00:00:00\",\"2021-07-04T00:00:00\",\"2021-07-11T00:00:00\",\"2021-07-18T00:00:00\",\"2021-07-25T00:00:00\",\"2021-08-01T00:00:00\",\"2021-08-08T00:00:00\",\"2021-08-29T00:00:00\",\"2021-09-12T00:00:00\",\"2021-09-19T00:00:00\",\"2021-09-26T00:00:00\",\"2021-10-03T00:00:00\",\"2021-10-10T00:00:00\",\"2021-10-24T00:00:00\",\"2021-10-31T00:00:00\",\"2021-11-07T00:00:00\",\"2021-11-14T00:00:00\",\"2021-11-21T00:00:00\",\"2021-12-05T00:00:00\",\"2021-12-12T00:00:00\",\"2021-12-19T00:00:00\",\"2021-12-26T00:00:00\",\"2022-01-09T00:00:00\",\"2022-01-16T00:00:00\"],\"xaxis\":\"x\",\"y\":[2.0,8.0,14.0,19.0,22.0,27.0,27.0,29.0,29.0,29.0,29.0,29.0,29.0,29.0,29.0,29.0,29.0,29.0,29.0,29.0,29.0,29.0,29.0,29.0],\"yaxis\":\"y\",\"type\":\"bar\"},{\"alignmentgroup\":\"True\",\"hovertemplate\":\"Actions=Waitlist<br>Dates=%{x}<br>Number_Binned=%{y}<extra></extra>\",\"legendgroup\":\"Waitlist\",\"marker\":{\"color\":\"#FF6692\",\"pattern\":{\"shape\":\"\"}},\"name\":\"Waitlist\",\"offsetgroup\":\"Waitlist\",\"orientation\":\"v\",\"showlegend\":true,\"textposition\":\"auto\",\"x\":[\"2021-06-27T00:00:00\",\"2021-07-04T00:00:00\",\"2021-07-11T00:00:00\",\"2021-07-18T00:00:00\",\"2021-07-25T00:00:00\",\"2021-08-01T00:00:00\",\"2021-08-08T00:00:00\",\"2021-08-29T00:00:00\",\"2021-09-12T00:00:00\",\"2021-09-19T00:00:00\",\"2021-09-26T00:00:00\",\"2021-10-03T00:00:00\",\"2021-10-10T00:00:00\",\"2021-10-24T00:00:00\",\"2021-10-31T00:00:00\",\"2021-11-07T00:00:00\",\"2021-11-14T00:00:00\",\"2021-11-21T00:00:00\",\"2021-12-05T00:00:00\",\"2021-12-12T00:00:00\",\"2021-12-19T00:00:00\",\"2021-12-26T00:00:00\",\"2022-01-09T00:00:00\",\"2022-01-16T00:00:00\"],\"xaxis\":\"x\",\"y\":[0.0,0.0,0.0,0.0,0.0,0.0,0.0,0.0,0.0,0.0,0.0,1.0,1.0,2.0,2.0,2.0,2.0,3.0,3.0,4.0,4.0,4.0,5.0,7.0],\"yaxis\":\"y\",\"type\":\"bar\"},{\"alignmentgroup\":\"True\",\"hovertemplate\":\"Actions=Withdraw<br>Dates=%{x}<br>Number_Binned=%{y}<extra></extra>\",\"legendgroup\":\"Withdraw\",\"marker\":{\"color\":\"#B6E880\",\"pattern\":{\"shape\":\"\"}},\"name\":\"Withdraw\",\"offsetgroup\":\"Withdraw\",\"orientation\":\"v\",\"showlegend\":true,\"textposition\":\"auto\",\"x\":[\"2021-06-27T00:00:00\",\"2021-07-04T00:00:00\",\"2021-07-11T00:00:00\",\"2021-07-18T00:00:00\",\"2021-07-25T00:00:00\",\"2021-08-01T00:00:00\",\"2021-08-08T00:00:00\",\"2021-08-29T00:00:00\",\"2021-09-12T00:00:00\",\"2021-09-19T00:00:00\",\"2021-09-26T00:00:00\",\"2021-10-03T00:00:00\",\"2021-10-10T00:00:00\",\"2021-10-24T00:00:00\",\"2021-10-31T00:00:00\",\"2021-11-07T00:00:00\",\"2021-11-14T00:00:00\",\"2021-11-21T00:00:00\",\"2021-12-05T00:00:00\",\"2021-12-12T00:00:00\",\"2021-12-19T00:00:00\",\"2021-12-26T00:00:00\",\"2022-01-09T00:00:00\",\"2022-01-16T00:00:00\"],\"xaxis\":\"x\",\"y\":[0.0,0.0,0.0,0.0,0.0,0.0,0.0,0.0,0.0,0.0,0.0,0.0,0.0,0.0,0.0,0.0,0.0,0.0,0.0,0.0,0.0,0.0,0.0,2.0],\"yaxis\":\"y\",\"type\":\"bar\"}],                        {\"template\":{\"data\":{\"bar\":[{\"error_x\":{\"color\":\"#2a3f5f\"},\"error_y\":{\"color\":\"#2a3f5f\"},\"marker\":{\"line\":{\"color\":\"#E5ECF6\",\"width\":0.5},\"pattern\":{\"fillmode\":\"overlay\",\"size\":10,\"solidity\":0.2}},\"type\":\"bar\"}],\"barpolar\":[{\"marker\":{\"line\":{\"color\":\"#E5ECF6\",\"width\":0.5},\"pattern\":{\"fillmode\":\"overlay\",\"size\":10,\"solidity\":0.2}},\"type\":\"barpolar\"}],\"carpet\":[{\"aaxis\":{\"endlinecolor\":\"#2a3f5f\",\"gridcolor\":\"white\",\"linecolor\":\"white\",\"minorgridcolor\":\"white\",\"startlinecolor\":\"#2a3f5f\"},\"baxis\":{\"endlinecolor\":\"#2a3f5f\",\"gridcolor\":\"white\",\"linecolor\":\"white\",\"minorgridcolor\":\"white\",\"startlinecolor\":\"#2a3f5f\"},\"type\":\"carpet\"}],\"choropleth\":[{\"colorbar\":{\"outlinewidth\":0,\"ticks\":\"\"},\"type\":\"choropleth\"}],\"contour\":[{\"colorbar\":{\"outlinewidth\":0,\"ticks\":\"\"},\"colorscale\":[[0.0,\"#0d0887\"],[0.1111111111111111,\"#46039f\"],[0.2222222222222222,\"#7201a8\"],[0.3333333333333333,\"#9c179e\"],[0.4444444444444444,\"#bd3786\"],[0.5555555555555556,\"#d8576b\"],[0.6666666666666666,\"#ed7953\"],[0.7777777777777778,\"#fb9f3a\"],[0.8888888888888888,\"#fdca26\"],[1.0,\"#f0f921\"]],\"type\":\"contour\"}],\"contourcarpet\":[{\"colorbar\":{\"outlinewidth\":0,\"ticks\":\"\"},\"type\":\"contourcarpet\"}],\"heatmap\":[{\"colorbar\":{\"outlinewidth\":0,\"ticks\":\"\"},\"colorscale\":[[0.0,\"#0d0887\"],[0.1111111111111111,\"#46039f\"],[0.2222222222222222,\"#7201a8\"],[0.3333333333333333,\"#9c179e\"],[0.4444444444444444,\"#bd3786\"],[0.5555555555555556,\"#d8576b\"],[0.6666666666666666,\"#ed7953\"],[0.7777777777777778,\"#fb9f3a\"],[0.8888888888888888,\"#fdca26\"],[1.0,\"#f0f921\"]],\"type\":\"heatmap\"}],\"heatmapgl\":[{\"colorbar\":{\"outlinewidth\":0,\"ticks\":\"\"},\"colorscale\":[[0.0,\"#0d0887\"],[0.1111111111111111,\"#46039f\"],[0.2222222222222222,\"#7201a8\"],[0.3333333333333333,\"#9c179e\"],[0.4444444444444444,\"#bd3786\"],[0.5555555555555556,\"#d8576b\"],[0.6666666666666666,\"#ed7953\"],[0.7777777777777778,\"#fb9f3a\"],[0.8888888888888888,\"#fdca26\"],[1.0,\"#f0f921\"]],\"type\":\"heatmapgl\"}],\"histogram\":[{\"marker\":{\"pattern\":{\"fillmode\":\"overlay\",\"size\":10,\"solidity\":0.2}},\"type\":\"histogram\"}],\"histogram2d\":[{\"colorbar\":{\"outlinewidth\":0,\"ticks\":\"\"},\"colorscale\":[[0.0,\"#0d0887\"],[0.1111111111111111,\"#46039f\"],[0.2222222222222222,\"#7201a8\"],[0.3333333333333333,\"#9c179e\"],[0.4444444444444444,\"#bd3786\"],[0.5555555555555556,\"#d8576b\"],[0.6666666666666666,\"#ed7953\"],[0.7777777777777778,\"#fb9f3a\"],[0.8888888888888888,\"#fdca26\"],[1.0,\"#f0f921\"]],\"type\":\"histogram2d\"}],\"histogram2dcontour\":[{\"colorbar\":{\"outlinewidth\":0,\"ticks\":\"\"},\"colorscale\":[[0.0,\"#0d0887\"],[0.1111111111111111,\"#46039f\"],[0.2222222222222222,\"#7201a8\"],[0.3333333333333333,\"#9c179e\"],[0.4444444444444444,\"#bd3786\"],[0.5555555555555556,\"#d8576b\"],[0.6666666666666666,\"#ed7953\"],[0.7777777777777778,\"#fb9f3a\"],[0.8888888888888888,\"#fdca26\"],[1.0,\"#f0f921\"]],\"type\":\"histogram2dcontour\"}],\"mesh3d\":[{\"colorbar\":{\"outlinewidth\":0,\"ticks\":\"\"},\"type\":\"mesh3d\"}],\"parcoords\":[{\"line\":{\"colorbar\":{\"outlinewidth\":0,\"ticks\":\"\"}},\"type\":\"parcoords\"}],\"pie\":[{\"automargin\":true,\"type\":\"pie\"}],\"scatter\":[{\"marker\":{\"colorbar\":{\"outlinewidth\":0,\"ticks\":\"\"}},\"type\":\"scatter\"}],\"scatter3d\":[{\"line\":{\"colorbar\":{\"outlinewidth\":0,\"ticks\":\"\"}},\"marker\":{\"colorbar\":{\"outlinewidth\":0,\"ticks\":\"\"}},\"type\":\"scatter3d\"}],\"scattercarpet\":[{\"marker\":{\"colorbar\":{\"outlinewidth\":0,\"ticks\":\"\"}},\"type\":\"scattercarpet\"}],\"scattergeo\":[{\"marker\":{\"colorbar\":{\"outlinewidth\":0,\"ticks\":\"\"}},\"type\":\"scattergeo\"}],\"scattergl\":[{\"marker\":{\"colorbar\":{\"outlinewidth\":0,\"ticks\":\"\"}},\"type\":\"scattergl\"}],\"scattermapbox\":[{\"marker\":{\"colorbar\":{\"outlinewidth\":0,\"ticks\":\"\"}},\"type\":\"scattermapbox\"}],\"scatterpolar\":[{\"marker\":{\"colorbar\":{\"outlinewidth\":0,\"ticks\":\"\"}},\"type\":\"scatterpolar\"}],\"scatterpolargl\":[{\"marker\":{\"colorbar\":{\"outlinewidth\":0,\"ticks\":\"\"}},\"type\":\"scatterpolargl\"}],\"scatterternary\":[{\"marker\":{\"colorbar\":{\"outlinewidth\":0,\"ticks\":\"\"}},\"type\":\"scatterternary\"}],\"surface\":[{\"colorbar\":{\"outlinewidth\":0,\"ticks\":\"\"},\"colorscale\":[[0.0,\"#0d0887\"],[0.1111111111111111,\"#46039f\"],[0.2222222222222222,\"#7201a8\"],[0.3333333333333333,\"#9c179e\"],[0.4444444444444444,\"#bd3786\"],[0.5555555555555556,\"#d8576b\"],[0.6666666666666666,\"#ed7953\"],[0.7777777777777778,\"#fb9f3a\"],[0.8888888888888888,\"#fdca26\"],[1.0,\"#f0f921\"]],\"type\":\"surface\"}],\"table\":[{\"cells\":{\"fill\":{\"color\":\"#EBF0F8\"},\"line\":{\"color\":\"white\"}},\"header\":{\"fill\":{\"color\":\"#C8D4E3\"},\"line\":{\"color\":\"white\"}},\"type\":\"table\"}]},\"layout\":{\"annotationdefaults\":{\"arrowcolor\":\"#2a3f5f\",\"arrowhead\":0,\"arrowwidth\":1},\"autotypenumbers\":\"strict\",\"coloraxis\":{\"colorbar\":{\"outlinewidth\":0,\"ticks\":\"\"}},\"colorscale\":{\"diverging\":[[0,\"#8e0152\"],[0.1,\"#c51b7d\"],[0.2,\"#de77ae\"],[0.3,\"#f1b6da\"],[0.4,\"#fde0ef\"],[0.5,\"#f7f7f7\"],[0.6,\"#e6f5d0\"],[0.7,\"#b8e186\"],[0.8,\"#7fbc41\"],[0.9,\"#4d9221\"],[1,\"#276419\"]],\"sequential\":[[0.0,\"#0d0887\"],[0.1111111111111111,\"#46039f\"],[0.2222222222222222,\"#7201a8\"],[0.3333333333333333,\"#9c179e\"],[0.4444444444444444,\"#bd3786\"],[0.5555555555555556,\"#d8576b\"],[0.6666666666666666,\"#ed7953\"],[0.7777777777777778,\"#fb9f3a\"],[0.8888888888888888,\"#fdca26\"],[1.0,\"#f0f921\"]],\"sequentialminus\":[[0.0,\"#0d0887\"],[0.1111111111111111,\"#46039f\"],[0.2222222222222222,\"#7201a8\"],[0.3333333333333333,\"#9c179e\"],[0.4444444444444444,\"#bd3786\"],[0.5555555555555556,\"#d8576b\"],[0.6666666666666666,\"#ed7953\"],[0.7777777777777778,\"#fb9f3a\"],[0.8888888888888888,\"#fdca26\"],[1.0,\"#f0f921\"]]},\"colorway\":[\"#636efa\",\"#EF553B\",\"#00cc96\",\"#ab63fa\",\"#FFA15A\",\"#19d3f3\",\"#FF6692\",\"#B6E880\",\"#FF97FF\",\"#FECB52\"],\"font\":{\"color\":\"#2a3f5f\"},\"geo\":{\"bgcolor\":\"white\",\"lakecolor\":\"white\",\"landcolor\":\"#E5ECF6\",\"showlakes\":true,\"showland\":true,\"subunitcolor\":\"white\"},\"hoverlabel\":{\"align\":\"left\"},\"hovermode\":\"closest\",\"mapbox\":{\"style\":\"light\"},\"paper_bgcolor\":\"white\",\"plot_bgcolor\":\"#E5ECF6\",\"polar\":{\"angularaxis\":{\"gridcolor\":\"white\",\"linecolor\":\"white\",\"ticks\":\"\"},\"bgcolor\":\"#E5ECF6\",\"radialaxis\":{\"gridcolor\":\"white\",\"linecolor\":\"white\",\"ticks\":\"\"}},\"scene\":{\"xaxis\":{\"backgroundcolor\":\"#E5ECF6\",\"gridcolor\":\"white\",\"gridwidth\":2,\"linecolor\":\"white\",\"showbackground\":true,\"ticks\":\"\",\"zerolinecolor\":\"white\"},\"yaxis\":{\"backgroundcolor\":\"#E5ECF6\",\"gridcolor\":\"white\",\"gridwidth\":2,\"linecolor\":\"white\",\"showbackground\":true,\"ticks\":\"\",\"zerolinecolor\":\"white\"},\"zaxis\":{\"backgroundcolor\":\"#E5ECF6\",\"gridcolor\":\"white\",\"gridwidth\":2,\"linecolor\":\"white\",\"showbackground\":true,\"ticks\":\"\",\"zerolinecolor\":\"white\"}},\"shapedefaults\":{\"line\":{\"color\":\"#2a3f5f\"}},\"ternary\":{\"aaxis\":{\"gridcolor\":\"white\",\"linecolor\":\"white\",\"ticks\":\"\"},\"baxis\":{\"gridcolor\":\"white\",\"linecolor\":\"white\",\"ticks\":\"\"},\"bgcolor\":\"#E5ECF6\",\"caxis\":{\"gridcolor\":\"white\",\"linecolor\":\"white\",\"ticks\":\"\"}},\"title\":{\"x\":0.05},\"xaxis\":{\"automargin\":true,\"gridcolor\":\"white\",\"linecolor\":\"white\",\"ticks\":\"\",\"title\":{\"standoff\":15},\"zerolinecolor\":\"white\",\"zerolinewidth\":2},\"yaxis\":{\"automargin\":true,\"gridcolor\":\"white\",\"linecolor\":\"white\",\"ticks\":\"\",\"title\":{\"standoff\":15},\"zerolinecolor\":\"white\",\"zerolinewidth\":2}}},\"xaxis\":{\"anchor\":\"y\",\"domain\":[0.0,1.0],\"title\":{\"text\":\"Dates\"}},\"yaxis\":{\"anchor\":\"x\",\"domain\":[0.0,1.0],\"title\":{\"text\":\"Number_Binned\"}},\"legend\":{\"title\":{\"text\":\"Actions\"},\"tracegroupgap\":0},\"margin\":{\"t\":60},\"barmode\":\"relative\",\"height\":700,\"width\":1200},                        {\"responsive\": true}                    ).then(function(){\n",
       "                            \n",
       "var gd = document.getElementById('740dcde6-22e2-429a-94c0-4a3aac09ddb0');\n",
       "var x = new MutationObserver(function (mutations, observer) {{\n",
       "        var display = window.getComputedStyle(gd).display;\n",
       "        if (!display || display === 'none') {{\n",
       "            console.log([gd, 'removed!']);\n",
       "            Plotly.purge(gd);\n",
       "            observer.disconnect();\n",
       "        }}\n",
       "}});\n",
       "\n",
       "// Listen for the removal of the full notebook cells\n",
       "var notebookContainer = gd.closest('#notebook-container');\n",
       "if (notebookContainer) {{\n",
       "    x.observe(notebookContainer, {childList: true});\n",
       "}}\n",
       "\n",
       "// Listen for the clearing of the current output cell\n",
       "var outputEl = gd.closest('.output');\n",
       "if (outputEl) {{\n",
       "    x.observe(outputEl, {childList: true});\n",
       "}}\n",
       "\n",
       "                        })                };                });            </script>        </div>"
      ]
     },
     "metadata": {},
     "output_type": "display_data"
    }
   ],
   "source": [
    "bar = px.bar(df, x=\"Dates\", y=\"Number_Binned\", color=\"Actions\", width=1200, height=700)\n",
    "bar.show()"
   ]
  },
  {
   "cell_type": "markdown",
   "id": "63d75590-e891-4bcb-8b7a-d192f4f06f28",
   "metadata": {},
   "source": [
    "### Plotting the Application Cycle as a line graph"
   ]
  },
  {
   "cell_type": "code",
   "execution_count": 4,
   "id": "27ace6b7-48f3-463f-86ff-af7ba26098ef",
   "metadata": {},
   "outputs": [
    {
     "name": "stdin",
     "output_type": "stream",
     "text": [
      "Enter a hex color to represent acceptance: \n",
      "Enter a hex color to represent interview: \n",
      "Enter a hex color to represent interview invite: \n",
      "Enter a hex color to represent rejection: \n",
      "Enter a hex color to represent secondary invite: \n",
      "Enter a hex color to represent secondary submission: \n",
      "Enter a hex color to represent waitlist: \n",
      "Enter a hex color to represent withdraw: \n"
     ]
    },
    {
     "data": {
      "text/plain": [
       "{'acceptance': '',\n",
       " 'interview': '',\n",
       " 'interview invite': '',\n",
       " 'rejection': '',\n",
       " 'secondary invite': '',\n",
       " 'secondary submission': '',\n",
       " 'waitlist': '',\n",
       " 'withdraw': ''}"
      ]
     },
     "execution_count": 4,
     "metadata": {},
     "output_type": "execute_result"
    }
   ],
   "source": [
    "action_color_dict = {}\n",
    "for action in sorted(column_names):\n",
    "    hex_color = input(f\"Enter a hex color to represent {action}:\")\n",
    "    action_color_dict[action] = hex_color\n",
    "action_color_dict"
   ]
  },
  {
   "cell_type": "code",
   "execution_count": 5,
   "id": "799a4887-c485-474d-82a8-d010b276652d",
   "metadata": {},
   "outputs": [
    {
     "name": "stdin",
     "output_type": "stream",
     "text": [
      "Do you want a light-mode or dark-mode graph: dark\n"
     ]
    },
    {
     "data": {
      "text/plain": [
       "'plotly_dark'"
      ]
     },
     "execution_count": 5,
     "metadata": {},
     "output_type": "execute_result"
    }
   ],
   "source": [
    "response = input(\"Do you want a light-mode or dark-mode graph:\")\n",
    "response_dict = {\"light\": \"simple_white\", \"dark\": \"plotly_dark\"}\n",
    "response_answer = response_dict[response]\n",
    "response_answer"
   ]
  },
  {
   "cell_type": "code",
   "execution_count": 24,
   "id": "bdf26adb-75b3-450b-9fae-4e2dc3201b81",
   "metadata": {
    "tags": []
   },
   "outputs": [
    {
     "data": {
      "text/plain": [
       "Index(['Schools', 'Actions', 'Dates', 'tracker'], dtype='object')"
      ]
     },
     "execution_count": 24,
     "metadata": {},
     "output_type": "execute_result"
    }
   ],
   "source": [
    "dan_sort2.columns"
   ]
  },
  {
   "cell_type": "code",
   "execution_count": 4,
   "id": "d1f28e28-86dd-487e-ab45-9e38f9d0857b",
   "metadata": {
    "tags": []
   },
   "outputs": [],
   "source": [
    "color_map = {\"Acceptance\": \"#00ff44\", \"Interview\": \"#3064ff\", \"Interview Invite\": \"#87cfff\", \"Rejection\": \"#ff0000\", \"Secondary Submission\": \"#9afa14\", \"Waitlist\": \"#fa14aa\", \"Withdraw\": \"#9e959b\"}"
   ]
  }
 ],
 "metadata": {
  "kernelspec": {
   "display_name": "Python 3",
   "language": "python",
   "name": "python3"
  },
  "language_info": {
   "codemirror_mode": {
    "name": "ipython",
    "version": 3
   },
   "file_extension": ".py",
   "mimetype": "text/x-python",
   "name": "python",
   "nbconvert_exporter": "python",
   "pygments_lexer": "ipython3",
   "version": "3.8.8"
  }
 },
 "nbformat": 4,
 "nbformat_minor": 5
}
