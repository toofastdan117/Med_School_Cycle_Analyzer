{
 "cells": [
  {
   "cell_type": "code",
   "execution_count": 1,
   "id": "95096458",
   "metadata": {},
   "outputs": [],
   "source": [
    "import pandas as pd\n",
    "import datetime as dt\n",
    "import matplotlib"
   ]
  },
  {
   "cell_type": "code",
   "execution_count": 2,
   "id": "18aebf4b",
   "metadata": {},
   "outputs": [
    {
     "data": {
      "text/html": [
       "<div>\n",
       "<style scoped>\n",
       "    .dataframe tbody tr th:only-of-type {\n",
       "        vertical-align: middle;\n",
       "    }\n",
       "\n",
       "    .dataframe tbody tr th {\n",
       "        vertical-align: top;\n",
       "    }\n",
       "\n",
       "    .dataframe thead th {\n",
       "        text-align: right;\n",
       "    }\n",
       "</style>\n",
       "<table border=\"1\" class=\"dataframe\">\n",
       "  <thead>\n",
       "    <tr style=\"text-align: right;\">\n",
       "      <th></th>\n",
       "      <th>School</th>\n",
       "      <th>Application Complete Date</th>\n",
       "      <th>Interview Received Date</th>\n",
       "      <th>Rejection Date</th>\n",
       "      <th>Waitlist Date</th>\n",
       "      <th>Acceptance Date</th>\n",
       "    </tr>\n",
       "  </thead>\n",
       "  <tbody>\n",
       "    <tr>\n",
       "      <th>0</th>\n",
       "      <td>Wisconsin</td>\n",
       "      <td>2021-08-04</td>\n",
       "      <td>NaT</td>\n",
       "      <td>2021-10-25</td>\n",
       "      <td>NaT</td>\n",
       "      <td>NaT</td>\n",
       "    </tr>\n",
       "    <tr>\n",
       "      <th>1</th>\n",
       "      <td>Carle Illinois</td>\n",
       "      <td>2021-08-17</td>\n",
       "      <td>2021-10-21</td>\n",
       "      <td>NaT</td>\n",
       "      <td>NaT</td>\n",
       "      <td>NaT</td>\n",
       "    </tr>\n",
       "    <tr>\n",
       "      <th>2</th>\n",
       "      <td>Northwestern</td>\n",
       "      <td>2021-08-01</td>\n",
       "      <td>2021-08-30</td>\n",
       "      <td>NaT</td>\n",
       "      <td>NaT</td>\n",
       "      <td>2021-10-22</td>\n",
       "    </tr>\n",
       "    <tr>\n",
       "      <th>3</th>\n",
       "      <td>U Chicago</td>\n",
       "      <td>2021-07-10</td>\n",
       "      <td>NaT</td>\n",
       "      <td>NaT</td>\n",
       "      <td>NaT</td>\n",
       "      <td>NaT</td>\n",
       "    </tr>\n",
       "    <tr>\n",
       "      <th>4</th>\n",
       "      <td>UIC</td>\n",
       "      <td>2021-06-30</td>\n",
       "      <td>NaT</td>\n",
       "      <td>NaT</td>\n",
       "      <td>NaT</td>\n",
       "      <td>NaT</td>\n",
       "    </tr>\n",
       "  </tbody>\n",
       "</table>\n",
       "</div>"
      ],
      "text/plain": [
       "           School Application Complete Date Interview Received Date  \\\n",
       "0       Wisconsin                2021-08-04                     NaT   \n",
       "1  Carle Illinois                2021-08-17              2021-10-21   \n",
       "2    Northwestern                2021-08-01              2021-08-30   \n",
       "3       U Chicago                2021-07-10                     NaT   \n",
       "4             UIC                2021-06-30                     NaT   \n",
       "\n",
       "  Rejection Date Waitlist Date Acceptance Date  \n",
       "0     2021-10-25           NaT             NaT  \n",
       "1            NaT           NaT             NaT  \n",
       "2            NaT           NaT      2021-10-22  \n",
       "3            NaT           NaT             NaT  \n",
       "4            NaT           NaT             NaT  "
      ]
     },
     "execution_count": 2,
     "metadata": {},
     "output_type": "execute_result"
    }
   ],
   "source": [
    "data = pd.read_excel(\"cycle.xlsx\", index_col=None)\n",
    "data.head()"
   ]
  },
  {
   "cell_type": "code",
   "execution_count": 3,
   "id": "54b6f5dd",
   "metadata": {},
   "outputs": [
    {
     "data": {
      "text/html": [
       "<div>\n",
       "<style scoped>\n",
       "    .dataframe tbody tr th:only-of-type {\n",
       "        vertical-align: middle;\n",
       "    }\n",
       "\n",
       "    .dataframe tbody tr th {\n",
       "        vertical-align: top;\n",
       "    }\n",
       "\n",
       "    .dataframe thead th {\n",
       "        text-align: right;\n",
       "    }\n",
       "</style>\n",
       "<table border=\"1\" class=\"dataframe\">\n",
       "  <thead>\n",
       "    <tr style=\"text-align: right;\">\n",
       "      <th></th>\n",
       "      <th>Complete</th>\n",
       "      <th>Interview</th>\n",
       "      <th>Rejection</th>\n",
       "      <th>Waitlist</th>\n",
       "      <th>Acceptance</th>\n",
       "    </tr>\n",
       "  </thead>\n",
       "  <tbody>\n",
       "    <tr>\n",
       "      <th>2021-06-24</th>\n",
       "      <td>0.0</td>\n",
       "      <td>0.0</td>\n",
       "      <td>0.0</td>\n",
       "      <td>0.0</td>\n",
       "      <td>0.0</td>\n",
       "    </tr>\n",
       "    <tr>\n",
       "      <th>2021-06-25</th>\n",
       "      <td>1.0</td>\n",
       "      <td>0.0</td>\n",
       "      <td>0.0</td>\n",
       "      <td>0.0</td>\n",
       "      <td>0.0</td>\n",
       "    </tr>\n",
       "    <tr>\n",
       "      <th>2021-06-26</th>\n",
       "      <td>2.0</td>\n",
       "      <td>0.0</td>\n",
       "      <td>0.0</td>\n",
       "      <td>0.0</td>\n",
       "      <td>0.0</td>\n",
       "    </tr>\n",
       "    <tr>\n",
       "      <th>2021-06-27</th>\n",
       "      <td>2.0</td>\n",
       "      <td>0.0</td>\n",
       "      <td>0.0</td>\n",
       "      <td>0.0</td>\n",
       "      <td>0.0</td>\n",
       "    </tr>\n",
       "    <tr>\n",
       "      <th>2021-06-28</th>\n",
       "      <td>2.0</td>\n",
       "      <td>0.0</td>\n",
       "      <td>0.0</td>\n",
       "      <td>0.0</td>\n",
       "      <td>0.0</td>\n",
       "    </tr>\n",
       "  </tbody>\n",
       "</table>\n",
       "</div>"
      ],
      "text/plain": [
       "            Complete  Interview  Rejection  Waitlist  Acceptance\n",
       "2021-06-24       0.0        0.0        0.0       0.0         0.0\n",
       "2021-06-25       1.0        0.0        0.0       0.0         0.0\n",
       "2021-06-26       2.0        0.0        0.0       0.0         0.0\n",
       "2021-06-27       2.0        0.0        0.0       0.0         0.0\n",
       "2021-06-28       2.0        0.0        0.0       0.0         0.0"
      ]
     },
     "execution_count": 3,
     "metadata": {},
     "output_type": "execute_result"
    }
   ],
   "source": [
    "# Store numbers of each action on each date\n",
    "dicts = []\n",
    "\n",
    "# Collect the dates and numbers of actions\n",
    "for column in data.columns:\n",
    "    if column != 'School':\n",
    "        # Convert to date time\n",
    "        data[column] = pd.to_datetime(data[column])\n",
    "        \n",
    "        # Gather number of actions at each date for every type of action\n",
    "        temp_dict = {}\n",
    "        for date in data[column]:\n",
    "            # Get number of actions per date\n",
    "            if not pd.isnull(date):\n",
    "                temp_dict[date] = sum(data[column] <= date)\n",
    "        dicts.append(temp_dict)\n",
    "\n",
    "# Generate data frame\n",
    "cleaned_data = pd.DataFrame(dicts).T\n",
    "cleaned_data = cleaned_data.rename({0:'Complete',1:'Interview',2:'Rejection',3:'Waitlist',4:'Acceptance'},axis=1)\n",
    "# Add starting point\n",
    "cleaned_data.loc[min(cleaned_data.index) - dt.timedelta(1)] = [0,0,0,0,0]\n",
    "cleaned_data = cleaned_data.sort_index()\n",
    "# Fill in any missing days\n",
    "cleaned_data = cleaned_data.reindex(pd.date_range(start=min(cleaned_data.index), end=max(cleaned_data.index)))\n",
    "# Fill in missing data\n",
    "cleaned_data = cleaned_data.ffill()\n",
    "cleaned_data.head()"
   ]
  },
  {
   "cell_type": "code",
   "execution_count": 4,
   "id": "3a17cd23",
   "metadata": {},
   "outputs": [
    {
     "data": {
      "text/plain": [
       "<AxesSubplot:>"
      ]
     },
     "execution_count": 4,
     "metadata": {},
     "output_type": "execute_result"
    },
    {
     "data": {
      "image/png": "[encoded data removed]",
      "text/plain": [
       "<Figure size 432x288 with 1 Axes>"
      ]
     },
     "metadata": {
      "needs_background": "light"
     },
     "output_type": "display_data"
    }
   ],
   "source": [
    "cleaned_data.plot.line()"
   ]
  }
 ],
 "metadata": {
  "kernelspec": {
   "display_name": "Python 3 (ipykernel)",
   "language": "python",
   "name": "python3"
  },
  "language_info": {
   "codemirror_mode": {
    "name": "ipython",
    "version": 3
   },
   "file_extension": ".py",
   "mimetype": "text/x-python",
   "name": "python",
   "nbconvert_exporter": "python",
   "pygments_lexer": "ipython3",
   "version": "3.9.7"
  }
 },
 "nbformat": 4,
 "nbformat_minor": 5
}
